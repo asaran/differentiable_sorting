{
 "cells": [
  {
   "cell_type": "code",
   "execution_count": 43,
   "metadata": {},
   "outputs": [],
   "source": [
    "import tensorflow as tf\n",
    "from tensorflow.python.ops.parallel_for.gradients import jacobian"
   ]
  },
  {
   "cell_type": "code",
   "execution_count": 44,
   "metadata": {},
   "outputs": [],
   "source": [
    "from differentiable_sorting import bitonic_matrices, diff_bisort, diff_argsort\n",
    "\n",
    "# convert to TF tensors\n",
    "tf_matrices = bitonic_matrices(8)"
   ]
  },
  {
   "cell_type": "code",
   "execution_count": 45,
   "metadata": {},
   "outputs": [],
   "source": [
    "tf_input = tf.reshape(tf.convert_to_tensor([5.0, -1.0, 9.5, 13.2, 16.2, 20.5, 42.0, 18.0], dtype=tf.float64), (-1,1))"
   ]
  },
  {
   "cell_type": "code",
   "execution_count": 46,
   "metadata": {},
   "outputs": [
    {
     "name": "stdout",
     "output_type": "stream",
     "text": [
      "Approximate sorting\n",
      "[-1.007  4.996  9.439 13.212 15.948 18.21  20.602 42.   ]\n",
      "\n",
      "Jacobian of sorting process\n",
      "[[7.345e-03 9.926e-01 8.131e-05 3.910e-06 3.441e-08 1.612e-09 9.974e-19\n",
      "  9.611e-09]\n",
      " [9.811e-01 7.372e-03 1.097e-02 5.182e-04 1.355e-05 5.160e-07 2.541e-16\n",
      "  2.252e-06]\n",
      " [1.074e-02 5.430e-05 9.216e-01 6.605e-02 1.184e-03 4.242e-05 1.984e-14\n",
      "  3.298e-04]\n",
      " [7.649e-04 3.825e-06 6.449e-02 8.775e-01 4.801e-02 1.286e-03 5.992e-13\n",
      "  7.938e-03]\n",
      " [1.362e-05 6.680e-08 2.373e-03 4.877e-02 7.066e-01 3.488e-02 2.194e-11\n",
      "  2.074e-01]\n",
      " [3.540e-06 1.320e-08 4.648e-04 6.535e-03 2.234e-01 6.082e-02 6.503e-11\n",
      "  7.088e-01]\n",
      " [3.312e-07 1.647e-09 2.944e-05 6.102e-04 2.087e-02 9.030e-01 1.011e-09\n",
      "  7.553e-02]\n",
      " [2.502e-16 1.251e-18 2.198e-14 3.112e-13 2.905e-11 9.227e-10 1.000e+00\n",
      "  1.463e-10]]\n"
     ]
    }
   ],
   "source": [
    "import numpy as np\n",
    "np.set_printoptions(precision=3)\n",
    "tf_output = tf.reshape(diff_bisort(tf_matrices, tf_input), (-1,))\n",
    "tf_grads = tf.squeeze(jacobian(tf_output, tf_input))\n",
    "\n",
    "with tf.Session() as s:    \n",
    "    sortd, grads = s.run((tf_output, tf_grads))\n",
    "    print(\"Approximate sorting\")\n",
    "    print(sortd)\n",
    "    print()\n",
    "    print(\"Jacobian of sorting process\")\n",
    "    print(grads)"
   ]
  },
  {
   "cell_type": "code",
   "execution_count": null,
   "metadata": {},
   "outputs": [],
   "source": []
  }
 ],
 "metadata": {
  "kernelspec": {
   "display_name": "Python 3",
   "language": "python",
   "name": "python3"
  },
  "language_info": {
   "codemirror_mode": {
    "name": "ipython",
    "version": 3
   },
   "file_extension": ".py",
   "mimetype": "text/x-python",
   "name": "python",
   "nbconvert_exporter": "python",
   "pygments_lexer": "ipython3",
   "version": "3.7.3"
  }
 },
 "nbformat": 4,
 "nbformat_minor": 2
}
