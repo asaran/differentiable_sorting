{
 "cells": [
  {
   "cell_type": "code",
   "execution_count": null,
   "metadata": {},
   "outputs": [],
   "source": [
    "import tensorflow as tf\n",
    "from tensorflow.python.ops.parallel_for.gradients import jacobian"
   ]
  },
  {
   "cell_type": "code",
   "execution_count": null,
   "metadata": {},
   "outputs": [],
   "source": [
    "from differentiable_sorting import bitonic_matrices, diff_sort, diff_argsort\n",
    "\n",
    "# convert to TF tensors\n",
    "tf_matrices = bitonic_matrices(8)"
   ]
  },
  {
   "cell_type": "code",
   "execution_count": null,
   "metadata": {},
   "outputs": [],
   "source": [
    "tf_input = tf.reshape(tf.convert_to_tensor([5.0, -1.0, 9.5, 13.2, 16.2, 20.5, 42.0, 18.0], dtype=tf.float64), (-1,1))"
   ]
  },
  {
   "cell_type": "code",
   "execution_count": null,
   "metadata": {},
   "outputs": [],
   "source": [
    "import numpy as np\n",
    "np.set_printoptions(precision=3)\n",
    "tf_output = tf.reshape(diff_sort(tf_matrices, tf_input), (-1,))\n",
    "tf_grads = tf.squeeze(jacobian(tf_output, tf_input))\n",
    "\n",
    "with tf.Session() as s:    \n",
    "    sortd, grads = s.run((tf_output, tf_grads))\n",
    "    print(\"Approximate sorting\")\n",
    "    print(sortd)\n",
    "    print()\n",
    "    print(\"Jacobian of sorting process\")\n",
    "    print(grads)"
   ]
  },
  {
   "cell_type": "code",
   "execution_count": null,
   "metadata": {},
   "outputs": [],
   "source": []
  }
 ],
 "metadata": {
  "kernelspec": {
   "display_name": "Python [conda env:tensorflow]",
   "language": "python",
   "name": "conda-env-tensorflow-py"
  }
 },
 "nbformat": 4,
 "nbformat_minor": 2
}
