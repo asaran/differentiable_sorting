{
 "cells": [
  {
   "cell_type": "markdown",
   "metadata": {},
   "source": [
    "# Differentiable bitonic sort\n",
    "\n",
    "[Bitonic sorts](https://en.wikipedia.org/wiki/Bitonic_sorter) allow creation of sorting networks with a sequence of fixed conditional swapping operations executed in parallel. A sorting network implements  a map from $\\mathbb{R}^n \\rightarrow \\mathbb{R}^n$, where $n=2^k$ (sorting networks for non-power-of-2 sizes are possible but not trickier).\n",
    "\n",
    "<img src=\"BitonicSort1.svg.png\">\n",
    "\n",
    "*[Image: from Wikipedia, by user Bitonic, CC0](https://en.wikipedia.org/wiki/Bitonic_sorter#/media/File:BitonicSort1.svg)*\n",
    "\n",
    "The sorting network for $n=2^k$ elements has $\\frac{k(k-1)}{2}$ \"layers\" where parallel compare-and-swap operations are used to rearrange a $k$ element vector into sorted order.\n",
    "\n",
    "### Differentiable compare-and-swap\n",
    "\n",
    "If we define the `softmax(a,b)` function (not the traditional \"softmax\" used for classification!) as the continuous approximation to the `max(a,b)` function:\n",
    "\n",
    "$$\\text{softmax}(a,b) = \\log(e^a + e^b) \\approx \\max(a,b).$$\n",
    "\n",
    "We can then fairly obviously write `softmin(a,b)` as:\n",
    "\n",
    "$$\\text{softmin}(a,b) = -\\log(e^{-a} + e^{-b}) \\approx \\min(a,b).$$ More numerically stably we can write: \n",
    "\n",
    "$$\\text{softmin}(a,b) = a + b - \\text{softmax}(a,b).$$\n",
    "\n",
    "These functions obviously aren't equal to max and min, but are relatively close, and differentiable. Note that we now have a differentiable compare-and-swap operation:\n",
    "\n",
    "$$\\text{high} = \\text{softmax}(a,b), \\text{low} = \\text{softmin}(a,b), \\text{where } \\text{low}\\leq \\text{high}$$\n",
    "\n",
    "Alternatively, we can use: \n",
    "$$\\text{smoothmax}(a,b) = \\frac{a (e^{\\alpha a}) + b (e^{\\alpha b})}{e^{\\alpha a}+e^{\\alpha b}}  \\approx \\max(a,b).$$  This has an adjustable smoothness parameter $\\alpha$, with exact maximum as $\\alpha \\rightarrow \\infty$ and pure averaging as $\\alpha \\rightarrow 0$.\n",
    "\n",
    "## Differentiable sorting\n",
    "\n",
    "For each layer in the sorting network, we can split all of the pairwise comparison-and-swaps into left-hand and right-hand sides which can be done simultaneously. We can any write function that selects the relevant elements of the vector as a multiply with a binary matrix.\n",
    "\n",
    "For each layer, we can derive two binary matrices $L \\in \\mathbb{R}^{n \\times \\frac{n}{2}}$ and $R \\in \\mathbb{R}^{n \\times \\frac{n}{2}}$ which select the elements to be compared for the left and right hands respectively. This will result in the comparison between two $\\frac{k}{2}$ length vectors. We can also derive two matrices $L' \\in \\mathbb{R}^{\\frac{n}{2} \\times n}$ and $R' \\in \\mathbb{R}^{\\frac{n}{2} \\times n}$ which put the results of the compare-and-swap operation back into the right positions.\n",
    "\n",
    "Then, each layer $i$ of the sorting process is just:\n",
    "$${\\bf x}_{i+1} = L'_i[\\text{softmin}(L_i{\\bf x_i}, R_i{\\bf x_i})] + R'_i[\\text{softmax}(L_i{\\bf x_i}, R_i{\\bf x_i})]$$\n",
    "$$ = L'_i\\left(-\\log\\left(e^{-L_i{\\bf x}_i} + e^{-R_i{\\bf x}_i}\\right)\\right) +  R'_i\\left(\\log\\left(e^{L_i{\\bf x}_i} + e^{R_i{\\bf x}_i}\\right)\\right)$$\n",
    "which is clearly differentiable (though not very numerically stable -- the usable range of elements $x$ is quite limited in single float precision).\n",
    "\n",
    "All that remains is to compute the matrices $L_i, R_i, L'_i, R'_i$ for each of the layers of the network. \n",
    "\n",
    "This process is excessively computation heavy, but easy to compute. We could also simplify this into two matrix multiplies, at the cost of a vector split and join in the middle (see the `woven` form later in this text). \n",
    "\n",
    "## Example\n",
    "\n",
    "To sort four elements, we have a network like:\n",
    "\n",
    "    0  1  2  3  \n",
    "    ┕>>┙  │  │  \n",
    "    │  │  ┕<<┙  \n",
    "    ┕>>>>>┙  │  \n",
    "    │  │  │  │  \n",
    "    ┕>>┙  │  │  \n",
    "    │  │  ┕>>┙  \n",
    "    \n",
    "This is equivalent to: \n",
    "\n",
    "    x[0], x[1] = cswap(x[0], x[1])\n",
    "    x[3], x[2] = cswap(x[2], x[3])\n",
    "    x[0], x[2] = cswap(x[0], x[2])\n",
    "    x[0], x[1] = cswap(x[0], x[1])\n",
    "    x[2], x[3] = cswap(x[2], x[3])\n",
    "    \n",
    "where `cswap(a,b) = (min(a,b), max(a,b))`\n",
    "\n",
    "Replacing the indexing with matrix multiplies and `cswap` with a `softcswap = (softmin(a,b), softmax(a,b))` we then have the differentiable form.\n",
    "\n"
   ]
  },
  {
   "cell_type": "markdown",
   "metadata": {},
   "source": [
    "# Test functions"
   ]
  },
  {
   "cell_type": "code",
   "execution_count": 112,
   "metadata": {},
   "outputs": [
    {
     "name": "stdout",
     "output_type": "stream",
     "text": [
      " 0>1\t 2<3\t 4>5\t 6<7\t 8>9\t10<11\t12>13\t14<15\t\n",
      "----------------------------------------------------------------\n",
      " 0>2\t 1>3\t 4<6\t 5<7\t 8>10\t 9>11\t12<14\t13<15\t\n",
      " 0>1\t 2>3\t 4<5\t 6<7\t 8>9\t10>11\t12<13\t14<15\t\n",
      "----------------------------------------------------------------\n",
      " 0>4\t 1>5\t 2>6\t 3>7\t 8<12\t 9<13\t10<14\t11<15\t\n",
      " 0>2\t 1>3\t 4>6\t 5>7\t 8<10\t 9<11\t12<14\t13<15\t\n",
      " 0>1\t 2>3\t 4>5\t 6>7\t 8<9\t10<11\t12<13\t14<15\t\n",
      "----------------------------------------------------------------\n",
      " 0>8\t 1>9\t 2>10\t 3>11\t 4>12\t 5>13\t 6>14\t 7>15\t\n",
      " 0>4\t 1>5\t 2>6\t 3>7\t 8>12\t 9>13\t10>14\t11>15\t\n",
      " 0>2\t 1>3\t 4>6\t 5>7\t 8>10\t 9>11\t12>14\t13>15\t\n",
      " 0>1\t 2>3\t 4>5\t 6>7\t 8>9\t10>11\t12>13\t14>15\t\n",
      "----------------------------------------------------------------\n"
     ]
    }
   ],
   "source": [
    "from bitonic_tests import bitonic_network, pretty_bitonic_network\n",
    "\n",
    "def neat_vec(n):\n",
    "    # print a vector neatly    \n",
    "    return \"\\t\".join([f\"{x:6.2f}\" for x in n])\n",
    "\n",
    "# this should match the diagram at the top of the notebook\n",
    "bitonic_network(16)"
   ]
  },
  {
   "cell_type": "code",
   "execution_count": 113,
   "metadata": {
    "scrolled": false
   },
   "outputs": [
    {
     "name": "stdout",
     "output_type": "stream",
     "text": [
      " 0  1  2  3  4  5  6  7 \n",
      " ╭──╯  │  │  │  │  │  │ \n",
      " │  │  ╰──╮  │  │  │  │ \n",
      " │  │  │  │  ╭──╯  │  │ \n",
      " │  │  │  │  │  │  ╰──╮ \n",
      " ╭─────╯  │  │  │  │  │ \n",
      " │  ╭─────╯  │  │  │  │ \n",
      " │  │  │  │  ╰─────╮  │ \n",
      " │  │  │  │  │  ╰─────╮ \n",
      " ╭──╯  │  │  │  │  │  │ \n",
      " │  │  ╭──╯  │  │  │  │ \n",
      " │  │  │  │  ╰──╮  │  │ \n",
      " │  │  │  │  │  │  ╰──╮ \n",
      " ╭───────────╯  │  │  │ \n",
      " │  ╭───────────╯  │  │ \n",
      " │  │  ╭───────────╯  │ \n",
      " │  │  │  ╭───────────╯ \n",
      " ╭─────╯  │  │  │  │  │ \n",
      " │  ╭─────╯  │  │  │  │ \n",
      " │  │  │  │  ╭─────╯  │ \n",
      " │  │  │  │  │  ╭─────╯ \n",
      " ╭──╯  │  │  │  │  │  │ \n",
      " │  │  ╭──╯  │  │  │  │ \n",
      " │  │  │  │  ╭──╯  │  │ \n",
      " │  │  │  │  │  │  ╭──╯ \n"
     ]
    }
   ],
   "source": [
    "pretty_bitonic_network(8)"
   ]
  },
  {
   "cell_type": "markdown",
   "metadata": {},
   "source": [
    "# Vectorised functions"
   ]
  },
  {
   "cell_type": "markdown",
   "metadata": {},
   "source": [
    "## Testing sorting network"
   ]
  },
  {
   "cell_type": "code",
   "execution_count": 114,
   "metadata": {},
   "outputs": [
    {
     "name": "stdout",
     "output_type": "stream",
     "text": [
      " 24.00\t 45.00\t104.00\t123.00\t149.00\t163.00\t180.00\t183.00\n",
      " 16.00\t 16.00\t 18.00\t 46.00\t 75.00\t 79.00\t145.00\t193.00\n",
      " 16.00\t 28.00\t 39.00\t 68.00\t 75.00\t 90.00\t163.00\t179.00\n",
      " 14.00\t 21.00\t 49.00\t 65.00\t 76.00\t 84.00\t102.00\t166.00\n",
      " 10.00\t 51.00\t 88.00\t 97.00\t 99.00\t124.00\t134.00\t141.00\n"
     ]
    }
   ],
   "source": [
    "# Test sorting\n",
    "import autograd.numpy as np # we can use plain numpy as well (but can't take grad!)\n",
    "\n",
    "\n",
    "from differentiable_sorting import bitonic_matrices, diff_sort, diff_argsort\n",
    "from differentiable_sorting import softmax, smoothmax, softmax_smooth\n",
    "\n",
    "matrices = bitonic_matrices(8)\n",
    "\n",
    "\n",
    "# test bitonic sorting with exact maximum; this should work exactly as regular sorting\n",
    "for i in range(5):\n",
    "    # these should all be in sorted order\n",
    "    test = np.random.randint(0, 200, 8)\n",
    "    print(neat_vec(diff_sort(matrices, test, softmax=np.maximum)))"
   ]
  },
  {
   "cell_type": "markdown",
   "metadata": {},
   "source": [
    "## Differentiable sorting test"
   ]
  },
  {
   "cell_type": "code",
   "execution_count": 115,
   "metadata": {},
   "outputs": [
    {
     "name": "stdout",
     "output_type": "stream",
     "text": [
      "Softmax sorting    -171.00\t-143.00\t-106.00\t-27.31\t-25.69\t  7.00\t 58.00\t 68.00\n",
      "Smoothmax sorting  -171.00\t-143.00\t-106.00\t-26.73\t-26.27\t  7.00\t 58.00\t 68.00\n",
      "Exact sorting      -171.00\t-143.00\t-106.00\t-27.00\t-26.00\t  7.00\t 58.00\t 68.00\n",
      "\n",
      "Softmax sorting    -169.00\t-79.00\t 41.00\t 82.00\t104.00\t140.00\t158.00\t165.00\n",
      "Smoothmax sorting  -169.00\t-79.00\t 41.00\t 82.00\t104.00\t140.00\t158.01\t164.99\n",
      "Exact sorting      -169.00\t-79.00\t 41.00\t 82.00\t104.00\t140.00\t158.00\t165.00\n",
      "\n",
      "Softmax sorting    -162.00\t-110.00\t-51.00\t-19.00\t 30.00\t 56.00\t 81.00\t170.00\n",
      "Smoothmax sorting  -162.00\t-110.00\t-51.00\t-19.00\t 30.00\t 56.00\t 81.00\t170.00\n",
      "Exact sorting      -162.00\t-110.00\t-51.00\t-19.00\t 30.00\t 56.00\t 81.00\t170.00\n",
      "\n",
      "Softmax sorting    -156.00\t-112.01\t-106.99\t-96.00\t-55.01\t-49.99\t-16.00\t  7.00\n",
      "Smoothmax sorting  -156.00\t-111.97\t-107.03\t-96.00\t-54.97\t-50.03\t-16.00\t  7.00\n",
      "Exact sorting      -156.00\t-112.00\t-107.00\t-96.00\t-55.00\t-50.00\t-16.00\t  7.00\n",
      "\n",
      "Softmax sorting    -169.00\t-151.00\t-92.00\t 10.00\t 19.00\t 53.00\t 92.00\t160.00\n",
      "Smoothmax sorting  -169.00\t-151.00\t-92.00\t 10.00\t 19.00\t 53.00\t 92.00\t160.00\n",
      "Exact sorting      -169.00\t-151.00\t-92.00\t 10.00\t 19.00\t 53.00\t 92.00\t160.00\n",
      "\n"
     ]
    }
   ],
   "source": [
    "# Differentiable sorting \n",
    "np.set_printoptions(precision=2)\n",
    "matrices = bitonic_matrices(8) \n",
    "\n",
    "\n",
    "for i in range(5):\n",
    "    # note the range here is chosen to work well: small values will not work well! \n",
    "    test = np.random.randint(-200,200,8)\n",
    "    print(\"Softmax sorting   \", neat_vec(diff_sort(matrices, test, softmax=softmax)))\n",
    "    print(\"Smoothmax sorting \", neat_vec(diff_sort(matrices, test, softmax=smoothmax)))\n",
    "    print(\"Exact sorting     \", neat_vec(diff_sort(matrices, test, softmax=np.maximum)))\n",
    "    \n",
    "    print()"
   ]
  },
  {
   "cell_type": "markdown",
   "metadata": {},
   "source": [
    "### Positive-only sorting\n",
    "Slightly better accuracy can be achieved with normalised softmax *if* all elements are strictly positive:"
   ]
  },
  {
   "cell_type": "code",
   "execution_count": 116,
   "metadata": {},
   "outputs": [
    {
     "name": "stdout",
     "output_type": "stream",
     "text": [
      "Softmax sorting     -0.52\t  0.91\t  1.56\t  2.96\t  5.04\t  6.44\t  7.09\t  8.52\n",
      "Posmax sorting       0.13\t  0.76\t  1.38\t  2.67\t  5.03\t  6.43\t  7.09\t  8.52\n",
      "Exact sorting        1.00\t  1.00\t  1.00\t  2.00\t  6.00\t  7.00\t  7.00\t  7.00\n",
      "\n",
      "Softmax sorting      0.80\t  3.05\t  3.85\t  5.29\t  5.19\t  6.58\t  6.93\t  8.32\n",
      "Posmax sorting       0.88\t  3.02\t  3.84\t  5.27\t  5.19\t  6.57\t  6.92\t  8.31\n",
      "Exact sorting        1.00\t  4.00\t  4.00\t  6.00\t  6.00\t  6.00\t  6.00\t  7.00\n",
      "\n",
      "Softmax sorting      0.47\t  2.38\t  2.90\t  4.28\t  4.27\t  5.67\t  6.26\t  7.77\n",
      "Posmax sorting       0.66\t  2.31\t  2.87\t  4.23\t  4.26\t  5.65\t  6.25\t  7.76\n",
      "Exact sorting        1.00\t  3.00\t  4.00\t  4.00\t  4.00\t  5.00\t  6.00\t  7.00\n",
      "\n",
      "Softmax sorting      0.09\t  1.49\t  2.13\t  3.59\t  4.10\t  5.76\t  6.72\t  8.13\n",
      "Posmax sorting       0.44\t  1.40\t  2.06\t  3.48\t  4.06\t  5.73\t  6.71\t  8.12\n",
      "Exact sorting        1.00\t  2.00\t  2.00\t  3.00\t  4.00\t  6.00\t  7.00\t  7.00\n",
      "\n",
      "Softmax sorting      0.23\t  2.06\t  2.78\t  4.23\t  4.47\t  5.88\t  6.48\t  7.88\n",
      "Posmax sorting       0.51\t  1.93\t  2.74\t  4.16\t  4.46\t  5.87\t  6.48\t  7.87\n",
      "Exact sorting        1.00\t  2.00\t  3.00\t  5.00\t  5.00\t  5.00\t  6.00\t  7.00\n",
      "\n"
     ]
    }
   ],
   "source": [
    "for i in range(5):\n",
    "    \n",
    "    test = np.random.randint(1,8,8)\n",
    "    print(\"Softmax sorting   \", neat_vec(diff_sort(matrices, test, softmax=softmax)))\n",
    "    print(\"Posmax sorting    \", neat_vec(diff_sort(matrices, test, softmax=lambda a,b: softmax(a,b,normalize=1))))\n",
    "    print(\"Exact sorting     \", neat_vec(diff_sort(matrices, test, softmax=np.maximum)))\n",
    "    \n",
    "    print()"
   ]
  },
  {
   "cell_type": "markdown",
   "metadata": {},
   "source": [
    "## Sorting complex numbers\n",
    "The softmax/smoothmax functions are analytic as well as differentiable, so \n",
    "we can also \"sort\" complex numbers. This approximately sorts them by the real part with smoothmax.\n",
    "Softmax forces the points towards the real line."
   ]
  },
  {
   "cell_type": "code",
   "execution_count": 187,
   "metadata": {},
   "outputs": [
    {
     "data": {
      "text/plain": [
       "<matplotlib.legend.Legend at 0x221cad52438>"
      ]
     },
     "execution_count": 187,
     "metadata": {},
     "output_type": "execute_result"
    },
    {
     "data": {
      "image/png": "[encoded data removed]",
      "text/plain": [
       "<Figure size 432x288 with 1 Axes>"
      ]
     },
     "metadata": {
      "needs_background": "light"
     },
     "output_type": "display_data"
    }
   ],
   "source": [
    "import matplotlib.pyplot as plt\n",
    "%matplotlib inline\n",
    "\n",
    "\n",
    "test = np.random.randint(-200,200,8) + 1j * np.random.randint(-200, 200, 8)\n",
    "fig, ax = plt.subplots()\n",
    "\n",
    "def label_complex(zs, color, xyoffset, label):\n",
    "    ax.scatter(np.real(zs), np.imag(zs), c=color, label=label)    \n",
    "    for i, z in enumerate(zs):\n",
    "        ax.annotate(str(i), (np.real(z), np.imag(z)), color=color, textcoords=\"offset points\", xytext=xyoffset)\n",
    "\n",
    "        \n",
    "label_complex(test, 'C0', (0,5), label=\"Pre-sort\")\n",
    "\n",
    "smooth_sorted = diff_sort(matrices, test, softmax=smoothmax)\n",
    "label_complex(smooth_sorted, 'C1', (5, -5), \"Post-sort\")\n",
    "ax.axhline(0, c='k')\n",
    "ax.axvline(0, c='k')\n",
    "ax.set_xlabel(\"Real\")\n",
    "ax.set_ylabel(\"Imag\")\n",
    "ax.set_frame_on(False)\n",
    "ax.legend()\n",
    "\n"
   ]
  },
  {
   "cell_type": "markdown",
   "metadata": {},
   "source": [
    "# Relaxed sorting\n",
    "We can define a slighly modified function which interpolates between `softmax(a,b)` and `mean(a,b)`. The result is a sorting function that can be relaxed from sorting to averaging."
   ]
  },
  {
   "cell_type": "code",
   "execution_count": 188,
   "metadata": {},
   "outputs": [
    {
     "name": "stdout",
     "output_type": "stream",
     "text": [
      "Exact sorting             -110.00\t-67.00\t-65.00\t-50.00\t 14.00\t 95.00\t141.00\t151.00\n",
      "\n",
      "Softmax.   smooth[0.00]   -110.00\t-67.23\t-64.77\t-50.00\t 14.00\t 95.00\t141.00\t151.00\n",
      "Smoothmax. alpha=[1.00]   -110.00\t-66.49\t-65.51\t-50.00\t 14.00\t 95.00\t141.00\t151.00\n",
      "\n",
      "Softmax.   smooth[0.14]   -58.73\t-45.32\t-43.86\t-29.66\t 29.29\t 65.25\t 94.76\t 97.28\n",
      "Smoothmax. alpha=[0.86]   -110.00\t-66.37\t-65.63\t-50.00\t 14.00\t 95.00\t141.00\t151.00\n",
      "\n",
      "Softmax.   smooth[0.29]   -27.06\t-26.10\t-23.71\t-13.84\t 32.30\t 44.70\t 60.78\t 61.94\n",
      "Smoothmax. alpha=[0.71]   -110.00\t-66.25\t-65.75\t-50.00\t 14.00\t 95.00\t141.01\t150.99\n",
      "\n",
      "Softmax.   smooth[0.43]   -11.79\t-11.12\t -3.78\t -1.06\t 28.79\t 30.93\t 37.71\t 39.34\n",
      "Smoothmax. alpha=[0.57]   -110.00\t-66.15\t-65.85\t-50.00\t 14.00\t 95.00\t141.03\t150.97\n",
      "\n",
      "Softmax.   smooth[0.57]    -0.14\t  0.34\t  7.05\t  7.66\t 22.06\t 22.55\t 24.25\t 25.22\n",
      "Smoothmax. alpha=[0.43]   -110.00\t-66.05\t-65.91\t-50.03\t 14.00\t 95.00\t141.14\t150.86\n",
      "\n",
      "Softmax.   smooth[0.71]     8.17\t  8.48\t 11.79\t 12.10\t 16.30\t 16.61\t 17.60\t 17.93\n",
      "Smoothmax. alpha=[0.29]   -110.00\t-65.86\t-65.81\t-50.33\t 14.00\t 95.00\t141.54\t150.46\n",
      "\n",
      "Softmax.   smooth[0.86]    12.56\t 12.71\t 12.98\t 13.13\t 14.20\t 14.35\t 14.46\t 14.61\n",
      "Smoothmax. alpha=[0.14]   -109.84\t-64.59\t-64.47\t-53.10\t 13.99\t 95.08\t142.87\t149.05\n",
      "\n",
      "Softmax.   smooth[1.00]    13.62\t 13.62\t 13.62\t 13.62\t 13.62\t 13.62\t 13.62\t 13.62\n",
      "Smoothmax. alpha=[0.00]    13.62\t 13.62\t 13.62\t 13.62\t 13.62\t 13.62\t 13.62\t 13.62\n",
      "\n",
      "Mean 13.62\n",
      "\n"
     ]
    }
   ],
   "source": [
    "\n",
    "# Differentiable smoothed sorting \n",
    "test = np.random.randint(-200,200,8)\n",
    "\n",
    "print(\"Exact sorting            \", neat_vec(diff_sort(matrices, test, np.maximum)))\n",
    "print()\n",
    "for smooth in np.linspace(0, 1, 8):    \n",
    "    print(f\"Softmax.   smooth[{smooth:.2f}]  \", neat_vec(diff_sort(matrices, test, lambda a,b:softmax_smooth(a,b,smooth=smooth))))\n",
    "    # smoothmax's alpha is the inverse of diff_bisort_smooth\n",
    "    print(f\"Smoothmax. alpha=[{1-smooth:.2f}]  \", neat_vec(diff_sort(matrices, test, lambda a,b:smoothmax(a,b, alpha=1-smooth))))\n",
    "    print()\n",
    "    \n",
    "print(f\"Mean {np.mean(test):.2f}\")\n",
    "print()"
   ]
  },
  {
   "cell_type": "markdown",
   "metadata": {},
   "source": [
    "## Derivatives of the sorting process"
   ]
  },
  {
   "cell_type": "code",
   "execution_count": 197,
   "metadata": {},
   "outputs": [
    {
     "data": {
      "text/plain": [
       "array([[0.0016, 0.0009, 0.0024, 0.0259, 0.0531, 0.0531, 0.0282, 0.8346],\n",
       "       [0.026 , 0.0024, 0.0259, 0.0032, 0.8338, 0.0282, 0.0282, 0.0524],\n",
       "       [0.833 , 0.0523, 0.0024, 0.0258, 0.0275, 0.0281, 0.0274, 0.0033],\n",
       "       [0.0281, 0.0276, 0.0009, 0.0017, 0.0282, 0.8329, 0.0282, 0.0523],\n",
       "       [0.0524, 0.8344, 0.0532, 0.029 , 0.0017, 0.0261, 0.0017, 0.0017],\n",
       "       [0.004 , 0.0516, 0.8346, 0.0524, 0.0266, 0.0024, 0.0266, 0.0017],\n",
       "       [0.0267, 0.0032, 0.0275, 0.0282, 0.0274, 0.0266, 0.833 , 0.0274],\n",
       "       [0.0282, 0.0274, 0.0531, 0.8339, 0.0017, 0.0024, 0.0266, 0.0266]])"
      ]
     },
     "execution_count": 197,
     "metadata": {},
     "output_type": "execute_result"
    }
   ],
   "source": [
    "\n",
    "from autograd import jacobian\n",
    "\n",
    "test = np.random.randint(-200,200,8)\n",
    "# show that we can take the derivative\n",
    "jac_sort = jacobian(diff_sort, argnum=1)\n",
    "jac_sort(matrices, test, softmax=lambda a,b:softmax_smooth(a,b,0.06)) # slight relaxation"
   ]
  },
  {
   "cell_type": "code",
   "execution_count": 202,
   "metadata": {},
   "outputs": [
    {
     "name": "stdout",
     "output_type": "stream",
     "text": [
      "-40.00\t -7.93\t -4.07\t 14.00\t 25.00\t 41.00\t141.00\t195.00\n"
     ]
    },
    {
     "data": {
      "text/plain": [
       "array([[ 0.    , -0.    ,  0.    ,  0.    , -0.    ,  0.    ,  0.    ,\n",
       "         1.    ],\n",
       "       [-0.0908,  0.    , -0.    ,  0.    ,  1.091 , -0.0002, -0.    ,\n",
       "        -0.    ],\n",
       "       [ 1.0916, -0.    , -0.    , -0.    , -0.0909, -0.0008,  0.    ,\n",
       "         0.    ],\n",
       "       [-0.0009, -0.0182,  0.    , -0.    , -0.0001,  1.0192, -0.    ,\n",
       "        -0.    ],\n",
       "       [-0.    ,  1.023 , -0.0047, -0.    ,  0.    , -0.0182, -0.    ,\n",
       "         0.    ],\n",
       "       [ 0.    , -0.0047,  1.0047, -0.    , -0.    ,  0.    , -0.    ,\n",
       "        -0.    ],\n",
       "       [-0.    ,  0.    , -0.    , -0.    ,  0.    , -0.    ,  1.    ,\n",
       "        -0.    ],\n",
       "       [ 0.    , -0.    ,  0.    ,  1.    , -0.    ,  0.    , -0.    ,\n",
       "         0.    ]])"
      ]
     },
     "execution_count": 202,
     "metadata": {},
     "output_type": "execute_result"
    }
   ],
   "source": [
    "# the same, but using smoothmax\n",
    "print(neat_vec(diff_sort(matrices, test, smoothmax)))\n",
    "jac_sort(matrices, test,  lambda a,b:smoothmax(a,b,alpha=0.5))"
   ]
  },
  {
   "cell_type": "markdown",
   "metadata": {},
   "source": [
    "## Woven form\n",
    "We can \"weave\" the four matrices into two matrices for fewer multiplies at the cost of having to split and join the matrices at each layer."
   ]
  },
  {
   "cell_type": "code",
   "execution_count": 208,
   "metadata": {},
   "outputs": [
    {
     "name": "stdout",
     "output_type": "stream",
     "text": [
      "Exact sorting       -40.00\t -8.00\t -4.00\t 14.00\t 25.00\t 41.00\t141.00\t195.00\n",
      "Diff. (std.)        -40.00\t -7.93\t -4.07\t 14.00\t 25.00\t 41.00\t141.00\t195.00\n",
      "Diff. (woven)       -40.00\t -7.93\t -4.07\t 14.00\t 25.00\t 41.00\t141.00\t195.00\n"
     ]
    }
   ],
   "source": [
    "from differentiable_sorting import bitonic_woven_matrices, diff_sort_weave\n",
    "\n",
    "woven_matrices = bitonic_woven_matrices(8)\n",
    "\n",
    "print(\"Exact sorting      \", neat_vec(diff_sort(matrices, test, np.maximum)))\n",
    "print(f\"Diff. (std.)       \", neat_vec(diff_sort(matrices, test, smoothmax)))\n",
    "print(f\"Diff. (woven)      \", neat_vec(diff_sort_weave(woven_matrices, test, smoothmax)))\n",
    "        "
   ]
  },
  {
   "cell_type": "markdown",
   "metadata": {},
   "source": [
    "## Differentiable ranking / argsort\n",
    "We can use a differentiable similarity measure between the input and output of the vector, e.g. an RBF kernel. We can use this to generate a normalised similarity matrix and apply this to a vector `[1, 2, 3, ..., n]`. This gives a differentiable ranking function.\n",
    "\n",
    "As `sigma` gets larger, the result converges to giving all values the mean rank; as it goes to zero the result converges to the true rank."
   ]
  },
  {
   "cell_type": "code",
   "execution_count": 209,
   "metadata": {},
   "outputs": [],
   "source": [
    "from differentiable_sorting import order_matrix, diff_argsort"
   ]
  },
  {
   "cell_type": "code",
   "execution_count": 210,
   "metadata": {},
   "outputs": [],
   "source": [
    "matrices = bitonic_matrices(8)"
   ]
  },
  {
   "cell_type": "code",
   "execution_count": 212,
   "metadata": {},
   "outputs": [
    {
     "name": "stdout",
     "output_type": "stream",
     "text": [
      "x               5.00\t -1.00\t  9.50\t 13.20\t 16.20\t 10.50\t 42.00\t 18.00\n",
      "diff_argsort    1.00\t  0.00\t  2.05\t  4.00\t  5.00\t  2.97\t  7.00\t  6.00\n",
      "exact argsort   1.00\t  0.00\t  2.00\t  5.00\t  3.00\t  4.00\t  7.00\t  6.00\n"
     ]
    }
   ],
   "source": [
    "x = [5.0, -1.0, 9.5, 13.2, 16.2, 10.5, 42.0, 18.0]\n",
    "\n",
    "\n",
    "print(\"x            \", neat_vec(x))\n",
    "# show argsort\n",
    "ranks = diff_argsort(matrices, x, sigma=0.5)\n",
    "print(\"diff_argsort \", neat_vec(ranks))\n",
    "print(\"exact argsort\",neat_vec(np.argsort(ranks)))"
   ]
  },
  {
   "cell_type": "code",
   "execution_count": 213,
   "metadata": {},
   "outputs": [
    {
     "name": "stdout",
     "output_type": "stream",
     "text": [
      "1 1\n",
      "6 6\n"
     ]
    }
   ],
   "source": [
    "# we now have differentiable argmax and argmin by indexing the rank vector\n",
    "print(np.argmin(x), int(ranks[0]+0.5))\n",
    "print(np.argmax(x), int(ranks[-1]+0.5))"
   ]
  },
  {
   "cell_type": "markdown",
   "metadata": {},
   "source": [
    "## Smoothing ranks\n",
    "We can again relax argsort back to the mean rank:"
   ]
  },
  {
   "cell_type": "code",
   "execution_count": 215,
   "metadata": {},
   "outputs": [
    {
     "name": "stdout",
     "output_type": "stream",
     "text": [
      "Smoothed ranks\n",
      "sigma=    0.1  |   1.00\t  0.00\t  2.00\t  4.00\t  5.00\t  3.00\t  7.00\t  6.00\n",
      "sigma=    1.0  |   1.00\t  0.00\t  2.33\t  3.97\t  5.12\t  2.73\t  7.00\t  5.85\n",
      "sigma=   10.0  |   2.55\t  1.92\t  3.01\t  3.38\t  3.65\t  3.11\t  6.79\t  3.82\n",
      "sigma=  100.0  |   3.47\t  3.45\t  3.48\t  3.49\t  3.49\t  3.48\t  3.56\t  3.50\n",
      "sigma= 1000.0  |   3.50\t  3.50\t  3.50\t  3.50\t  3.50\t  3.50\t  3.50\t  3.50\n"
     ]
    }
   ],
   "source": [
    "print(\"Smoothed ranks\")\n",
    "test = x\n",
    "for sigma in [0.1, 1, 10, 100, 1000]:     \n",
    "    ranks = diff_argsort(matrices, test, sigma=sigma) \n",
    "    print(f\"sigma={sigma:7.1f}  |\", neat_vec(ranks))"
   ]
  },
  {
   "cell_type": "code",
   "execution_count": 216,
   "metadata": {},
   "outputs": [
    {
     "name": "stdout",
     "output_type": "stream",
     "text": [
      "[[ 0.0008 -0.     -0.0005 -0.     -0.     -0.0002 -0.     -0.    ]\n",
      " [-0.      0.     -0.     -0.     -0.     -0.     -0.     -0.    ]\n",
      " [-0.0026 -0.      0.2329 -0.0221 -0.0017 -0.2062 -0.     -0.0002]\n",
      " [-0.0007 -0.     -0.0307  0.1461 -0.0328 -0.0764 -0.     -0.0055]\n",
      " [-0.     -0.     -0.0016 -0.0319  0.2241 -0.0023 -0.     -0.1883]\n",
      " [-0.0029 -0.     -0.2093 -0.0656 -0.004   0.2827 -0.     -0.001 ]\n",
      " [-0.     -0.     -0.     -0.     -0.     -0.      0.     -0.    ]\n",
      " [-0.     -0.     -0.0009 -0.0128 -0.1914 -0.0023 -0.      0.2075]]\n"
     ]
    }
   ],
   "source": [
    "np.set_printoptions(precision=4)\n",
    "jac_rank = jacobian(diff_argsort, argnum=1)\n",
    "print(jac_rank(matrices, np.array(test), 1.0) )"
   ]
  },
  {
   "cell_type": "code",
   "execution_count": 217,
   "metadata": {},
   "outputs": [
    {
     "name": "stdout",
     "output_type": "stream",
     "text": [
      "diff_argsort   0.13\t  1.09\t  2.00\t  3.11\t  6.99\t  6.00\t  5.00\t  3.11\n",
      "argsort        0.00\t  1.00\t  2.00\t  3.00\t  7.00\t  6.00\t  5.00\t  4.00\n",
      "Jacobian of diff_argsort(x)\n",
      "[[ 2.1616 -1.0588 -0.5227 -0.2867 -0.0101 -0.0175 -0.0556 -0.2102]\n",
      " [-0.0658  0.5622 -0.1859 -0.1551 -0.0048 -0.0106 -0.0352 -0.1049]\n",
      " [-0.0121 -0.0131  0.0406 -0.0051 -0.0003 -0.0005 -0.0019 -0.0076]\n",
      " [-0.0123 -0.0252 -0.1084  0.5644 -0.0505 -0.0863 -0.1414 -0.1404]\n",
      " [-0.0006 -0.001  -0.0029 -0.0051  0.1036 -0.0579 -0.0285 -0.0077]\n",
      " [-0.0004 -0.0008 -0.0024 -0.004  -0.0015  0.0281 -0.0125 -0.0066]\n",
      " [-0.0002 -0.0003 -0.0008 -0.0015 -0.016  -0.0177  0.038  -0.0014]\n",
      " [-0.0123 -0.0252 -0.1084 -0.2095 -0.0505 -0.0863 -0.1414  0.6334]]\n"
     ]
    }
   ],
   "source": [
    "matrices = bitonic_matrices(8)\n",
    "\n",
    "x = [1, 2, 3, 4, 8, 7, 6, 4]\n",
    "ranks = diff_argsort(matrices, x, sigma=0.25)\n",
    "print(\"diff_argsort\", neat_vec(ranks))\n",
    "print(\"argsort     \", neat_vec(np.argsort(ranks)))\n",
    "\n",
    "print(\"Jacobian of diff_argsort(x)\")\n",
    "print(jac_rank(matrices, np.array(x), 0.25))"
   ]
  },
  {
   "cell_type": "code",
   "execution_count": 220,
   "metadata": {},
   "outputs": [
    {
     "name": "stdout",
     "output_type": "stream",
     "text": [
      "x          41.00\t  2.00\t 30.00\t 40.00\t 50.00\t 60.00\t 70.00\t190.00\n",
      "d_rank/dx  -0.68\t -0.00\t -0.00\t  0.68\t -0.00\t -0.00\t -0.00\t  0.00\n"
     ]
    }
   ],
   "source": [
    "matrices = bitonic_matrices(8)\n",
    "from autograd import grad\n",
    "\n",
    "# which elements cause the biggest change in ranking if adjusted?\n",
    "# we can compute this directly:\n",
    "x = [41, 2, 30, 40, 50, 60, 70, 190]\n",
    "\n",
    "# approximate change in rank as first moment of ranks\n",
    "rank_change = lambda x: np.sum((diff_argsort(matrices, x, sigma=1.0)* np.arange(1,9)))\n",
    "grad_rank_change = grad(rank_change)\n",
    "print(\"x        \", neat_vec(x))\n",
    "print(\"d_rank/dx\", neat_vec(grad_rank_change(np.array(x))))\n",
    "\n"
   ]
  },
  {
   "cell_type": "markdown",
   "metadata": {},
   "source": [
    "# PyTorch example\n",
    "We can verify that this is both parallelisable on the GPU and fully differentiable."
   ]
  },
  {
   "cell_type": "code",
   "execution_count": 81,
   "metadata": {},
   "outputs": [
    {
     "name": "stdout",
     "output_type": "stream",
     "text": [
      "Device: cuda:0\n"
     ]
    }
   ],
   "source": [
    "import torch\n",
    "import numpy as np\n",
    "from torch.autograd import Variable\n",
    "import torch.nn.functional as F\n",
    "device = torch.device(\"cuda:0\" if torch.cuda.is_available() else \"cpu\")\n",
    "print('Device:', device)"
   ]
  },
  {
   "cell_type": "code",
   "execution_count": 82,
   "metadata": {},
   "outputs": [],
   "source": [
    "from differentiable_sorting_torch import softmax, diff_argsort\n",
    "from differentiable_sorting import diff_sort\n",
    "matrices = bitonic_matrices(16)\n",
    "torch_matrices = [[torch.from_numpy(matrix).float().to(device) for matrix in matrix_set] for matrix_set in matrices]\n"
   ]
  },
  {
   "cell_type": "code",
   "execution_count": 83,
   "metadata": {},
   "outputs": [
    {
     "name": "stdout",
     "output_type": "stream",
     "text": [
      "tensor([[4.5973e-04, 3.3933e-02, 7.3613e-01, 5.7220e-06, 7.3584e-03, 1.8311e-02,\n",
      "         1.3363e-02, 2.3068e-03, 1.7365e-01, 5.7429e-03, 7.0045e-06, 2.8817e-05,\n",
      "         4.1973e-03, 3.6804e-03, 3.1447e-04, 5.0413e-04],\n",
      "        [4.8785e-04, 4.3964e-02, 1.9875e-01, 7.2420e-06, 1.1447e-02, 3.0540e-02,\n",
      "         2.0577e-02, 3.3834e-03, 6.5341e-01, 1.7145e-02, 2.0131e-05, 8.2905e-05,\n",
      "         9.5225e-03, 8.5303e-03, 8.1938e-04, 1.3184e-03],\n",
      "        [4.2167e-03, 2.7968e-01, 2.7102e-02, 5.4494e-05, 7.8724e-02, 2.0756e-01,\n",
      "         1.4958e-01, 2.2536e-02, 7.6766e-02, 4.5877e-02, 7.1609e-05, 3.0935e-04,\n",
      "         5.2884e-02, 4.5629e-02, 3.4320e-03, 5.5709e-03],\n",
      "        [5.1660e-03, 2.5247e-01, 2.4786e-02, 6.6891e-05, 7.6780e-02, 1.9704e-01,\n",
      "         1.5687e-01, 2.1487e-02, 5.0643e-02, 5.9974e-02, 7.6715e-05, 3.4016e-04,\n",
      "         7.7280e-02, 6.5229e-02, 4.5771e-03, 7.2146e-03],\n",
      "        [1.4384e-02, 9.4579e-02, 3.0093e-03, 1.8639e-04, 1.0764e-01, 1.2278e-01,\n",
      "         1.3674e-01, 5.6585e-02, 1.1777e-02, 1.3785e-01, 3.1020e-04, 1.3189e-03,\n",
      "         1.4208e-01, 1.3014e-01, 1.5501e-02, 2.5118e-02],\n",
      "        [1.4207e-02, 9.5981e-02, 3.1642e-03, 1.7407e-04, 1.0307e-01, 1.3132e-01,\n",
      "         1.4680e-01, 5.3570e-02, 1.1398e-02, 1.3862e-01, 3.4133e-04, 1.4380e-03,\n",
      "         1.3319e-01, 1.2384e-01, 1.6431e-02, 2.6465e-02],\n",
      "        [1.9670e-02, 7.5964e-02, 2.9877e-03, 2.6209e-04, 1.5066e-01, 9.9316e-02,\n",
      "         1.1669e-01, 9.0818e-02, 7.8987e-03, 1.4319e-01, 3.4490e-04, 1.5380e-03,\n",
      "         1.2555e-01, 1.2368e-01, 1.5249e-02, 2.6168e-02],\n",
      "        [1.9271e-02, 7.6437e-02, 3.0317e-03, 2.5127e-04, 1.4403e-01, 1.0184e-01,\n",
      "         1.1907e-01, 8.7000e-02, 7.9454e-03, 1.4730e-01, 3.5789e-04, 1.5925e-03,\n",
      "         1.2525e-01, 1.2390e-01, 1.5763e-02, 2.6961e-02],\n",
      "        [9.3685e-02, 1.3821e-02, 2.7234e-04, 2.0684e-03, 9.4396e-02, 2.3153e-02,\n",
      "         3.5742e-02, 1.5187e-01, 2.2822e-03, 1.0362e-01, 4.3838e-03, 1.4145e-02,\n",
      "         1.2054e-01, 1.3479e-01, 8.8949e-02, 1.1628e-01],\n",
      "        [9.3294e-02, 1.3716e-02, 2.8053e-04, 2.0780e-03, 9.5408e-02, 2.4164e-02,\n",
      "         3.7319e-02, 1.6534e-01, 2.0748e-03, 9.6028e-02, 4.6292e-03, 1.4848e-02,\n",
      "         1.0779e-01, 1.2088e-01, 9.6224e-02, 1.2592e-01],\n",
      "        [2.0925e-01, 9.2633e-03, 2.3339e-04, 5.0884e-03, 6.0492e-02, 2.0387e-02,\n",
      "         3.0750e-02, 1.4821e-01, 8.9527e-04, 4.6573e-02, 7.0969e-03, 2.6051e-02,\n",
      "         3.9016e-02, 4.5977e-02, 1.6370e-01, 1.8701e-01],\n",
      "        [2.7445e-01, 7.9823e-03, 1.9360e-04, 6.2927e-03, 5.3573e-02, 1.7542e-02,\n",
      "         2.6823e-02, 1.3388e-01, 9.1309e-04, 4.3353e-02, 7.3285e-03, 2.8382e-02,\n",
      "         4.1861e-02, 4.8357e-02, 1.5125e-01, 1.5782e-01],\n",
      "        [1.7331e-01, 1.2653e-03, 3.3603e-05, 2.6744e-02, 9.5518e-03, 3.7706e-03,\n",
      "         6.0474e-03, 4.0170e-02, 2.1345e-04, 8.5532e-03, 7.3450e-02, 1.9766e-01,\n",
      "         1.1754e-02, 1.4452e-02, 2.5436e-01, 1.7867e-01],\n",
      "        [5.8270e-02, 6.7665e-04, 1.9530e-05, 7.3802e-02, 5.5178e-03, 1.8113e-03,\n",
      "         2.9148e-03, 1.8950e-02, 9.8627e-05, 4.5468e-03, 1.4987e-01, 4.3007e-01,\n",
      "         7.1183e-03, 8.5647e-03, 1.4334e-01, 9.4420e-02],\n",
      "        [1.0241e-02, 1.3782e-04, 3.3124e-06, 4.7362e-01, 6.9566e-04, 2.3866e-04,\n",
      "         3.6516e-04, 1.9891e-03, 1.5358e-05, 7.9039e-04, 3.4993e-01, 1.3507e-01,\n",
      "         9.5657e-04, 1.1424e-03, 1.4739e-02, 1.0064e-02],\n",
      "        [9.6351e-03, 1.2702e-04, 3.0925e-06, 4.0930e-01, 6.5626e-04, 2.2528e-04,\n",
      "         3.4585e-04, 1.9014e-03, 1.6262e-05, 8.3955e-04, 4.0178e-01, 1.4713e-01,\n",
      "         1.0046e-03, 1.1988e-03, 1.5341e-02, 1.0504e-02]], device='cuda:0')\n"
     ]
    }
   ],
   "source": [
    "test_input = np.random.normal(0, 5, 16)\n",
    "var_test_input = Variable(torch.from_numpy(test_input).float().to(device),\n",
    "                          requires_grad=True)\n",
    "\n",
    "result = diff_sort(torch_matrices, var_test_input, softmax=softmax)\n",
    "\n",
    "# compute the Jacobian of the sorting function, to show we can differentiate through the\n",
    "# sorting function\n",
    "jac = []\n",
    "for i in range(len(result)):\n",
    "    jac.append(\n",
    "        torch.autograd.grad(result[i], var_test_input, retain_graph=True)[0])\n",
    "\n",
    "# 16 x 16 jacobian of the sorting matrix\n",
    "print(torch.stack(jac))"
   ]
  },
  {
   "cell_type": "code",
   "execution_count": 84,
   "metadata": {},
   "outputs": [
    {
     "name": "stdout",
     "output_type": "stream",
     "text": [
      "tensor([11.0000,  3.4317,  0.0000, 14.0000,  6.0228,  3.5761,  4.7984,  9.0000,\n",
      "         1.0000,  5.9649, 14.0000, 13.0000,  5.9053,  7.6375, 11.0000, 10.0000],\n",
      "       device='cuda:0', grad_fn=<MvBackward>)\n"
     ]
    }
   ],
   "source": [
    "result = diff_argsort(torch_matrices, var_test_input)\n",
    "print(result)\n"
   ]
  },
  {
   "cell_type": "code",
   "execution_count": null,
   "metadata": {},
   "outputs": [],
   "source": []
  }
 ],
 "metadata": {
  "kernelspec": {
   "display_name": "Python 3",
   "language": "python",
   "name": "python3"
  },
  "language_info": {
   "codemirror_mode": {
    "name": "ipython",
    "version": 3
   },
   "file_extension": ".py",
   "mimetype": "text/x-python",
   "name": "python",
   "nbconvert_exporter": "python",
   "pygments_lexer": "ipython3",
   "version": "3.7.3"
  },
  "toc": {
   "base_numbering": 1,
   "nav_menu": {},
   "number_sections": true,
   "sideBar": true,
   "skip_h1_title": false,
   "title_cell": "Table of Contents",
   "title_sidebar": "Contents",
   "toc_cell": false,
   "toc_position": {},
   "toc_section_display": true,
   "toc_window_display": false
  }
 },
 "nbformat": 4,
 "nbformat_minor": 2
}
