{
 "cells": [
  {
   "cell_type": "markdown",
   "metadata": {},
   "source": [
    "# Differentiable bitonic sort\n",
    "\n",
    "[Bitonic sorts](https://en.wikipedia.org/wiki/Bitonic_sorter) allow creation of sorting networks with a sequence of fixed conditional swapping operations executed in parallel. A sorting network implements  a map from $\\mathbb{R}^n \\rightarrow \\mathbb{R}^n$, where $n=2^k$ (sorting networks for non-power-of-2 sizes are possible but not trickier).\n",
    "\n",
    "<img src=\"BitonicSort1.svg.png\">\n",
    "\n",
    "*[Image: from Wikipedia, by user Bitonic, CC0](https://en.wikipedia.org/wiki/Bitonic_sorter#/media/File:BitonicSort1.svg)*\n",
    "\n",
    "The sorting network for $n=2^k$ elements has $\\frac{k(k-1)}{2}$ \"layers\" where parallel compare-and-swap operations are used to rearrange a $k$ element vector into sorted order.\n",
    "\n",
    "### Differentiable compare-and-swap\n",
    "\n",
    "If we define the `softmax(a,b)` function (not the traditional \"softmax\" used for classification, but properly `logsumexp(a,b)`) as the continuous approximation to the `max(a,b)` function:\n",
    "\n",
    "$$\\text{softmax}(a,b) = \\log(e^a + e^b) \\approx \\max(a,b).$$\n",
    "\n",
    "We can then fairly obviously write `softmin(a,b)` as:\n",
    "\n",
    "$$\\text{softmin}(a,b) = -\\log(e^{-a} + e^{-b}) \\approx \\min(a,b).$$ More numerically stably we can write: \n",
    "\n",
    "$$\\text{softmin}(a,b) = a + b - \\text{softmax}(a,b).$$\n",
    "\n",
    "These functions aren't equal to max and min, but are relatively close for numbers in some range, and differentiable. Note that we now have a differentiable compare-and-swap operation:\n",
    "\n",
    "$$\\text{softcswap}(a,b) = [\\text{softmin}(a,b), \\text{softmin}(a,b)]$$\n",
    "\n",
    "#### Smoothmax\n",
    "Alternatively, we can use [smoothmax](https://en.wikipedia.org/wiki/Smooth_maximum):\n",
    "\n",
    "$$\\text{smoothmax}(a,b) = \\frac{a (e^{\\alpha a}) + b (e^{\\alpha b})}{e^{\\alpha a}+e^{\\alpha b}}  \\approx \\max(a,b).$$  This has an adjustable smoothness parameter $\\alpha$, with exact maximum as $\\alpha \\rightarrow \\infty$ and pure averaging as $\\alpha \\rightarrow 0$.\n",
    "\n",
    "## Differentiable sorting\n",
    "\n",
    "For each layer in the sorting network, we can split all of the pairwise comparison-and-swaps into left-hand and right-hand sides which can be done simultaneously. We can select the relevant elements of the vector as a multiply with a binary matrix.\n",
    "\n",
    "For each layer, we can derive two binary matrices $L \\in \\mathbb{R}^{n \\times \\frac{n}{2}}$ and $R \\in \\mathbb{R}^{n \\times \\frac{n}{2}}$ which select the elements to be compared for the left and right hands respectively. This will result in the comparison between two $\\frac{n}{2}$ length vectors. We can also derive two matrices $L' \\in \\mathbb{R}^{\\frac{n}{2} \\times n}$ and $R' \\in \\mathbb{R}^{\\frac{n}{2} \\times n}$ which put the results of the compare-and-swap operation back into the right positions.\n",
    "\n",
    "Then, each layer $i$ of the sorting process is just:\n",
    "$${\\bf x}_{i+1} = L'_i[\\text{softmin}(L_i{\\bf x_i}, R_i{\\bf x_i})] + R'_i[\\text{softmax}(L_i{\\bf x_i}, R_i{\\bf x_i})]$$\n",
    "$$ = L'_i\\left(-\\log\\left(e^{-L_i{\\bf x}_i} + e^{-R_i{\\bf x}_i}\\right)\\right) +  R'_i\\left(\\log\\left(e^{L_i{\\bf x}_i} + e^{R_i{\\bf x}_i}\\right)\\right)$$\n",
    "which is differentiable (though not very numerically stable -- the usable range of elements $x$ is quite limited in single float precision).\n",
    "\n",
    "All that remains is to compute the matrices $L_i, R_i, L'_i, R'_i$ for each of the layers of the network, which are fixed for a given $n$. \n",
    "\n",
    "### Indexed form\n",
    "The matrices just implement permuations, so they can be replaced by reindexing, which requires only $2n$ indexing operations per layer, instead of $2 n \\times n$ matrix multiplies. See the **Indexed form** section below.\n",
    "\n",
    "## Example\n",
    "\n",
    "To sort four elements, we have a network like:\n",
    "\n",
    "    0  1  2  3  \n",
    "    ┕>>┙  │  │  \n",
    "    │  │  ┕<<┙  \n",
    "    ┕>>>>>┙  │  \n",
    "    │  │  │  │  \n",
    "    ┕>>┙  │  │  \n",
    "    │  │  ┕>>┙  \n",
    "    \n",
    "This is equivalent to: \n",
    "\n",
    "    x[0], x[1] = cswap(x[0], x[1])\n",
    "    x[3], x[2] = cswap(x[2], x[3])\n",
    "    x[0], x[2] = cswap(x[0], x[2])\n",
    "    x[0], x[1] = cswap(x[0], x[1])\n",
    "    x[2], x[3] = cswap(x[2], x[3])\n",
    "    \n",
    "where `cswap(a,b) = (min(a,b), max(a,b))`\n",
    "\n",
    "Replacing the indexing with matrix multiplies and `cswap` with a `softcswap = (softmin(a,b), softmax(a,b))` we then have the differentiable form.\n",
    "\n"
   ]
  },
  {
   "cell_type": "markdown",
   "metadata": {},
   "source": [
    "# Test functions"
   ]
  },
  {
   "cell_type": "code",
   "execution_count": 233,
   "metadata": {},
   "outputs": [
    {
     "name": "stdout",
     "output_type": "stream",
     "text": [
      " 0>1\t 2<3\t 4>5\t 6<7\t 8>9\t10<11\t12>13\t14<15\t\n",
      "----------------------------------------------------------------\n",
      " 0>2\t 1>3\t 4<6\t 5<7\t 8>10\t 9>11\t12<14\t13<15\t\n",
      " 0>1\t 2>3\t 4<5\t 6<7\t 8>9\t10>11\t12<13\t14<15\t\n",
      "----------------------------------------------------------------\n",
      " 0>4\t 1>5\t 2>6\t 3>7\t 8<12\t 9<13\t10<14\t11<15\t\n",
      " 0>2\t 1>3\t 4>6\t 5>7\t 8<10\t 9<11\t12<14\t13<15\t\n",
      " 0>1\t 2>3\t 4>5\t 6>7\t 8<9\t10<11\t12<13\t14<15\t\n",
      "----------------------------------------------------------------\n",
      " 0>8\t 1>9\t 2>10\t 3>11\t 4>12\t 5>13\t 6>14\t 7>15\t\n",
      " 0>4\t 1>5\t 2>6\t 3>7\t 8>12\t 9>13\t10>14\t11>15\t\n",
      " 0>2\t 1>3\t 4>6\t 5>7\t 8>10\t 9>11\t12>14\t13>15\t\n",
      " 0>1\t 2>3\t 4>5\t 6>7\t 8>9\t10>11\t12>13\t14>15\t\n",
      "----------------------------------------------------------------\n"
     ]
    }
   ],
   "source": [
    "from bitonic_tests import bitonic_network, pretty_bitonic_network\n",
    "\n",
    "def neat_vec(n):\n",
    "    # print a vector neatly    \n",
    "    return \"\\t\".join([f\"{x:6.2f}\" for x in n])\n",
    "\n",
    "# the comparisons should match the diagram at the top of the notebook\n",
    "# each line represents one pair of matrix multiplies\n",
    "bitonic_network(16)"
   ]
  },
  {
   "cell_type": "code",
   "execution_count": 325,
   "metadata": {
    "scrolled": false
   },
   "outputs": [
    {
     "name": "stdout",
     "output_type": "stream",
     "text": [
      " 0  1  2  3  4  5  6  7 \n",
      " ╭──╯  │  │  │  │  │  │ \n",
      " │  │  ╰──╮  │  │  │  │ \n",
      " │  │  │  │  ╭──╯  │  │ \n",
      " │  │  │  │  │  │  ╰──╮ \n",
      " ╭─────╯  │  │  │  │  │ \n",
      " │  ╭─────╯  │  │  │  │ \n",
      " │  │  │  │  ╰─────╮  │ \n",
      " │  │  │  │  │  ╰─────╮ \n",
      " ╭──╯  │  │  │  │  │  │ \n",
      " │  │  ╭──╯  │  │  │  │ \n",
      " │  │  │  │  ╰──╮  │  │ \n",
      " │  │  │  │  │  │  ╰──╮ \n",
      " ╭───────────╯  │  │  │ \n",
      " │  ╭───────────╯  │  │ \n",
      " │  │  ╭───────────╯  │ \n",
      " │  │  │  ╭───────────╯ \n",
      " ╭─────╯  │  │  │  │  │ \n",
      " │  ╭─────╯  │  │  │  │ \n",
      " │  │  │  │  ╭─────╯  │ \n",
      " │  │  │  │  │  ╭─────╯ \n",
      " ╭──╯  │  │  │  │  │  │ \n",
      " │  │  ╭──╯  │  │  │  │ \n",
      " │  │  │  │  ╭──╯  │  │ \n",
      " │  │  │  │  │  │  ╭──╯ \n"
     ]
    }
   ],
   "source": [
    "# print the sorting network. The wires \"going over\" represent where the larger of the two values should go in each exchange.\n",
    "pretty_bitonic_network(8)"
   ]
  },
  {
   "cell_type": "markdown",
   "metadata": {},
   "source": [
    "# Vectorised functions"
   ]
  },
  {
   "cell_type": "code",
   "execution_count": 238,
   "metadata": {},
   "outputs": [],
   "source": [
    "# Test sorting\n",
    "import autograd.numpy as np # we can use plain numpy as well (but can't take grad!)\n",
    "np.set_printoptions(precision=2)\n",
    "\n",
    "from differentiable_sorting import bitonic_matrices, diff_sort, diff_argsort\n",
    "from differentiable_sorting import softmax, smoothmax, softmax_smooth"
   ]
  },
  {
   "cell_type": "markdown",
   "metadata": {},
   "source": [
    "## Testing sorting network\n",
    "First, test bitonic sorting with exact (non-differentiable) maximum; this should work exactly as regular sorting does."
   ]
  },
  {
   "cell_type": "code",
   "execution_count": 239,
   "metadata": {},
   "outputs": [
    {
     "name": "stdout",
     "output_type": "stream",
     "text": [
      " 38.00\t 75.00\t 93.00\t120.00\t130.00\t152.00\t185.00\t190.00\n",
      " 59.00\t 60.00\t 99.00\t118.00\t127.00\t173.00\t177.00\t182.00\n",
      " 40.00\t 49.00\t105.00\t116.00\t118.00\t129.00\t166.00\t187.00\n",
      "  4.00\t 59.00\t 63.00\t113.00\t131.00\t152.00\t166.00\t196.00\n",
      " 23.00\t 55.00\t 55.00\t 68.00\t 72.00\t 82.00\t119.00\t125.00\n"
     ]
    }
   ],
   "source": [
    "\n",
    "\n",
    "matrices = bitonic_matrices(8)\n",
    "\n",
    "for i in range(5):\n",
    "    # these should all be in sorted order\n",
    "    test = np.random.randint(0, 200, 8)\n",
    "    sortd = diff_sort(matrices, test, softmax=np.maximum)\n",
    "    assert(np.all(np.diff(sortd)>=0)) # check montonicity\n",
    "    print(neat_vec(sortd))\n",
    "    "
   ]
  },
  {
   "cell_type": "markdown",
   "metadata": {},
   "source": [
    "## Differentiable sorting test\n",
    "Now we can replace `np.maximum` with `softmax` or `smoothmax`. This is approximately the same, *for reasonable values of the input* (typically ~200)."
   ]
  },
  {
   "cell_type": "code",
   "execution_count": 240,
   "metadata": {},
   "outputs": [
    {
     "name": "stdout",
     "output_type": "stream",
     "text": [
      "Softmax sorting     65.00\t 73.00\t102.00\t108.00\t174.99\t180.01\t187.69\t189.31\n",
      "Smoothmax sorting   65.01\t 72.99\t102.03\t107.97\t175.03\t179.97\t188.27\t188.73\n",
      "Exact sorting       65.00\t 73.00\t102.00\t108.00\t175.00\t180.00\t188.00\t189.00\n",
      "\n",
      "Softmax sorting    -195.00\t-166.00\t-73.00\t-53.00\t  1.00\t 91.00\t110.00\t119.00\n",
      "Smoothmax sorting  -195.00\t-166.00\t-73.00\t-53.00\t  1.00\t 91.00\t110.00\t119.00\n",
      "Exact sorting      -195.00\t-166.00\t-73.00\t-53.00\t  1.00\t 91.00\t110.00\t119.00\n",
      "\n",
      "Softmax sorting    -82.00\t 38.00\t 84.00\t101.31\t102.69\t148.87\t151.07\t154.06\n",
      "Smoothmax sorting  -82.00\t 38.00\t 84.00\t102.00\t102.00\t149.28\t150.89\t153.83\n",
      "Exact sorting      -82.00\t 38.00\t 84.00\t102.00\t102.00\t149.00\t151.00\t154.00\n",
      "\n",
      "Softmax sorting    -149.00\t-140.00\t-101.00\t-69.92\t-68.08\t-54.00\t -9.00\t  4.00\n",
      "Smoothmax sorting  -149.00\t-140.00\t-101.00\t-69.00\t-69.00\t-54.00\t -9.00\t  4.00\n",
      "Exact sorting      -149.00\t-140.00\t-101.00\t-69.00\t-69.00\t-54.00\t -9.00\t  4.00\n",
      "\n",
      "Softmax sorting    -173.00\t-152.00\t-132.00\t 48.00\t 69.00\t 76.00\t119.00\t126.00\n",
      "Smoothmax sorting  -173.00\t-152.00\t-132.00\t 48.00\t 69.01\t 75.99\t119.01\t125.99\n",
      "Exact sorting      -173.00\t-152.00\t-132.00\t 48.00\t 69.00\t 76.00\t119.00\t126.00\n",
      "\n"
     ]
    }
   ],
   "source": [
    "# Differentiable sorting \n",
    "\n",
    "matrices = bitonic_matrices(8) \n",
    "\n",
    "for i in range(5):\n",
    "    # note the range here is chosen to work well: small values will not work well! \n",
    "    test = np.random.randint(-200,200,8)\n",
    "    print(\"Softmax sorting   \", neat_vec(diff_sort(matrices, test, softmax=softmax)))\n",
    "    print(\"Smoothmax sorting \", neat_vec(diff_sort(matrices, test, softmax=smoothmax)))\n",
    "    print(\"Exact sorting     \", neat_vec(diff_sort(matrices, test, softmax=np.maximum)))\n",
    "    \n",
    "    print()"
   ]
  },
  {
   "cell_type": "markdown",
   "metadata": {},
   "source": [
    "### Positive-only sorting\n",
    "Slightly better accuracy can be achieved with normalised softmax *if* all elements are strictly positive:"
   ]
  },
  {
   "cell_type": "code",
   "execution_count": 242,
   "metadata": {},
   "outputs": [
    {
     "name": "stdout",
     "output_type": "stream",
     "text": [
      "Softmax sorting      0.40\t  1.98\t  2.54\t  3.93\t  3.76\t  5.15\t  5.74\t  7.48\n",
      "+Softmax sorting     0.62\t  1.92\t  2.52\t  3.87\t  3.75\t  5.12\t  5.72\t  7.47\n",
      "Exact sorting        1.00\t  3.00\t  3.00\t  4.00\t  4.00\t  4.00\t  5.00\t  7.00\n",
      "\n",
      "Softmax sorting      2.36\t  3.84\t  4.62\t  6.08\t  5.99\t  7.38\t  7.66\t  9.07\n",
      "+Softmax sorting     2.39\t  3.83\t  4.62\t  6.07\t  5.99\t  7.37\t  7.66\t  9.06\n",
      "Exact sorting        3.00\t  4.00\t  5.00\t  7.00\t  7.00\t  7.00\t  7.00\t  7.00\n",
      "\n",
      "Softmax sorting     -0.03\t  1.36\t  1.85\t  3.25\t  3.07\t  4.46\t  4.78\t  6.26\n",
      "+Softmax sorting     0.38\t  1.28\t  1.80\t  3.13\t  3.04\t  4.41\t  4.74\t  6.22\n",
      "Exact sorting        1.00\t  2.00\t  2.00\t  3.00\t  4.00\t  4.00\t  4.00\t  5.00\n",
      "\n",
      "Softmax sorting      0.70\t  2.77\t  3.51\t  4.90\t  5.02\t  6.47\t  7.10\t  8.53\n",
      "+Softmax sorting     0.81\t  2.73\t  3.49\t  4.87\t  5.01\t  6.46\t  7.10\t  8.53\n",
      "Exact sorting        1.00\t  4.00\t  4.00\t  4.00\t  5.00\t  7.00\t  7.00\t  7.00\n",
      "\n",
      "Softmax sorting      1.27\t  2.70\t  3.38\t  4.79\t  4.77\t  6.17\t  6.67\t  8.25\n",
      "+Softmax sorting     1.37\t  2.67\t  3.37\t  4.76\t  4.76\t  6.15\t  6.66\t  8.25\n",
      "Exact sorting        2.00\t  3.00\t  4.00\t  5.00\t  5.00\t  5.00\t  7.00\t  7.00\n",
      "\n"
     ]
    }
   ],
   "source": [
    "for i in range(5):\n",
    "    \n",
    "    # softmax works less well in this range\n",
    "    test = np.random.randint(1,8,8)\n",
    "    print(\"Softmax sorting   \", neat_vec(diff_sort(matrices, test, softmax=softmax)))\n",
    "    print(\"+Softmax sorting  \", neat_vec(diff_sort(matrices, test, softmax=lambda a,b: softmax(a,b,normalize=1))))\n",
    "    print(\"Exact sorting     \", neat_vec(diff_sort(matrices, test, softmax=np.maximum)))\n",
    "    \n",
    "    print()"
   ]
  },
  {
   "cell_type": "markdown",
   "metadata": {},
   "source": [
    "## Sorting complex numbers\n",
    "The softmax/smoothmax functions are analytic as well as differentiable, so \n",
    "we can also \"sort\" complex numbers. This approximately sorts them by the real part with smoothmax. This isn't a very useful operation."
   ]
  },
  {
   "cell_type": "code",
   "execution_count": 247,
   "metadata": {},
   "outputs": [
    {
     "data": {
      "text/plain": [
       "<matplotlib.legend.Legend at 0x221cb1980b8>"
      ]
     },
     "execution_count": 247,
     "metadata": {},
     "output_type": "execute_result"
    },
    {
     "data": {
      "image/png": "[encoded data removed]",
      "text/plain": [
       "<Figure size 432x288 with 1 Axes>"
      ]
     },
     "metadata": {
      "needs_background": "light"
     },
     "output_type": "display_data"
    }
   ],
   "source": [
    "import matplotlib.pyplot as plt\n",
    "%matplotlib inline\n",
    "\n",
    "\n",
    "test = np.random.randint(-200,200,8) + 1j * np.random.randint(-200, 200, 8)\n",
    "fig, ax = plt.subplots()\n",
    "\n",
    "def label_complex(zs, color, xyoffset, label):\n",
    "    ax.scatter(np.real(zs), np.imag(zs), c=color, label=label)    \n",
    "    for i, z in enumerate(zs):\n",
    "        ax.annotate(str(i), (np.real(z), np.imag(z)), color=color, textcoords=\"offset points\", xytext=xyoffset)\n",
    "\n",
    "        \n",
    "label_complex(test, 'C0', (0,5), label=\"Pre-sort\")\n",
    "\n",
    "smooth_sorted = diff_sort(matrices, test, softmax=smoothmax)\n",
    "label_complex(smooth_sorted, 'C1', (5, -5), \"Post-sort\")\n",
    "ax.axhline(0, c='k')\n",
    "ax.axvline(0, c='k')\n",
    "ax.set_xlabel(\"Real\")\n",
    "ax.set_ylabel(\"Imag\")\n",
    "ax.set_frame_on(False)\n",
    "ax.legend()\n",
    "\n"
   ]
  },
  {
   "cell_type": "markdown",
   "metadata": {},
   "source": [
    "# Relaxed sorting\n",
    "We can define a slighly modified function which interpolates between `softmax(a,b)` and `mean(a,b)`. The result is a sorting function that can be relaxed from sorting to averaging. The $\\alpha$ parameter of `smoothmax` also allows relaxation to the mean, though with different scaling."
   ]
  },
  {
   "cell_type": "code",
   "execution_count": 258,
   "metadata": {},
   "outputs": [
    {
     "name": "stdout",
     "output_type": "stream",
     "text": [
      "Exact sorting           -154.00\t-152.00\t-133.00\t-74.00\t-66.00\t-38.00\t 53.00\t195.00\n",
      "\n",
      "Softmax.   smooth=0.00  -154.13\t-151.87\t-133.00\t-74.00\t-66.00\t-38.00\t 53.00\t195.00\n",
      "Smoothmax. α=1.00       -153.76\t-152.24\t-133.00\t-74.00\t-66.00\t-38.00\t 53.00\t195.00\n",
      "\n",
      "Softmax.   smooth=0.14  -115.62\t-113.26\t-105.28\t-83.37\t-67.49\t-21.25\t 29.14\t108.13\n",
      "Smoothmax. α=0.86       -153.69\t-152.31\t-133.00\t-73.99\t-66.01\t-38.00\t 53.00\t195.00\n",
      "\n",
      "Softmax.   smooth=0.29  -94.82\t-93.07\t-85.21\t-82.17\t-53.50\t-17.36\t  7.81\t 49.34\n",
      "Smoothmax. α=0.71       -153.61\t-152.39\t-133.00\t-73.97\t-66.03\t-38.00\t 53.00\t195.00\n",
      "\n",
      "Softmax.   smooth=0.43  -82.04\t-79.39\t-80.95\t-78.13\t-34.49\t-18.04\t -7.18\t 11.21\n",
      "Smoothmax. α=0.57       -153.52\t-152.48\t-133.00\t-73.92\t-66.08\t-38.00\t 53.00\t195.00\n",
      "\n",
      "Softmax.   smooth=0.57  -72.59\t-71.06\t-71.82\t-70.28\t-28.40\t-22.82\t-19.07\t-12.95\n",
      "Smoothmax. α=0.43       -153.40\t-152.59\t-133.01\t-73.75\t-66.25\t-38.00\t 53.00\t195.00\n",
      "\n",
      "Softmax.   smooth=0.71  -63.24\t-62.76\t-62.77\t-62.28\t-30.76\t-29.85\t-29.15\t-28.18\n",
      "Smoothmax. α=0.29       -153.22\t-152.65\t-133.14\t-73.26\t-66.73\t-38.01\t 53.00\t195.00\n",
      "\n",
      "Softmax.   smooth=0.86  -54.25\t-54.10\t-54.09\t-53.94\t-38.31\t-38.16\t-38.15\t-38.00\n",
      "Smoothmax. α=0.14       -152.01\t-151.71\t-135.26\t-71.83\t-67.52\t-38.68\t 53.00\t195.00\n",
      "\n",
      "Softmax.   smooth=1.00  -46.12\t-46.12\t-46.12\t-46.12\t-46.12\t-46.12\t-46.12\t-46.12\n",
      "Smoothmax. α=0.00       -46.12\t-46.12\t-46.12\t-46.12\t-46.12\t-46.12\t-46.12\t-46.12\n",
      "\n",
      "Mean -46.12\n",
      "\n"
     ]
    }
   ],
   "source": [
    "\n",
    "# Differentiable smoothed sorting \n",
    "test = np.random.randint(-200,200,8)\n",
    "\n",
    "print(\"Exact sorting          \", neat_vec(diff_sort(matrices, test, np.maximum)))\n",
    "print()\n",
    "\n",
    "for smooth in np.linspace(0, 1, 8):    \n",
    "    print(f\"Softmax.   smooth={smooth:.2f} \", neat_vec(diff_sort(matrices, test, lambda a,b:softmax_smooth(a,b,smooth=smooth))))\n",
    "    # smoothmax's alpha is the inverse of diff_bisort_smooth\n",
    "    print(f\"Smoothmax. α={1-smooth:.2f}      \", neat_vec(diff_sort(matrices, test, lambda a,b:smoothmax(a,b, alpha=1-smooth))))\n",
    "    print()\n",
    "    \n",
    "print(f\"Mean {np.mean(test):.2f}\")\n",
    "print()"
   ]
  },
  {
   "cell_type": "markdown",
   "metadata": {},
   "source": [
    "## Derivatives of the sorting process\n",
    "Now we can take the derivatives of the sorting networks."
   ]
  },
  {
   "cell_type": "code",
   "execution_count": 318,
   "metadata": {},
   "outputs": [
    {
     "data": {
      "text/plain": [
       "array([[0.022, 0.001, 0.001, 0.001, 0.024, 0.024, 0.067, 0.861],\n",
       "       [0.001, 0.001, 0.022, 0.001, 0.024, 0.024, 0.861, 0.067],\n",
       "       [0.001, 0.001, 0.001, 0.022, 0.067, 0.861, 0.024, 0.024],\n",
       "       [0.001, 0.022, 0.001, 0.001, 0.861, 0.067, 0.024, 0.024],\n",
       "       [0.024, 0.86 , 0.045, 0.045, 0.022, 0.002, 0.001, 0.001],\n",
       "       [0.045, 0.045, 0.024, 0.86 , 0.002, 0.022, 0.001, 0.001],\n",
       "       [0.045, 0.045, 0.86 , 0.024, 0.001, 0.001, 0.022, 0.002],\n",
       "       [0.86 , 0.024, 0.045, 0.045, 0.001, 0.001, 0.002, 0.022]])"
      ]
     },
     "execution_count": 318,
     "metadata": {},
     "output_type": "execute_result"
    }
   ],
   "source": [
    "from autograd import jacobian\n",
    "\n",
    "matrices = bitonic_matrices(8)\n",
    "test = np.random.randint(-200,200,8)\n",
    "# show that we can take the derivative\n",
    "jac_sort = jacobian(diff_sort, argnum=1)\n",
    "jac_sort(matrices, test, softmax=lambda a,b:softmax_smooth(a,b,0.05)) # slight relaxation"
   ]
  },
  {
   "cell_type": "code",
   "execution_count": 319,
   "metadata": {},
   "outputs": [
    {
     "name": "stdout",
     "output_type": "stream",
     "text": [
      "-197.00\t-165.00\t-128.00\t-34.93\t-31.07\t  2.00\t 48.00\t175.00\n"
     ]
    },
    {
     "data": {
      "text/plain": [
       "array([[ 0.   ,  0.   , -0.   , -0.   , -0.   ,  0.   , -0.   ,  1.   ],\n",
       "       [-0.   , -0.   ,  0.   , -0.   , -0.   , -0.   ,  1.   , -0.   ],\n",
       "       [ 0.   ,  0.   , -0.   ,  0.   ,  0.   ,  1.   , -0.   ,  0.   ],\n",
       "       [ 0.   , -0.091,  0.   ,  0.   ,  1.091, -0.   ,  0.   , -0.   ],\n",
       "       [-0.   ,  1.091,  0.   , -0.   , -0.091,  0.   , -0.   ,  0.   ],\n",
       "       [ 0.   , -0.   , -0.   ,  1.   ,  0.   , -0.   ,  0.   , -0.   ],\n",
       "       [-0.   , -0.   ,  1.   , -0.   ,  0.   , -0.   ,  0.   , -0.   ],\n",
       "       [ 1.   ,  0.   , -0.   ,  0.   , -0.   ,  0.   , -0.   ,  0.   ]])"
      ]
     },
     "execution_count": 319,
     "metadata": {},
     "output_type": "execute_result"
    }
   ],
   "source": [
    "# the same, but using smoothmax\n",
    "print(neat_vec(diff_sort(matrices, test, smoothmax)))\n",
    "jac_sort(matrices, test,  lambda a,b:smoothmax(a,b,alpha=0.5))"
   ]
  },
  {
   "cell_type": "markdown",
   "metadata": {},
   "source": [
    "## Woven form and indexed form\n",
    "We can \"weave\" the four matrices `l, r, l_inv, r_inv` into two matrices for fewer matrix multiplies (but the same number of total elementwise operations) at the cost of having to split and join the matrices at each layer."
   ]
  },
  {
   "cell_type": "code",
   "execution_count": 267,
   "metadata": {},
   "outputs": [
    {
     "name": "stdout",
     "output_type": "stream",
     "text": [
      "Exact sorting       -167.00\t-105.00\t-57.00\t124.00\t153.00\t177.00\t182.00\t197.00\n",
      "Diff. (std.)        -167.00\t-105.00\t-57.00\t124.00\t153.00\t177.03\t181.97\t197.00\n",
      "Diff. (woven)       -167.00\t-105.00\t-57.00\t124.00\t153.00\t177.03\t181.97\t197.00\n"
     ]
    }
   ],
   "source": [
    "from differentiable_sorting import bitonic_woven_matrices, diff_sort_weave\n",
    "test = np.random.randint(-200,200,8)\n",
    "woven_matrices = bitonic_woven_matrices(8)\n",
    "matrices = bitonic_matrices(8)\n",
    "\n",
    "print(\"Exact sorting      \", neat_vec(diff_sort(matrices, test, np.maximum)))\n",
    "print(f\"Diff. (std.)       \", neat_vec(diff_sort(matrices, test, smoothmax)))\n",
    "print(f\"Diff. (woven)      \", neat_vec(diff_sort_weave(woven_matrices, test, smoothmax)))\n",
    "        "
   ]
  },
  {
   "cell_type": "markdown",
   "metadata": {},
   "source": [
    "### Indexed form\n",
    "Rather than using matrix multiplies, we can instead just generate the permutation indices and reindex the vectors (assuming the backend supports array indexing).\n",
    "\n",
    "This requires only 2n indexing operations at each layer instead of 2 n x n matrix multiplies."
   ]
  },
  {
   "cell_type": "code",
   "execution_count": 324,
   "metadata": {},
   "outputs": [
    {
     "name": "stdout",
     "output_type": "stream",
     "text": [
      "Exact sorting       -170.00\t-155.00\t-155.00\t -8.00\t 11.00\t 55.00\t 57.00\t141.00\n",
      "Indexed            -170.00\t-155.00\t-155.00\t -8.00\t 11.00\t 55.51\t 56.49\t141.00\n"
     ]
    }
   ],
   "source": [
    "from differentiable_sorting import bitonic_indices, diff_sort_indexed\n",
    "test = np.random.randint(-200,200,8)\n",
    "indices = bitonic_indices(8)\n",
    "\n",
    "print(\"Exact sorting      \", neat_vec(diff_sort(matrices, test, np.maximum)))\n",
    "print(f\"Indexed           \", neat_vec(diff_sort_indexed(indices, test, smoothmax)))\n"
   ]
  },
  {
   "cell_type": "markdown",
   "metadata": {},
   "source": [
    "## Differentiable ranking / argsort\n",
    "We can use a differentiable similarity measure between the input and output of the vector, e.g. an RBF kernel. We can use this to generate a normalised similarity matrix and apply this to a vector `[1, 2, 3, ..., n]`. This gives a differentiable ranking function.\n",
    "\n",
    "As `sigma` gets larger, the result converges to giving all values the mean rank; as it goes to zero the result converges to the true rank."
   ]
  },
  {
   "cell_type": "code",
   "execution_count": 269,
   "metadata": {},
   "outputs": [],
   "source": [
    "from differentiable_sorting import order_matrix, diff_argsort"
   ]
  },
  {
   "cell_type": "code",
   "execution_count": 270,
   "metadata": {},
   "outputs": [],
   "source": [
    "matrices = bitonic_matrices(8)"
   ]
  },
  {
   "cell_type": "code",
   "execution_count": 271,
   "metadata": {},
   "outputs": [
    {
     "name": "stdout",
     "output_type": "stream",
     "text": [
      "x               5.00\t -1.00\t  9.50\t 13.20\t 16.20\t 10.50\t 42.00\t 18.00\n",
      "diff_argsort    1.00\t  0.00\t  2.05\t  4.00\t  5.00\t  2.97\t  7.00\t  6.00\n",
      "exact argsort   1.00\t  0.00\t  2.00\t  5.00\t  3.00\t  4.00\t  7.00\t  6.00\n"
     ]
    }
   ],
   "source": [
    "x = [5.0, -1.0, 9.5, 13.2, 16.2, 10.5, 42.0, 18.0]\n",
    "\n",
    "\n",
    "print(\"x            \", neat_vec(x))\n",
    "# show argsort\n",
    "ranks = diff_argsort(matrices, x, sigma=0.5)\n",
    "print(\"diff_argsort \", neat_vec(ranks))\n",
    "print(\"exact argsort\",neat_vec(np.argsort(ranks)))"
   ]
  },
  {
   "cell_type": "code",
   "execution_count": 272,
   "metadata": {},
   "outputs": [
    {
     "name": "stdout",
     "output_type": "stream",
     "text": [
      "1 1\n",
      "6 6\n"
     ]
    }
   ],
   "source": [
    "# we now have differentiable argmax and argmin by indexing the rank vector\n",
    "print(np.argmin(x), int(ranks[0]+0.5))\n",
    "print(np.argmax(x), int(ranks[-1]+0.5))"
   ]
  },
  {
   "cell_type": "markdown",
   "metadata": {},
   "source": [
    "## Smoothing ranks\n",
    "We can again relax argsort back to the mean rank:"
   ]
  },
  {
   "cell_type": "code",
   "execution_count": 273,
   "metadata": {},
   "outputs": [
    {
     "name": "stdout",
     "output_type": "stream",
     "text": [
      "Smoothed ranks\n",
      "sigma=    0.1  |   1.00\t  0.00\t  2.00\t  4.00\t  5.00\t  3.00\t  7.00\t  6.00\n",
      "sigma=    1.0  |   1.00\t  0.00\t  2.33\t  3.97\t  5.12\t  2.73\t  7.00\t  5.85\n",
      "sigma=   10.0  |   2.55\t  1.92\t  3.01\t  3.38\t  3.65\t  3.11\t  6.79\t  3.82\n",
      "sigma=  100.0  |   3.47\t  3.45\t  3.48\t  3.49\t  3.49\t  3.48\t  3.56\t  3.50\n",
      "sigma= 1000.0  |   3.50\t  3.50\t  3.50\t  3.50\t  3.50\t  3.50\t  3.50\t  3.50\n"
     ]
    }
   ],
   "source": [
    "print(\"Smoothed ranks\")\n",
    "test = x\n",
    "for sigma in [0.1, 1, 10, 100, 1000]:     \n",
    "    ranks = diff_argsort(matrices, test, sigma=sigma) \n",
    "    print(f\"sigma={sigma:7.1f}  |\", neat_vec(ranks))"
   ]
  },
  {
   "cell_type": "markdown",
   "metadata": {},
   "source": [
    "\n",
    "### Differentiable ranking function"
   ]
  },
  {
   "cell_type": "code",
   "execution_count": 284,
   "metadata": {},
   "outputs": [],
   "source": [
    "np.set_printoptions(precision=3)\n",
    "jac_rank = jacobian(diff_argsort, argnum=1)\n"
   ]
  },
  {
   "cell_type": "code",
   "execution_count": 285,
   "metadata": {},
   "outputs": [
    {
     "name": "stdout",
     "output_type": "stream",
     "text": [
      "diff_argsort   0.79\t  1.49\t  2.25\t  3.21\t  6.38\t  5.67\t  5.05\t  3.21\n",
      "argsort        0.00\t  1.00\t  2.00\t  3.00\t  7.00\t  6.00\t  5.00\t  4.00\n",
      "Jacobian of diff_argsort(x)\n",
      "[[ 0.59  -0.186 -0.157 -0.12  -0.005 -0.009 -0.028 -0.084]\n",
      " [-0.131  0.506 -0.105 -0.104 -0.01  -0.019 -0.042 -0.094]\n",
      " [-0.136 -0.155  0.794 -0.171 -0.029 -0.049 -0.095 -0.159]\n",
      " [-0.102 -0.13  -0.142  0.714 -0.044 -0.069 -0.11  -0.117]\n",
      " [-0.005 -0.01  -0.029 -0.049  0.547 -0.199 -0.178 -0.077]\n",
      " [-0.009 -0.016 -0.038 -0.059 -0.139  0.453 -0.117 -0.076]\n",
      " [-0.031 -0.052 -0.096 -0.127 -0.119 -0.135  0.696 -0.136]\n",
      " [-0.102 -0.13  -0.142 -0.135 -0.044 -0.069 -0.11   0.732]]\n"
     ]
    }
   ],
   "source": [
    "matrices = bitonic_matrices(8)\n",
    "\n",
    "x = [1, 2, 3, 4, 8, 7, 6, 4]\n",
    "ranks = diff_argsort(matrices, x, sigma=1.0)\n",
    "print(\"diff_argsort\", neat_vec(ranks))\n",
    "print(\"argsort     \", neat_vec(np.argsort(ranks)))\n",
    "\n",
    "print(\"Jacobian of diff_argsort(x)\")\n",
    "print(jac_rank(matrices, np.array(x), 1.0))"
   ]
  },
  {
   "cell_type": "code",
   "execution_count": 288,
   "metadata": {},
   "outputs": [
    {
     "name": "stdout",
     "output_type": "stream",
     "text": [
      "x          41.00\t  2.00\t 30.00\t 40.00\t 50.00\t 60.00\t 70.00\t190.00\n",
      "d_rank/dx  -0.68\t -0.00\t -0.00\t  0.68\t -0.00\t -0.00\t -0.00\t  0.00\n"
     ]
    }
   ],
   "source": [
    "matrices = bitonic_matrices(8)\n",
    "from autograd import grad\n",
    "\n",
    "# which elements cause the biggest change in ranking if adjusted?\n",
    "# we can compute this directly:\n",
    "x = [41, 2, 30, 40, 50, 60, 70, 190]\n",
    "\n",
    "# approximate change in rank as first moment of ranks\n",
    "rank_change = lambda x: np.sum((diff_argsort(matrices, x, sigma=1.0)* np.arange(1,9)))\n",
    "grad_rank_change = grad(rank_change)\n",
    "print(\"x        \", neat_vec(x))\n",
    "print(\"d_rank/dx\", neat_vec(grad_rank_change(np.array(x))))\n",
    "\n"
   ]
  },
  {
   "cell_type": "markdown",
   "metadata": {},
   "source": [
    "# PyTorch example\n",
    "We can verify that this is both parallelisable on the GPU and fully differentiable."
   ]
  },
  {
   "cell_type": "code",
   "execution_count": 289,
   "metadata": {},
   "outputs": [
    {
     "name": "stdout",
     "output_type": "stream",
     "text": [
      "Device: cuda:0\n"
     ]
    }
   ],
   "source": [
    "import torch\n",
    "import numpy as np\n",
    "from torch.autograd import Variable\n",
    "import torch.nn.functional as F\n",
    "device = torch.device(\"cuda:0\" if torch.cuda.is_available() else \"cpu\")\n",
    "print('Device:', device)"
   ]
  },
  {
   "cell_type": "code",
   "execution_count": 290,
   "metadata": {},
   "outputs": [],
   "source": [
    "from differentiable_sorting_torch import softmax, diff_argsort\n",
    "from differentiable_sorting import diff_sort\n",
    "matrices = bitonic_matrices(32)\n",
    "torch_matrices = [[torch.from_numpy(matrix).float().to(device) for matrix in matrix_set] for matrix_set in matrices]\n"
   ]
  },
  {
   "cell_type": "code",
   "execution_count": 291,
   "metadata": {},
   "outputs": [
    {
     "name": "stdout",
     "output_type": "stream",
     "text": [
      "tensor([[1.4299e-04, 3.3184e-01, 5.7347e-01,  ..., 1.4077e-05, 3.8444e-06,\n",
      "         1.4776e-05],\n",
      "        [2.3192e-04, 3.8678e-01, 2.7400e-01,  ..., 7.5256e-05, 2.0765e-05,\n",
      "         7.9379e-05],\n",
      "        [7.2470e-04, 1.1587e-01, 6.4348e-02,  ..., 1.4686e-04, 4.0170e-05,\n",
      "         1.5492e-04],\n",
      "        ...,\n",
      "        [2.5691e-04, 6.5797e-08, 2.0994e-08,  ..., 4.2036e-03, 1.0674e-02,\n",
      "         3.9539e-03],\n",
      "        [4.0054e-05, 9.2322e-09, 2.9685e-09,  ..., 8.8930e-04, 2.1155e-03,\n",
      "         7.8699e-04],\n",
      "        [9.6560e-06, 2.8358e-09, 9.2318e-10,  ..., 9.7316e-05, 2.5036e-04,\n",
      "         8.9004e-05]], device='cuda:0')\n"
     ]
    }
   ],
   "source": [
    "test_input = np.random.normal(0, 5, 32)\n",
    "var_test_input = Variable(torch.from_numpy(test_input).float().to(device),\n",
    "                          requires_grad=True)\n",
    "\n",
    "result = diff_sort(torch_matrices, var_test_input, softmax=softmax)\n",
    "\n",
    "# compute the Jacobian of the sorting function, to show we can differentiate through the\n",
    "# sorting function\n",
    "jac = []\n",
    "for i in range(len(result)):\n",
    "    jac.append(\n",
    "        torch.autograd.grad(result[i], var_test_input, retain_graph=True)[0])\n",
    "\n",
    "# 32 x 32 jacobian of the sorting matrix\n",
    "print(torch.stack(jac))"
   ]
  },
  {
   "cell_type": "code",
   "execution_count": 292,
   "metadata": {},
   "outputs": [
    {
     "name": "stdout",
     "output_type": "stream",
     "text": [
      "tensor([15.0000,  1.0000,  0.0000,  8.0000, 31.0000, 12.0000, 15.0000,  9.9032,\n",
      "        15.0000, 21.0033, 28.0074,  8.0000, 23.0006, 25.1560, 30.0000,  3.0000,\n",
      "        12.0000, 15.0004, 15.0000,  9.3927, 25.8638, 25.9300, 10.4456, 28.0000,\n",
      "         4.0006,  5.0043,  3.2523, 13.4567, 17.3526, 19.2498, 23.9960, 19.0000],\n",
      "       device='cuda:0', grad_fn=<MvBackward>)\n"
     ]
    }
   ],
   "source": [
    "result = diff_argsort(torch_matrices, var_test_input)\n",
    "print(result)\n"
   ]
  },
  {
   "cell_type": "code",
   "execution_count": null,
   "metadata": {},
   "outputs": [],
   "source": []
  }
 ],
 "metadata": {
  "kernelspec": {
   "display_name": "Python 3",
   "language": "python",
   "name": "python3"
  },
  "language_info": {
   "codemirror_mode": {
    "name": "ipython",
    "version": 3
   },
   "file_extension": ".py",
   "mimetype": "text/x-python",
   "name": "python",
   "nbconvert_exporter": "python",
   "pygments_lexer": "ipython3",
   "version": "3.7.3"
  },
  "toc": {
   "base_numbering": 1,
   "nav_menu": {},
   "number_sections": true,
   "sideBar": true,
   "skip_h1_title": false,
   "title_cell": "Table of Contents",
   "title_sidebar": "Contents",
   "toc_cell": false,
   "toc_position": {},
   "toc_section_display": true,
   "toc_window_display": false
  }
 },
 "nbformat": 4,
 "nbformat_minor": 2
}
