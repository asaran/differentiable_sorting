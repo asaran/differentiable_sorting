{
 "cells": [
  {
   "cell_type": "markdown",
   "metadata": {},
   "source": [
    "# Differentiable bitonic sort\n",
    "\n",
    "[Bitonic sorts](https://en.wikipedia.org/wiki/Bitonic_sorter) allow creation of sorting networks with a sequence of fixed conditional swapping operations executed in parallel. A sorting network implements  a map from $\\mathbb{R}^n \\rightarrow \\mathbb{R}^n$, where $n=2^k$ (sorting networks for non-power-of-2 sizes are possible but not trickier).\n",
    "\n",
    "<img src=\"BitonicSort1.svg.png\">\n",
    "\n",
    "*[Image: from Wikipedia, by user Bitonic, CC0](https://en.wikipedia.org/wiki/Bitonic_sorter#/media/File:BitonicSort1.svg)*\n",
    "\n",
    "The sorting network for $n=2^k$ elements has $\\frac{k(k-1)}{2}$ \"layers\" where parallel compare-and-swap operations are used to rearrange a $k$ element vector into sorted order.\n",
    "\n",
    "### Differentiable compare-and-swap\n",
    "\n",
    "If we define the `softmax(a,b)` function (not the traditional \"softmax\" used for classification!) as the continuous approximation to the `max(a,b)` function:\n",
    "\n",
    "$$\\text{softmax}(a,b) = \\log(e^a + e^b) \\approx \\max(a,b).$$\n",
    "\n",
    "We can then fairly obviously write `softmin(a,b)` as:\n",
    "\n",
    "$$\\text{softmin}(a,b) = -\\log(e^{-a} + e^{-b}) \\approx \\min(a,b).$$ More numerically stably we can write: \n",
    "\n",
    "$$\\text{softmin}(a,b) = a + b - \\text{softmax}(a,b).$$\n",
    "\n",
    "These functions obviously aren't equal to max and min, but are relatively close, and differentiable. Note that we now have a differentiable compare-and-swap operation:\n",
    "\n",
    "$$\\text{high} = \\text{softmax}(a,b), \\text{low} = \\text{softmin}(a,b), \\text{where } \\text{low}\\leq \\text{high}$$\n",
    "\n",
    "Alternatively, we can use: \n",
    "$$\\text{smoothmax}(a,b) = \\frac{a (e^{\\alpha a}) + b (e^{\\alpha b})}{e^{\\alpha a}+e^{\\alpha b}}  \\approx \\max(a,b).$$  This has an adjustable smoothness parameter $\\alpha$, with exact maximum as $\\alpha \\rightarrow \\infty$ and pure averaging as $\\alpha \\rightarrow 0$.\n",
    "\n",
    "## Differentiable sorting\n",
    "\n",
    "For each layer in the sorting network, we can split all of the pairwise comparison-and-swaps into left-hand and right-hand sides which can be done simultaneously. We can any write function that selects the relevant elements of the vector as a multiply with a binary matrix.\n",
    "\n",
    "For each layer, we can derive two binary matrices $L \\in \\mathbb{R}^{n \\times \\frac{n}{2}}$ and $R \\in \\mathbb{R}^{n \\times \\frac{n}{2}}$ which select the elements to be compared for the left and right hands respectively. This will result in the comparison between two $\\frac{k}{2}$ length vectors. We can also derive two matrices $L' \\in \\mathbb{R}^{\\frac{n}{2} \\times n}$ and $R' \\in \\mathbb{R}^{\\frac{n}{2} \\times n}$ which put the results of the compare-and-swap operation back into the right positions.\n",
    "\n",
    "Then, each layer $i$ of the sorting process is just:\n",
    "$${\\bf x}_{i+1} = L'_i[\\text{softmin}(L_i{\\bf x_i}, R_i{\\bf x_i})] + R'_i[\\text{softmax}(L_i{\\bf x_i}, R_i{\\bf x_i})]$$\n",
    "$$ = L'_i\\left(-\\log\\left(e^{-L_i{\\bf x}_i} + e^{-R_i{\\bf x}_i}\\right)\\right) +  R'_i\\left(\\log\\left(e^{L_i{\\bf x}_i} + e^{R_i{\\bf x}_i}\\right)\\right)$$\n",
    "which is clearly differentiable (though not very numerically stable -- the usable range of elements $x$ is quite limited in single float precision).\n",
    "\n",
    "All that remains is to compute the matrices $L_i, R_i, L'_i, R'_i$ for each of the layers of the network. \n",
    "\n",
    "This process is excessively computation heavy, but easy to compute. We could also simplify this into two matrix multiplies, at the cost of a vector split and join in the middle (see the `woven` form later in this text). \n",
    "\n",
    "## Example\n",
    "\n",
    "To sort four elements, we have a network like:\n",
    "\n",
    "    0  1  2  3  \n",
    "    ┕>>┙  │  │  \n",
    "    │  │  ┕<<┙  \n",
    "    ┕>>>>>┙  │  \n",
    "    │  │  │  │  \n",
    "    ┕>>┙  │  │  \n",
    "    │  │  ┕>>┙  \n",
    "    \n",
    "This is equivalent to: \n",
    "\n",
    "    x[0], x[1] = cswap(x[0], x[1])\n",
    "    x[3], x[2] = cswap(x[2], x[3])\n",
    "    x[0], x[2] = cswap(x[0], x[2])\n",
    "    x[0], x[1] = cswap(x[0], x[1])\n",
    "    x[2], x[3] = cswap(x[2], x[3])\n",
    "    \n",
    "where `cswap(a,b) = (min(a,b), max(a,b))`\n",
    "\n",
    "Replacing the indexing with matrix multiplies and `cswap` with a `softcswap = (softmin(a,b), softmax(a,b))` we then have the differentiable form.\n",
    "\n"
   ]
  },
  {
   "cell_type": "markdown",
   "metadata": {},
   "source": [
    "# Test functions"
   ]
  },
  {
   "cell_type": "code",
   "execution_count": 1,
   "metadata": {},
   "outputs": [
    {
     "name": "stdout",
     "output_type": "stream",
     "text": [
      " 0>1\t 2<3\t 4>5\t 6<7\t 8>9\t10<11\t12>13\t14<15\t\n",
      "----------------------------------------------------------------\n",
      " 0>2\t 1>3\t 4<6\t 5<7\t 8>10\t 9>11\t12<14\t13<15\t\n",
      " 0>1\t 2>3\t 4<5\t 6<7\t 8>9\t10>11\t12<13\t14<15\t\n",
      "----------------------------------------------------------------\n",
      " 0>4\t 1>5\t 2>6\t 3>7\t 8<12\t 9<13\t10<14\t11<15\t\n",
      " 0>2\t 1>3\t 4>6\t 5>7\t 8<10\t 9<11\t12<14\t13<15\t\n",
      " 0>1\t 2>3\t 4>5\t 6>7\t 8<9\t10<11\t12<13\t14<15\t\n",
      "----------------------------------------------------------------\n",
      " 0>8\t 1>9\t 2>10\t 3>11\t 4>12\t 5>13\t 6>14\t 7>15\t\n",
      " 0>4\t 1>5\t 2>6\t 3>7\t 8>12\t 9>13\t10>14\t11>15\t\n",
      " 0>2\t 1>3\t 4>6\t 5>7\t 8>10\t 9>11\t12>14\t13>15\t\n",
      " 0>1\t 2>3\t 4>5\t 6>7\t 8>9\t10>11\t12>13\t14>15\t\n",
      "----------------------------------------------------------------\n"
     ]
    }
   ],
   "source": [
    "from bitonic_tests import bitonic_network, pretty_bitonic_network\n",
    "\n",
    "def neat_vec(n):\n",
    "    # print a vector neatly    \n",
    "    return \"\\t\".join([f\"{x:.2f}\" for x in n])\n",
    "\n",
    "# this should match the diagram at the top of the notebook\n",
    "bitonic_network(16)"
   ]
  },
  {
   "cell_type": "code",
   "execution_count": 2,
   "metadata": {
    "scrolled": false
   },
   "outputs": [
    {
     "name": "stdout",
     "output_type": "stream",
     "text": [
      " 0  1  2  3  4  5  6  7  8  9  10 11 12 13 14 15\n",
      " ╭──╯  │  │  │  │  │  │  │  │  │  │  │  │  │  │ \n",
      " │  │  ╰──╮  │  │  │  │  │  │  │  │  │  │  │  │ \n",
      " │  │  │  │  ╭──╯  │  │  │  │  │  │  │  │  │  │ \n",
      " │  │  │  │  │  │  ╰──╮  │  │  │  │  │  │  │  │ \n",
      " │  │  │  │  │  │  │  │  ╭──╯  │  │  │  │  │  │ \n",
      " │  │  │  │  │  │  │  │  │  │  ╰──╮  │  │  │  │ \n",
      " │  │  │  │  │  │  │  │  │  │  │  │  ╭──╯  │  │ \n",
      " │  │  │  │  │  │  │  │  │  │  │  │  │  │  ╰──╮ \n",
      " ╭─────╯  │  │  │  │  │  │  │  │  │  │  │  │  │ \n",
      " │  ╭─────╯  │  │  │  │  │  │  │  │  │  │  │  │ \n",
      " │  │  │  │  ╰─────╮  │  │  │  │  │  │  │  │  │ \n",
      " │  │  │  │  │  ╰─────╮  │  │  │  │  │  │  │  │ \n",
      " │  │  │  │  │  │  │  │  ╭─────╯  │  │  │  │  │ \n",
      " │  │  │  │  │  │  │  │  │  ╭─────╯  │  │  │  │ \n",
      " │  │  │  │  │  │  │  │  │  │  │  │  ╰─────╮  │ \n",
      " │  │  │  │  │  │  │  │  │  │  │  │  │  ╰─────╮ \n",
      " ╭──╯  │  │  │  │  │  │  │  │  │  │  │  │  │  │ \n",
      " │  │  ╭──╯  │  │  │  │  │  │  │  │  │  │  │  │ \n",
      " │  │  │  │  ╰──╮  │  │  │  │  │  │  │  │  │  │ \n",
      " │  │  │  │  │  │  ╰──╮  │  │  │  │  │  │  │  │ \n",
      " │  │  │  │  │  │  │  │  ╭──╯  │  │  │  │  │  │ \n",
      " │  │  │  │  │  │  │  │  │  │  ╭──╯  │  │  │  │ \n",
      " │  │  │  │  │  │  │  │  │  │  │  │  ╰──╮  │  │ \n",
      " │  │  │  │  │  │  │  │  │  │  │  │  │  │  ╰──╮ \n",
      " ╭───────────╯  │  │  │  │  │  │  │  │  │  │  │ \n",
      " │  ╭───────────╯  │  │  │  │  │  │  │  │  │  │ \n",
      " │  │  ╭───────────╯  │  │  │  │  │  │  │  │  │ \n",
      " │  │  │  ╭───────────╯  │  │  │  │  │  │  │  │ \n",
      " │  │  │  │  │  │  │  │  ╰───────────╮  │  │  │ \n",
      " │  │  │  │  │  │  │  │  │  ╰───────────╮  │  │ \n",
      " │  │  │  │  │  │  │  │  │  │  ╰───────────╮  │ \n",
      " │  │  │  │  │  │  │  │  │  │  │  ╰───────────╮ \n",
      " ╭─────╯  │  │  │  │  │  │  │  │  │  │  │  │  │ \n",
      " │  ╭─────╯  │  │  │  │  │  │  │  │  │  │  │  │ \n",
      " │  │  │  │  ╭─────╯  │  │  │  │  │  │  │  │  │ \n",
      " │  │  │  │  │  ╭─────╯  │  │  │  │  │  │  │  │ \n",
      " │  │  │  │  │  │  │  │  ╰─────╮  │  │  │  │  │ \n",
      " │  │  │  │  │  │  │  │  │  ╰─────╮  │  │  │  │ \n",
      " │  │  │  │  │  │  │  │  │  │  │  │  ╰─────╮  │ \n",
      " │  │  │  │  │  │  │  │  │  │  │  │  │  ╰─────╮ \n",
      " ╭──╯  │  │  │  │  │  │  │  │  │  │  │  │  │  │ \n",
      " │  │  ╭──╯  │  │  │  │  │  │  │  │  │  │  │  │ \n",
      " │  │  │  │  ╭──╯  │  │  │  │  │  │  │  │  │  │ \n",
      " │  │  │  │  │  │  ╭──╯  │  │  │  │  │  │  │  │ \n",
      " │  │  │  │  │  │  │  │  ╰──╮  │  │  │  │  │  │ \n",
      " │  │  │  │  │  │  │  │  │  │  ╰──╮  │  │  │  │ \n",
      " │  │  │  │  │  │  │  │  │  │  │  │  ╰──╮  │  │ \n",
      " │  │  │  │  │  │  │  │  │  │  │  │  │  │  ╰──╮ \n",
      " ╭───────────────────────╯  │  │  │  │  │  │  │ \n",
      " │  ╭───────────────────────╯  │  │  │  │  │  │ \n",
      " │  │  ╭───────────────────────╯  │  │  │  │  │ \n",
      " │  │  │  ╭───────────────────────╯  │  │  │  │ \n",
      " │  │  │  │  ╭───────────────────────╯  │  │  │ \n",
      " │  │  │  │  │  ╭───────────────────────╯  │  │ \n",
      " │  │  │  │  │  │  ╭───────────────────────╯  │ \n",
      " │  │  │  │  │  │  │  ╭───────────────────────╯ \n",
      " ╭───────────╯  │  │  │  │  │  │  │  │  │  │  │ \n",
      " │  ╭───────────╯  │  │  │  │  │  │  │  │  │  │ \n",
      " │  │  ╭───────────╯  │  │  │  │  │  │  │  │  │ \n",
      " │  │  │  ╭───────────╯  │  │  │  │  │  │  │  │ \n",
      " │  │  │  │  │  │  │  │  ╭───────────╯  │  │  │ \n",
      " │  │  │  │  │  │  │  │  │  ╭───────────╯  │  │ \n",
      " │  │  │  │  │  │  │  │  │  │  ╭───────────╯  │ \n",
      " │  │  │  │  │  │  │  │  │  │  │  ╭───────────╯ \n",
      " ╭─────╯  │  │  │  │  │  │  │  │  │  │  │  │  │ \n",
      " │  ╭─────╯  │  │  │  │  │  │  │  │  │  │  │  │ \n",
      " │  │  │  │  ╭─────╯  │  │  │  │  │  │  │  │  │ \n",
      " │  │  │  │  │  ╭─────╯  │  │  │  │  │  │  │  │ \n",
      " │  │  │  │  │  │  │  │  ╭─────╯  │  │  │  │  │ \n",
      " │  │  │  │  │  │  │  │  │  ╭─────╯  │  │  │  │ \n",
      " │  │  │  │  │  │  │  │  │  │  │  │  ╭─────╯  │ \n",
      " │  │  │  │  │  │  │  │  │  │  │  │  │  ╭─────╯ \n",
      " ╭──╯  │  │  │  │  │  │  │  │  │  │  │  │  │  │ \n",
      " │  │  ╭──╯  │  │  │  │  │  │  │  │  │  │  │  │ \n",
      " │  │  │  │  ╭──╯  │  │  │  │  │  │  │  │  │  │ \n",
      " │  │  │  │  │  │  ╭──╯  │  │  │  │  │  │  │  │ \n",
      " │  │  │  │  │  │  │  │  ╭──╯  │  │  │  │  │  │ \n",
      " │  │  │  │  │  │  │  │  │  │  ╭──╯  │  │  │  │ \n",
      " │  │  │  │  │  │  │  │  │  │  │  │  ╭──╯  │  │ \n",
      " │  │  │  │  │  │  │  │  │  │  │  │  │  │  ╭──╯ \n"
     ]
    }
   ],
   "source": [
    "pretty_bitonic_network(16)"
   ]
  },
  {
   "cell_type": "markdown",
   "metadata": {},
   "source": [
    "# Vectorised functions"
   ]
  },
  {
   "cell_type": "markdown",
   "metadata": {},
   "source": [
    "## Testing"
   ]
  },
  {
   "cell_type": "code",
   "execution_count": 3,
   "metadata": {},
   "outputs": [],
   "source": [
    "%load_ext autoreload\n",
    "%autoreload 2"
   ]
  },
  {
   "cell_type": "code",
   "execution_count": 5,
   "metadata": {},
   "outputs": [
    {
     "name": "stdout",
     "output_type": "stream",
     "text": [
      "[ 12.  43.  43.  86. 126. 167. 178. 188.]\n",
      "[ 14.  35.  45.  69. 120. 132. 140. 157.]\n",
      "[ 21.  26.  64.  80. 155. 158. 158. 173.]\n",
      "[ 46.  82. 122. 123. 133. 146. 169. 190.]\n",
      "[  2.  36.  77.  85. 118. 124. 125. 149.]\n",
      "[ 54.  70.  71.  77. 107. 115. 128. 191.]\n",
      "[ 22.  36.  95. 104. 117. 159. 166. 169.]\n",
      "[ 28.  53.  72.  73.  75.  77. 159. 173.]\n",
      "[ 32.  59.  70.  78.  86. 122. 130. 182.]\n",
      "[  2.  10.  14.  27.  41.  69. 110. 136.]\n"
     ]
    }
   ],
   "source": [
    "# Test sorting\n",
    "import autograd.numpy as np # we can use plain numpy as well (but can't take grad!)\n",
    "\n",
    "\n",
    "from differentiable_sorting import bitonic_matrices, diff_bisort, diff_argsort, bisort, smoothmax_bisort\n",
    "matrices = bitonic_matrices(8)\n",
    "\n",
    "# test bitonic sorting with exact maximum\n",
    "for i in range(10):\n",
    "    # these should all be in sorted order\n",
    "    test = np.random.randint(0, 200, 8)\n",
    "    print(bisort(matrices, test))    "
   ]
  },
  {
   "cell_type": "code",
   "execution_count": 6,
   "metadata": {},
   "outputs": [
    {
     "name": "stdout",
     "output_type": "stream",
     "text": [
      "Testing sorting for 2 elements\n",
      "Testing sorting for 4 elements\n",
      "Testing sorting for 8 elements\n",
      "Testing sorting for 16 elements\n",
      "Testing sorting for 32 elements\n",
      "Testing sorting for 64 elements\n",
      "Testing sorting for 128 elements\n",
      "Testing sorting for 256 elements\n",
      "Testing sorting for 512 elements\n",
      "Testing sorting for 1024 elements\n"
     ]
    }
   ],
   "source": [
    "for i in range(1, 11):\n",
    "    k = 2**i\n",
    "    matrices = bitonic_matrices(k)\n",
    "    print(f\"Testing sorting for {k} elements\")\n",
    "    for j in range(100):\n",
    "        test = np.random.randint(0, 200, k)\n",
    "\n",
    "        assert (np.allclose(bisort(matrices, test), np.sort(test)))"
   ]
  },
  {
   "cell_type": "markdown",
   "metadata": {},
   "source": [
    "## Differentiable sorting test"
   ]
  },
  {
   "cell_type": "code",
   "execution_count": 8,
   "metadata": {},
   "outputs": [
    {
     "name": "stdout",
     "output_type": "stream",
     "text": [
      "Softmax sorting    -197.00\t-173.00\t-78.00\t-7.00\t73.00\t121.98\t126.02\t167.00\n",
      "Smoothmax sorting  -197.00\t-173.00\t-78.00\t-7.00\t73.00\t122.07\t125.93\t167.00\n",
      "Exact sorting      -197.00\t-173.00\t-78.00\t-7.00\t73.00\t122.00\t126.00\t167.00\n",
      "\n",
      "Softmax sorting    -181.01\t-175.99\t-132.00\t-16.00\t11.00\t17.00\t90.00\t140.00\n",
      "Smoothmax sorting  -180.97\t-176.03\t-132.00\t-16.00\t11.01\t16.99\t90.00\t140.00\n",
      "Exact sorting      -181.00\t-176.00\t-132.00\t-16.00\t11.00\t17.00\t90.00\t140.00\n",
      "\n",
      "Softmax sorting    -86.00\t-7.00\t33.00\t44.00\t75.00\t116.00\t174.96\t179.04\n",
      "Smoothmax sorting  -86.00\t-7.00\t33.00\t44.00\t75.00\t116.00\t175.15\t178.85\n",
      "Exact sorting      -86.00\t-7.00\t33.00\t44.00\t75.00\t116.00\t175.00\t179.00\n",
      "\n",
      "Softmax sorting    -179.00\t-159.00\t-132.00\t-95.69\t-94.31\t-86.00\t-28.00\t165.00\n",
      "Smoothmax sorting  -179.00\t-159.00\t-132.00\t-95.00\t-95.00\t-86.00\t-28.00\t165.00\n",
      "Exact sorting      -179.00\t-159.00\t-132.00\t-95.00\t-95.00\t-86.00\t-28.00\t165.00\n",
      "\n",
      "Softmax sorting    -121.00\t-113.00\t28.00\t93.00\t104.00\t131.00\t158.00\t171.00\n",
      "Smoothmax sorting  -120.99\t-113.01\t28.00\t93.00\t104.00\t131.00\t158.00\t171.00\n",
      "Exact sorting      -121.00\t-113.00\t28.00\t93.00\t104.00\t131.00\t158.00\t171.00\n",
      "\n",
      "Softmax sorting    -159.00\t-150.00\t-70.00\t6.00\t101.00\t154.00\t160.00\t192.00\n",
      "Smoothmax sorting  -159.00\t-150.00\t-70.00\t6.00\t101.00\t154.01\t159.99\t192.00\n",
      "Exact sorting      -159.00\t-150.00\t-70.00\t6.00\t101.00\t154.00\t160.00\t192.00\n",
      "\n",
      "Softmax sorting    -174.00\t-139.00\t-28.00\t11.00\t35.00\t71.00\t119.00\t174.00\n",
      "Smoothmax sorting  -174.00\t-139.00\t-28.00\t11.00\t35.00\t71.00\t119.00\t174.00\n",
      "Exact sorting      -174.00\t-139.00\t-28.00\t11.00\t35.00\t71.00\t119.00\t174.00\n",
      "\n",
      "Softmax sorting    -182.00\t-50.00\t-36.00\t-13.00\t17.00\t114.00\t141.00\t196.00\n",
      "Smoothmax sorting  -182.00\t-50.00\t-36.00\t-13.00\t17.00\t114.00\t141.00\t196.00\n",
      "Exact sorting      -182.00\t-50.00\t-36.00\t-13.00\t17.00\t114.00\t141.00\t196.00\n",
      "\n",
      "Softmax sorting    -194.00\t-159.00\t-147.00\t-129.00\t-121.00\t-85.00\t138.00\t182.00\n",
      "Smoothmax sorting  -194.00\t-159.00\t-147.00\t-129.00\t-121.00\t-85.00\t138.00\t182.00\n",
      "Exact sorting      -194.00\t-159.00\t-147.00\t-129.00\t-121.00\t-85.00\t138.00\t182.00\n",
      "\n",
      "Softmax sorting    -200.00\t-178.00\t-172.00\t3.98\t8.02\t107.00\t129.00\t150.00\n",
      "Smoothmax sorting  -200.00\t-177.99\t-172.01\t4.07\t7.93\t107.00\t129.00\t150.00\n",
      "Exact sorting      -200.00\t-178.00\t-172.00\t4.00\t8.00\t107.00\t129.00\t150.00\n",
      "\n"
     ]
    }
   ],
   "source": [
    "# Differentiable sorting \n",
    "np.set_printoptions(precision=2)\n",
    "matrices = bitonic_matrices(8) \n",
    "\n",
    "\n",
    "for i in range(10):\n",
    "    test = np.random.randint(-200,200,8)\n",
    "    print(\"Softmax sorting   \", neat_vec(diff_bisort(matrices, test)))\n",
    "    print(\"Smoothmax sorting \", neat_vec(smoothmax_bisort(matrices, test)))\n",
    "    print(\"Exact sorting     \", neat_vec(bisort(matrices, test)))\n",
    "    \n",
    "    print()"
   ]
  },
  {
   "cell_type": "markdown",
   "metadata": {},
   "source": [
    "# Relaxed sorting\n",
    "We can define a slighly modified function which interpolates between `softmax(a,b)` and `mean(a,b)`. The result is a sorting function that can be relaxed from sorting to averaging."
   ]
  },
  {
   "cell_type": "code",
   "execution_count": 9,
   "metadata": {},
   "outputs": [
    {
     "name": "stdout",
     "output_type": "stream",
     "text": [
      "Mean 58.25\n",
      "\n",
      "Exact sorting             -154.00\t22.00\t42.00\t65.00\t95.00\t107.00\t134.00\t155.00\n",
      "\n",
      "Softmax.   smooth[0.00]   -154.00\t22.00\t42.00\t65.00\t95.00\t107.00\t134.00\t155.00\n",
      "Smoothmax. alpha=[1.00]   -154.00\t22.00\t42.00\t65.00\t95.00\t107.00\t134.00\t155.00\n",
      "\n",
      "Softmax.   smooth[0.14]   -65.55\t32.85\t43.40\t61.36\t82.65\t85.94\t107.51\t117.84\n",
      "Smoothmax. alpha=[0.86]   -154.00\t22.00\t42.00\t65.00\t95.00\t107.00\t134.00\t155.00\n",
      "\n",
      "Softmax.   smooth[0.29]   -7.43\t42.36\t47.26\t59.29\t69.30\t76.17\t86.97\t92.08\n",
      "Smoothmax. alpha=[0.71]   -154.00\t22.00\t42.00\t65.00\t95.00\t107.00\t134.00\t155.00\n",
      "\n",
      "Softmax.   smooth[0.43]   27.35\t50.08\t51.19\t57.76\t62.13\t65.82\t74.00\t77.67\n",
      "Smoothmax. alpha=[0.57]   -154.00\t22.00\t42.00\t65.00\t95.01\t106.99\t134.00\t155.00\n",
      "\n",
      "Softmax.   smooth[0.57]   45.19\t52.23\t54.33\t57.18\t59.95\t62.15\t66.39\t68.58\n",
      "Smoothmax. alpha=[0.43]   -154.00\t22.00\t42.00\t65.00\t95.07\t106.93\t134.00\t154.99\n",
      "\n",
      "Softmax.   smooth[0.71]   54.22\t55.21\t56.90\t57.57\t59.08\t59.71\t61.35\t61.96\n",
      "Smoothmax. alpha=[0.29]   -154.00\t22.07\t42.00\t64.94\t95.37\t106.64\t134.09\t154.90\n",
      "\n",
      "Softmax.   smooth[0.86]   57.73\t57.88\t58.06\t58.21\t58.30\t58.45\t58.61\t58.76\n",
      "Smoothmax. alpha=[0.14]   -154.00\t23.22\t42.69\t63.56\t96.59\t105.62\t135.45\t152.87\n",
      "\n",
      "Softmax.   smooth[1.00]   58.25\t58.25\t58.25\t58.25\t58.25\t58.25\t58.25\t58.25\n",
      "Smoothmax. alpha=[0.00]   58.25\t58.25\t58.25\t58.25\t58.25\t58.25\t58.25\t58.25\n",
      "\n"
     ]
    }
   ],
   "source": [
    "from differentiable_sorting import diff_bisort_smooth\n",
    "# Differentiable smoothed sorting \n",
    "test = np.random.randint(-200,200,8)\n",
    "print(f\"Mean {np.mean(test):.2f}\")\n",
    "print()\n",
    "print(\"Exact sorting            \", neat_vec(bisort(matrices, test)))\n",
    "print()\n",
    "for smooth in np.linspace(0, 1, 8):    \n",
    "    print(f\"Softmax.   smooth[{smooth:.2f}]  \", neat_vec(diff_bisort_smooth(matrices, test, smooth)))\n",
    "    # smoothmax's alpha is the inverse of diff_bisort_smooth\n",
    "    print(f\"Smoothmax. alpha=[{1-smooth:.2f}]  \", neat_vec(smoothmax_bisort(matrices, test, alpha=1-smooth)))\n",
    "    print()"
   ]
  },
  {
   "cell_type": "code",
   "execution_count": 10,
   "metadata": {},
   "outputs": [
    {
     "data": {
      "text/plain": [
       "array([[0.02, 0.86, 0.02, 0.02, 0.  , 0.02, 0.02, 0.02],\n",
       "       [0.02, 0.02, 0.  , 0.  , 0.04, 0.86, 0.02, 0.02],\n",
       "       [0.  , 0.02, 0.  , 0.02, 0.04, 0.02, 0.86, 0.02],\n",
       "       [0.  , 0.  , 0.02, 0.  , 0.86, 0.05, 0.05, 0.02],\n",
       "       [0.04, 0.02, 0.85, 0.02, 0.02, 0.  , 0.  , 0.03],\n",
       "       [0.  , 0.02, 0.03, 0.02, 0.02, 0.02, 0.02, 0.85],\n",
       "       [0.04, 0.02, 0.02, 0.86, 0.  , 0.  , 0.02, 0.02],\n",
       "       [0.86, 0.02, 0.05, 0.05, 0.  , 0.02, 0.  , 0.  ]])"
      ]
     },
     "execution_count": 10,
     "metadata": {},
     "output_type": "execute_result"
    }
   ],
   "source": [
    "from autograd import jacobian\n",
    "# show that we can take the derivative\n",
    "jac_sort = jacobian(diff_bisort_smooth, argnum=1)\n",
    "jac_sort(matrices, test, 0.05) # slight relaxation"
   ]
  },
  {
   "cell_type": "code",
   "execution_count": 11,
   "metadata": {},
   "outputs": [
    {
     "name": "stdout",
     "output_type": "stream",
     "text": [
      "[-154.     22.36   42.11   64.6    95.93  106.12  134.51  154.36]\n"
     ]
    },
    {
     "data": {
      "text/plain": [
       "array([[ 6.22e-15,  1.00e+00,  2.65e-15,  6.23e-15, -5.93e-17, -1.84e-14,\n",
       "         3.34e-15, -8.90e-16],\n",
       "       [-1.31e-09, -1.64e-14,  1.82e-05, -5.05e-08, -1.26e-03,  1.05e+00,\n",
       "        -5.31e-02,  3.21e-06],\n",
       "       [-2.08e-08, -3.83e-16,  4.24e-04, -1.36e-06, -7.60e-02, -5.30e-02,\n",
       "         1.13e+00,  2.70e-05],\n",
       "       [ 8.33e-07,  1.32e-17, -1.23e-02,  3.42e-05,  1.09e+00, -1.36e-03,\n",
       "        -7.59e-02, -1.67e-03],\n",
       "       [-2.44e-04, -1.26e-20,  1.12e+00, -1.13e-03, -1.34e-02,  1.87e-05,\n",
       "         4.60e-04, -1.02e-01],\n",
       "       [ 9.70e-04, -7.09e-23, -1.01e-01, -2.14e-02, -6.26e-04,  1.28e-07,\n",
       "        -9.06e-06,  1.12e+00],\n",
       "       [-1.01e-01,  1.54e-23, -3.11e-03,  1.12e+00,  3.26e-05, -2.34e-08,\n",
       "        -7.69e-07, -1.97e-02],\n",
       "       [ 1.10e+00,  3.02e-25,  1.31e-04, -1.01e-01, -6.21e-07, -2.64e-10,\n",
       "         5.00e-09,  9.29e-04]])"
      ]
     },
     "execution_count": 11,
     "metadata": {},
     "output_type": "execute_result"
    }
   ],
   "source": [
    "# show that we can take the derivative, applying some smoothing to get reasonable values\n",
    "jac_sort = jacobian(smoothmax_bisort, argnum=1)\n",
    "print(smoothmax_bisort(matrices, test, 0.2))\n",
    "jac_sort(matrices, test, 0.2) "
   ]
  },
  {
   "cell_type": "markdown",
   "metadata": {},
   "source": [
    "## Woven form\n",
    "We can \"weave\" the four matrices into two matrices for fewer multiplies at the cost of having to split and join the matrices at each layer."
   ]
  },
  {
   "cell_type": "code",
   "execution_count": 14,
   "metadata": {},
   "outputs": [
    {
     "name": "stdout",
     "output_type": "stream",
     "text": [
      "Exact sorting        -154.00\t22.00\t42.00\t65.00\t95.00\t107.00\t134.00\t155.00\n",
      "Diff. (std.)        -154.00\t22.00\t42.00\t65.00\t95.00\t107.00\t134.00\t155.00\n",
      "Diff. (woven)       -154.00\t22.00\t42.00\t65.00\t95.00\t107.00\t134.00\t155.00\n"
     ]
    }
   ],
   "source": [
    "from differentiable_sorting import bitonic_woven_matrices, dsort_weave\n",
    "\n",
    "woven_matrices = bitonic_woven_matrices(8)\n",
    "\n",
    "print(\"Exact sorting       \", neat_vec(bisort(matrices, test)))\n",
    "print(f\"Diff. (std.)       \", neat_vec(diff_bisort(matrices, test)))\n",
    "print(f\"Diff. (woven)      \", neat_vec(dsort_weave(woven_matrices, test)))\n",
    "        "
   ]
  },
  {
   "cell_type": "markdown",
   "metadata": {},
   "source": [
    "## Differentiable ranking / argsort\n",
    "We can use a differentiable similarity measure between the input and output of the vector, e.g. an RBF kernel. We can use this to generate a normalised similarity matrix and apply this to a vector `[1, 2, 3, ..., n]`. This gives a differentiable ranking function.\n",
    "\n",
    "As `sigma` gets larger, the result converges to giving all values the mean rank; as it goes to zero the result converges to the true rank."
   ]
  },
  {
   "cell_type": "code",
   "execution_count": 15,
   "metadata": {},
   "outputs": [],
   "source": [
    "from differentiable_sorting import order_matrix, diff_argsort"
   ]
  },
  {
   "cell_type": "code",
   "execution_count": 16,
   "metadata": {},
   "outputs": [],
   "source": [
    "matrices = bitonic_matrices(8)"
   ]
  },
  {
   "cell_type": "code",
   "execution_count": 24,
   "metadata": {},
   "outputs": [
    {
     "name": "stdout",
     "output_type": "stream",
     "text": [
      "[5.0, -1.0, 9.5, 13.2, 16.2, 10.5, 42.0, 18.0]\n",
      "1.00\t0.00\t2.05\t4.00\t5.00\t2.97\t7.00\t6.00\n",
      "[1 0 2 5 3 4 7 6]\n"
     ]
    }
   ],
   "source": [
    "x = [5.0, -1.0, 9.5, 13.2, 16.2, 10.5, 42.0, 18.0]\n",
    "np.set_printoptions(suppress=True)\n",
    "print(x)\n",
    "# show argsort\n",
    "ranks = diff_argsort(matrices, x, sigma=0.5)\n",
    "print(neat_vec(ranks))\n",
    "print(np.argsort(ranks))"
   ]
  },
  {
   "cell_type": "code",
   "execution_count": 26,
   "metadata": {},
   "outputs": [
    {
     "name": "stdout",
     "output_type": "stream",
     "text": [
      "1 1\n",
      "6 6\n"
     ]
    }
   ],
   "source": [
    "# we now have differentiable argmax and argmin by indexing the rank vector\n",
    "print(np.argmin(x), int(ranks[0]+0.5))\n",
    "print(np.argmax(x), int(ranks[-1]+0.5))"
   ]
  },
  {
   "cell_type": "code",
   "execution_count": 27,
   "metadata": {},
   "outputs": [
    {
     "name": "stdout",
     "output_type": "stream",
     "text": [
      "Smoothed ranks\n",
      "sigma=    0.1  | 1.00\t0.00\t2.00\t4.00\t5.00\t3.00\t7.00\t6.00\n",
      "sigma=    1.0  | 1.00\t0.00\t2.33\t3.97\t5.12\t2.73\t7.00\t5.85\n",
      "sigma=   10.0  | 2.55\t1.92\t3.01\t3.38\t3.65\t3.11\t6.79\t3.82\n",
      "sigma=  100.0  | 3.47\t3.45\t3.48\t3.49\t3.49\t3.48\t3.56\t3.50\n",
      "sigma= 1000.0  | 3.50\t3.50\t3.50\t3.50\t3.50\t3.50\t3.50\t3.50\n"
     ]
    }
   ],
   "source": [
    "print(\"Smoothed ranks\")\n",
    "test = x\n",
    "for sigma in [0.1, 1, 10, 100, 1000]:     \n",
    "    ranks = diff_argsort(matrices, test, sigma=sigma) \n",
    "    print(f\"sigma={sigma:7.1f}  |\", neat_vec(ranks))"
   ]
  },
  {
   "cell_type": "code",
   "execution_count": 28,
   "metadata": {},
   "outputs": [
    {
     "name": "stdout",
     "output_type": "stream",
     "text": [
      "[[ 0.001 -0.    -0.001 -0.    -0.    -0.    -0.    -0.   ]\n",
      " [-0.     0.    -0.    -0.    -0.    -0.    -0.    -0.   ]\n",
      " [-0.003 -0.     0.233 -0.022 -0.002 -0.206 -0.    -0.   ]\n",
      " [-0.001 -0.    -0.031  0.146 -0.033 -0.076 -0.    -0.005]\n",
      " [-0.    -0.    -0.002 -0.032  0.224 -0.002 -0.    -0.188]\n",
      " [-0.003 -0.    -0.209 -0.066 -0.004  0.283 -0.    -0.001]\n",
      " [-0.    -0.    -0.    -0.    -0.    -0.     0.    -0.   ]\n",
      " [-0.    -0.    -0.001 -0.013 -0.191 -0.002 -0.     0.207]]\n"
     ]
    }
   ],
   "source": [
    "np.set_printoptions(precision=3)\n",
    "jac_rank = jacobian(diff_argsort, argnum=1)\n",
    "print(jac_rank(matrices, np.array(test), 1.0) )"
   ]
  },
  {
   "cell_type": "markdown",
   "metadata": {},
   "source": [
    "# PyTorch example\n",
    "We can verify that this is both parallelisable on the GPU and fully differentiable."
   ]
  },
  {
   "cell_type": "code",
   "execution_count": 29,
   "metadata": {},
   "outputs": [
    {
     "name": "stdout",
     "output_type": "stream",
     "text": [
      "Device: cuda:0\n"
     ]
    }
   ],
   "source": [
    "import torch\n",
    "import numpy as np\n",
    "from torch.autograd import Variable\n",
    "import torch.nn.functional as F\n",
    "device = torch.device(\"cuda:0\" if torch.cuda.is_available() else \"cpu\")\n",
    "print('Device:', device)"
   ]
  },
  {
   "cell_type": "code",
   "execution_count": 42,
   "metadata": {},
   "outputs": [],
   "source": [
    "from differentiable_sorting_torch import softmax, diff_argsort\n",
    "from differentiable_sorting import dsort\n",
    "matrices = bitonic_matrices(16)\n",
    "torch_matrices = [[torch.from_numpy(matrix).float().to(device) for matrix in matrix_set] for matrix_set in matrices]\n"
   ]
  },
  {
   "cell_type": "code",
   "execution_count": 43,
   "metadata": {},
   "outputs": [
    {
     "name": "stdout",
     "output_type": "stream",
     "text": [
      "tensor([[3.4062e-04, 8.7856e-04, 5.7044e-08, 2.7916e-03, 4.4100e-05, 5.3073e-06,\n",
      "         2.1595e-04, 3.3469e-09, 1.3208e-02, 2.3107e-02, 4.4703e-06, 9.5774e-01,\n",
      "         1.0295e-03, 1.1822e-05, 7.6105e-05, 5.4256e-04],\n",
      "        [1.9060e-02, 4.5054e-02, 2.9057e-06, 1.8370e-01, 2.3067e-03, 2.4358e-04,\n",
      "         9.4737e-03, 1.6484e-07, 1.9522e-01, 4.7163e-01, 9.1683e-05, 2.8573e-02,\n",
      "         3.0151e-02, 2.7869e-04, 2.0594e-03, 1.2156e-02],\n",
      "        [2.9231e-02, 9.3393e-02, 4.8280e-06, 2.5603e-01, 3.2653e-03, 4.9231e-04,\n",
      "         1.9217e-02, 3.0734e-07, 2.9183e-01, 1.9657e-01, 2.1410e-04, 5.8898e-03,\n",
      "         6.5825e-02, 5.6950e-04, 3.6078e-03, 3.3849e-02],\n",
      "        [2.9448e-02, 9.3757e-02, 4.8280e-06, 2.5964e-01, 3.2800e-03, 4.9229e-04,\n",
      "         1.9180e-02, 3.0734e-07, 2.8856e-01, 1.9640e-01, 2.1227e-04, 5.8859e-03,\n",
      "         6.5418e-02, 5.6507e-04, 3.5841e-03, 3.3572e-02],\n",
      "        [1.0592e-01, 2.0078e-01, 2.1935e-05, 9.0817e-02, 2.7345e-02, 2.9336e-03,\n",
      "         1.2352e-01, 1.6764e-06, 6.5530e-02, 3.3707e-02, 1.1765e-03, 5.5014e-04,\n",
      "         1.9553e-01, 4.1747e-03, 2.2741e-02, 1.2525e-01],\n",
      "        [1.0621e-01, 1.9297e-01, 2.2255e-05, 8.8648e-02, 2.7903e-02, 2.9735e-03,\n",
      "         1.2336e-01, 1.7062e-06, 6.5614e-02, 3.4110e-02, 1.1720e-03, 5.5701e-04,\n",
      "         2.0339e-01, 4.1366e-03, 2.2904e-02, 1.2602e-01],\n",
      "        [1.6709e-01, 1.1964e-01, 3.0160e-05, 4.5034e-02, 4.2875e-02, 3.7651e-03,\n",
      "         1.7978e-01, 1.9670e-06, 3.3915e-02, 1.9568e-02, 1.9046e-03, 3.7488e-04,\n",
      "         1.5271e-01, 7.5467e-03, 4.1505e-02, 1.8427e-01],\n",
      "        [1.6192e-01, 1.2180e-01, 2.9020e-05, 4.5521e-02, 4.1156e-02, 3.6218e-03,\n",
      "         1.7367e-01, 1.8626e-06, 3.3838e-02, 1.9054e-02, 1.9408e-03, 3.6489e-04,\n",
      "         1.5126e-01, 7.8920e-03, 4.2759e-02, 1.9517e-01],\n",
      "        [1.8521e-01, 6.8104e-02, 3.8327e-04, 1.4887e-02, 1.7030e-01, 3.0638e-02,\n",
      "         1.6817e-01, 3.2216e-05, 5.1455e-03, 2.2487e-03, 1.8528e-02, 1.9716e-05,\n",
      "         5.4063e-02, 3.4927e-02, 1.2629e-01, 1.2105e-01],\n",
      "        [1.2457e-01, 4.2360e-02, 5.3503e-04, 8.8569e-03, 2.6630e-01, 4.0435e-02,\n",
      "         1.1320e-01, 4.4450e-05, 3.8615e-03, 1.8370e-03, 2.3469e-02, 1.8911e-05,\n",
      "         4.0132e-02, 4.0736e-02, 2.0878e-01, 8.4863e-02],\n",
      "        [3.8532e-02, 1.0393e-02, 1.3508e-03, 1.8227e-03, 2.2191e-01, 1.0134e-01,\n",
      "         3.5984e-02, 7.7125e-05, 1.8474e-03, 1.0262e-03, 8.0262e-02, 1.2656e-05,\n",
      "         2.1670e-02, 1.5067e-01, 2.8951e-01, 4.3591e-02],\n",
      "        [2.5452e-02, 8.4272e-03, 2.2938e-03, 1.7411e-03, 1.0697e-01, 1.9296e-01,\n",
      "         2.4408e-02, 1.1195e-04, 1.0629e-03, 5.4794e-04, 1.5343e-01, 6.3807e-06,\n",
      "         1.3279e-02, 2.9152e-01, 1.4968e-01, 2.8108e-02],\n",
      "        [3.5911e-03, 1.2999e-03, 1.3478e-02, 2.6748e-04, 4.6518e-02, 3.5504e-01,\n",
      "         5.2453e-03, 1.0300e-03, 1.7141e-04, 8.8015e-05, 3.0838e-01, 1.2216e-06,\n",
      "         2.5453e-03, 2.1745e-01, 3.9531e-02, 5.3683e-03],\n",
      "        [3.2797e-03, 1.0812e-03, 1.6070e-02, 2.2328e-04, 3.8664e-02, 2.5425e-01,\n",
      "         4.3780e-03, 1.0378e-03, 1.8737e-04, 9.9996e-05, 3.9425e-01, 1.3701e-06,\n",
      "         2.8750e-03, 2.3270e-01, 4.4959e-02, 5.9386e-03],\n",
      "        [1.3542e-04, 4.7836e-05, 8.8546e-01, 8.8402e-06, 9.7645e-04, 9.1343e-03,\n",
      "         1.6351e-04, 8.1083e-02, 7.2280e-06, 4.3487e-06, 1.4280e-02, 6.0345e-08,\n",
      "         1.1709e-04, 6.4203e-03, 1.9133e-03, 2.4577e-04],\n",
      "        [1.7111e-05, 6.2651e-06, 8.0311e-02, 1.2186e-06, 1.8109e-04, 1.6711e-03,\n",
      "         2.6556e-05, 9.1658e-01, 4.6424e-07, 2.5339e-07, 6.8453e-04, 3.6051e-09,\n",
      "         6.9012e-06, 4.0245e-04, 1.0122e-04, 1.4853e-05]], device='cuda:0')\n"
     ]
    }
   ],
   "source": [
    "test_input = np.random.normal(0, 5, 16)\n",
    "var_test_input = Variable(torch.from_numpy(test_input).float().to(device),\n",
    "                          requires_grad=True)\n",
    "\n",
    "result = dsort(torch_matrices, var_test_input, softmax=softmax)\n",
    "\n",
    "# compute the Jacobian of the sorting function, to show we can differentiate through the\n",
    "# sorting function\n",
    "jac = []\n",
    "for i in range(len(result)):\n",
    "    jac.append(\n",
    "        torch.autograd.grad(result[i], var_test_input, retain_graph=True)[0])\n",
    "\n",
    "# 16 x 16 jacobian of the sorting matrix\n",
    "print(torch.stack(jac))"
   ]
  },
  {
   "cell_type": "code",
   "execution_count": 45,
   "metadata": {},
   "outputs": [
    {
     "name": "stdout",
     "output_type": "stream",
     "text": [
      "tensor([ 7.0004,  5.0000, 14.0000,  3.0000,  9.0000, 12.0000,  7.0001, 15.0000,\n",
      "         2.1415,  2.0000, 12.0000,  0.0000,  5.0065, 11.0046,  9.8874,  6.0000],\n",
      "       device='cuda:0', grad_fn=<MvBackward>)\n"
     ]
    }
   ],
   "source": [
    "result = diff_argsort(torch_matrices, var_test_input)\n",
    "print(result)\n"
   ]
  },
  {
   "cell_type": "code",
   "execution_count": null,
   "metadata": {},
   "outputs": [],
   "source": []
  }
 ],
 "metadata": {
  "kernelspec": {
   "display_name": "Python 3",
   "language": "python",
   "name": "python3"
  },
  "language_info": {
   "codemirror_mode": {
    "name": "ipython",
    "version": 3
   },
   "file_extension": ".py",
   "mimetype": "text/x-python",
   "name": "python",
   "nbconvert_exporter": "python",
   "pygments_lexer": "ipython3",
   "version": "3.7.1"
  },
  "toc": {
   "base_numbering": 1,
   "nav_menu": {},
   "number_sections": true,
   "sideBar": true,
   "skip_h1_title": false,
   "title_cell": "Table of Contents",
   "title_sidebar": "Contents",
   "toc_cell": false,
   "toc_position": {},
   "toc_section_display": true,
   "toc_window_display": false
  }
 },
 "nbformat": 4,
 "nbformat_minor": 2
}
