{
 "cells": [
  {
   "cell_type": "markdown",
   "metadata": {},
   "source": [
    "# Differentiable bitonic sort\n",
    "\n",
    "[Bitonic sorts](https://en.wikipedia.org/wiki/Bitonic_sorter) allow creation of sorting networks with a sequence of fixed conditional swapping operations executed in parallel. A sorting network implements  a map from $\\mathbb{R}^n \\rightarrow \\mathbb{R}^n$, where $n=2^k$ (sorting networks for non-power-of-2 sizes are possible but not trickier).\n",
    "\n",
    "<img src=\"BitonicSort1.svg.png\">\n",
    "\n",
    "*[Image: from Wikipedia, by user Bitonic, CC0](https://en.wikipedia.org/wiki/Bitonic_sorter#/media/File:BitonicSort1.svg)*\n",
    "\n",
    "The sorting network for $n=2^k$ elements has $\\frac{k(k-1)}{2}$ \"layers\" where parallel compare-and-swap operations are used to rearrange a $k$ element vector into sorted order.\n",
    "\n",
    "### Differentiable compare-and-swap\n",
    "\n",
    "If we define the `softmax(a,b)` function (not the traditional \"softmax\" used for classification!) as the continuous approximation to the `max(a,b)` function:\n",
    "\n",
    "$$\\text{softmax}(a,b) = \\log(e^a + e^b) \\approx \\max(a,b).$$\n",
    "\n",
    "We can then fairly obviously write `softmin(a,b)` as:\n",
    "\n",
    "$$\\text{softmin}(a,b) = -\\log(e^{-a} + e^{-b}) \\approx \\min(a,b).$$\n",
    "\n",
    "These functions obviously aren't equal to max and min, but are relatively close, and differentiable. Note that we now have a differentiable compare-and-swap operation:\n",
    "\n",
    "$$\\text{high} = \\text{softmax}(a,b), \\text{low} = \\text{softmin}(a,b), \\text{where } \\text{low}\\leq \\text{high}$$\n",
    "\n",
    "## Differentiable sorting\n",
    "\n",
    "For each layer in the sorting network, we can split all of the pairwise comparison-and-swaps into left-hand and right-hand sides which can be done simultaneously. We can any write function that selects the relevant elements of the vector as a multiply with a binary matrix.\n",
    "\n",
    "For each layer, we can derive two binary matrices $L \\in \\mathbb{R}^{n \\times \\frac{n}{2}}$ and $R \\in \\mathbb{R}^{n \\times \\frac{n}{2}}$ which select the elements to be compared for the left and right hands respectively. This will result in the comparison between two $\\frac{k}{2}$ length vectors. We can also derive two matrices $L' \\in \\mathbb{R}^{\\frac{n}{2} \\times n}$ and $R' \\in \\mathbb{R}^{\\frac{n}{2} \\times n}$ which put the results of the compare-and-swap operation back into the right positions.\n",
    "\n",
    "Then, each layer $i$ of the sorting process is just:\n",
    "$${\\bf x}_{i+1} = L'_i[\\text{softmin}(L_i{\\bf x_i}, R_i{\\bf x_i})] + R'_i[\\text{softmax}(L_i{\\bf x_i}, R_i{\\bf x_i})]$$\n",
    "$$ = L'_i\\left(-\\log\\left(e^{-L_i{\\bf x}_i} + e^{-R_i{\\bf x}_i}\\right)\\right) +  R'_i\\left(\\log\\left(e^{L_i{\\bf x}_i} + e^{R_i{\\bf x}_i}\\right)\\right)$$\n",
    "which is clearly differentiable (though not very numerically stable -- the usable range of elements $x$ is quite limited in single float precision).\n",
    "\n",
    "All that remains is to compute the matrices $L_i, R_i, L'_i, R'_i$ for each of the layers of the network. \n",
    "\n",
    "This process is excessively computation heavy, but easy to compute. We could also simplify this into two matrix multiplies, at the cost of a vector split and join in the middle (see the `woven` form later in this text). \n",
    "\n",
    "## Example\n",
    "\n",
    "To sort four elements, we have a network like:\n",
    "\n",
    "    0  1  2  3  \n",
    "    ┕>>┙  │  │  \n",
    "    │  │  ┕<<┙  \n",
    "    ┕>>>>>┙  │  \n",
    "    │  │  │  │  \n",
    "    ┕>>┙  │  │  \n",
    "    │  │  ┕>>┙  \n",
    "    \n",
    "This is equivalent to: \n",
    "\n",
    "    x[0], x[1] = cswap(x[0], x[1])\n",
    "    x[3], x[2] = cswap(x[2], x[3])\n",
    "    x[0], x[2] = cswap(x[0], x[2])\n",
    "    x[0], x[1] = cswap(x[0], x[1])\n",
    "    x[2], x[3] = cswap(x[2], x[3])\n",
    "    \n",
    "where `cswap(a,b) = (min(a,b), max(a,b))`\n",
    "\n",
    "Replacing the indexing with matrix multiplies and `cswap` with a `softcswap = (softmin(a,b), softmax(a,b))` we then have the differentiable form.\n",
    "\n"
   ]
  },
  {
   "cell_type": "markdown",
   "metadata": {},
   "source": [
    "# Test functions"
   ]
  },
  {
   "cell_type": "code",
   "execution_count": 1,
   "metadata": {},
   "outputs": [
    {
     "name": "stdout",
     "output_type": "stream",
     "text": [
      " 0>1\t 2<3\t 4>5\t 6<7\t 8>9\t10<11\t12>13\t14<15\t\n",
      "----------------------------------------------------------------\n",
      " 0>2\t 1>3\t 4<6\t 5<7\t 8>10\t 9>11\t12<14\t13<15\t\n",
      " 0>1\t 2>3\t 4<5\t 6<7\t 8>9\t10>11\t12<13\t14<15\t\n",
      "----------------------------------------------------------------\n",
      " 0>4\t 1>5\t 2>6\t 3>7\t 8<12\t 9<13\t10<14\t11<15\t\n",
      " 0>2\t 1>3\t 4>6\t 5>7\t 8<10\t 9<11\t12<14\t13<15\t\n",
      " 0>1\t 2>3\t 4>5\t 6>7\t 8<9\t10<11\t12<13\t14<15\t\n",
      "----------------------------------------------------------------\n",
      " 0>8\t 1>9\t 2>10\t 3>11\t 4>12\t 5>13\t 6>14\t 7>15\t\n",
      " 0>4\t 1>5\t 2>6\t 3>7\t 8>12\t 9>13\t10>14\t11>15\t\n",
      " 0>2\t 1>3\t 4>6\t 5>7\t 8>10\t 9>11\t12>14\t13>15\t\n",
      " 0>1\t 2>3\t 4>5\t 6>7\t 8>9\t10>11\t12>13\t14>15\t\n",
      "----------------------------------------------------------------\n"
     ]
    }
   ],
   "source": [
    "from bitonic_tests import bitonic_network, pretty_bitonic_network\n",
    "\n",
    "# this should match the diagram at the top of the notebook\n",
    "bitonic_network(16)"
   ]
  },
  {
   "cell_type": "code",
   "execution_count": 12,
   "metadata": {},
   "outputs": [
    {
     "name": "stdout",
     "output_type": "stream",
     "text": [
      "0  1  2  3  4  5  6  7  8  9  10 11 12 13 14 15 \n",
      "+>>+  │  │  │  │  │  │  │  │  │  │  │  │  │  │  \n",
      "│  │  +<<+  │  │  │  │  │  │  │  │  │  │  │  │  \n",
      "│  │  │  │  +>>+  │  │  │  │  │  │  │  │  │  │  \n",
      "│  │  │  │  │  │  +<<+  │  │  │  │  │  │  │  │  \n",
      "│  │  │  │  │  │  │  │  +>>+  │  │  │  │  │  │  \n",
      "│  │  │  │  │  │  │  │  │  │  +<<+  │  │  │  │  \n",
      "│  │  │  │  │  │  │  │  │  │  │  │  +>>+  │  │  \n",
      "│  │  │  │  │  │  │  │  │  │  │  │  │  │  +<<+  \n",
      "+>>>>>+  │  │  │  │  │  │  │  │  │  │  │  │  │  \n",
      "│  │  │  │  │  │  │  │  │  │  │  │  │  │  │  │  \n",
      "│  │  │  │  +<<<<<+  │  │  │  │  │  │  │  │  │  \n",
      "│  │  │  │  │  │  │  │  │  │  │  │  │  │  │  │  \n",
      "│  │  │  │  │  │  │  │  +>>>>>+  │  │  │  │  │  \n",
      "│  │  │  │  │  │  │  │  │  │  │  │  │  │  │  │  \n",
      "│  │  │  │  │  │  │  │  │  │  │  │  +<<<<<+  │  \n",
      "│  │  │  │  │  │  │  │  │  │  │  │  │  │  │  │  \n",
      "+>>+  │  │  │  │  │  │  │  │  │  │  │  │  │  │  \n",
      "│  │  +>>+  │  │  │  │  │  │  │  │  │  │  │  │  \n",
      "│  │  │  │  +<<+  │  │  │  │  │  │  │  │  │  │  \n",
      "│  │  │  │  │  │  +<<+  │  │  │  │  │  │  │  │  \n",
      "│  │  │  │  │  │  │  │  +>>+  │  │  │  │  │  │  \n",
      "│  │  │  │  │  │  │  │  │  │  +>>+  │  │  │  │  \n",
      "│  │  │  │  │  │  │  │  │  │  │  │  +<<+  │  │  \n",
      "│  │  │  │  │  │  │  │  │  │  │  │  │  │  +<<+  \n",
      "+>>>>>>>>>>>+  │  │  │  │  │  │  │  │  │  │  │  \n",
      "│  │  │  │  │  │  │  │  │  │  │  │  │  │  │  │  \n",
      "│  │  │  │  │  │  │  │  │  │  │  │  │  │  │  │  \n",
      "│  │  │  │  │  │  │  │  │  │  │  │  │  │  │  │  \n",
      "│  │  │  │  │  │  │  │  +<<<<<<<<<<<+  │  │  │  \n",
      "│  │  │  │  │  │  │  │  │  │  │  │  │  │  │  │  \n",
      "│  │  │  │  │  │  │  │  │  │  │  │  │  │  │  │  \n",
      "│  │  │  │  │  │  │  │  │  │  │  │  │  │  │  │  \n",
      "+>>>>>+  │  │  │  │  │  │  │  │  │  │  │  │  │  \n",
      "│  │  │  │  │  │  │  │  │  │  │  │  │  │  │  │  \n",
      "│  │  │  │  +>>>>>+  │  │  │  │  │  │  │  │  │  \n",
      "│  │  │  │  │  │  │  │  │  │  │  │  │  │  │  │  \n",
      "│  │  │  │  │  │  │  │  +<<<<<+  │  │  │  │  │  \n",
      "│  │  │  │  │  │  │  │  │  │  │  │  │  │  │  │  \n",
      "│  │  │  │  │  │  │  │  │  │  │  │  +<<<<<+  │  \n",
      "│  │  │  │  │  │  │  │  │  │  │  │  │  │  │  │  \n",
      "+>>+  │  │  │  │  │  │  │  │  │  │  │  │  │  │  \n",
      "│  │  +>>+  │  │  │  │  │  │  │  │  │  │  │  │  \n",
      "│  │  │  │  +>>+  │  │  │  │  │  │  │  │  │  │  \n",
      "│  │  │  │  │  │  +>>+  │  │  │  │  │  │  │  │  \n",
      "│  │  │  │  │  │  │  │  +<<+  │  │  │  │  │  │  \n",
      "│  │  │  │  │  │  │  │  │  │  +<<+  │  │  │  │  \n",
      "│  │  │  │  │  │  │  │  │  │  │  │  +<<+  │  │  \n",
      "│  │  │  │  │  │  │  │  │  │  │  │  │  │  +<<+  \n",
      "+>>>>>>>>>>>>>>>>>>>>>>>+  │  │  │  │  │  │  │  \n",
      "│  │  │  │  │  │  │  │  │  │  │  │  │  │  │  │  \n",
      "│  │  │  │  │  │  │  │  │  │  │  │  │  │  │  │  \n",
      "│  │  │  │  │  │  │  │  │  │  │  │  │  │  │  │  \n",
      "│  │  │  │  │  │  │  │  │  │  │  │  │  │  │  │  \n",
      "│  │  │  │  │  │  │  │  │  │  │  │  │  │  │  │  \n",
      "│  │  │  │  │  │  │  │  │  │  │  │  │  │  │  │  \n",
      "│  │  │  │  │  │  │  │  │  │  │  │  │  │  │  │  \n",
      "+>>>>>>>>>>>+  │  │  │  │  │  │  │  │  │  │  │  \n",
      "│  │  │  │  │  │  │  │  │  │  │  │  │  │  │  │  \n",
      "│  │  │  │  │  │  │  │  │  │  │  │  │  │  │  │  \n",
      "│  │  │  │  │  │  │  │  │  │  │  │  │  │  │  │  \n",
      "│  │  │  │  │  │  │  │  +>>>>>>>>>>>+  │  │  │  \n",
      "│  │  │  │  │  │  │  │  │  │  │  │  │  │  │  │  \n",
      "│  │  │  │  │  │  │  │  │  │  │  │  │  │  │  │  \n",
      "│  │  │  │  │  │  │  │  │  │  │  │  │  │  │  │  \n",
      "+>>>>>+  │  │  │  │  │  │  │  │  │  │  │  │  │  \n",
      "│  │  │  │  │  │  │  │  │  │  │  │  │  │  │  │  \n",
      "│  │  │  │  +>>>>>+  │  │  │  │  │  │  │  │  │  \n",
      "│  │  │  │  │  │  │  │  │  │  │  │  │  │  │  │  \n",
      "│  │  │  │  │  │  │  │  +>>>>>+  │  │  │  │  │  \n",
      "│  │  │  │  │  │  │  │  │  │  │  │  │  │  │  │  \n",
      "│  │  │  │  │  │  │  │  │  │  │  │  +>>>>>+  │  \n",
      "│  │  │  │  │  │  │  │  │  │  │  │  │  │  │  │  \n",
      "+>>+  │  │  │  │  │  │  │  │  │  │  │  │  │  │  \n",
      "│  │  +>>+  │  │  │  │  │  │  │  │  │  │  │  │  \n",
      "│  │  │  │  +>>+  │  │  │  │  │  │  │  │  │  │  \n",
      "│  │  │  │  │  │  +>>+  │  │  │  │  │  │  │  │  \n",
      "│  │  │  │  │  │  │  │  +>>+  │  │  │  │  │  │  \n",
      "│  │  │  │  │  │  │  │  │  │  +>>+  │  │  │  │  \n",
      "│  │  │  │  │  │  │  │  │  │  │  │  +>>+  │  │  \n",
      "│  │  │  │  │  │  │  │  │  │  │  │  │  │  +>>+  \n"
     ]
    }
   ],
   "source": [
    "pretty_bitonic_network(16)"
   ]
  },
  {
   "cell_type": "markdown",
   "metadata": {},
   "source": [
    "# Vectorised functions"
   ]
  },
  {
   "cell_type": "markdown",
   "metadata": {},
   "source": [
    "## Testing"
   ]
  },
  {
   "cell_type": "code",
   "execution_count": 24,
   "metadata": {},
   "outputs": [
    {
     "name": "stdout",
     "output_type": "stream",
     "text": [
      "[ 10.  52.  56.  60.  69.  72.  88. 161.]\n",
      "[ 28.  82.  96. 112. 115. 129. 157. 159.]\n",
      "[ 25.  40.  75.  89. 134. 148. 162. 169.]\n",
      "[ 23.  51.  55.  79.  84. 101. 127. 180.]\n",
      "[  1.  12.  53. 124. 143. 149. 178. 180.]\n",
      "[ 44.  56.  79. 111. 129. 143. 152. 194.]\n",
      "[ 53. 149. 155. 177. 182. 184. 192. 195.]\n",
      "[ 47.  62.  86.  91. 102. 169. 186. 198.]\n",
      "[  6.  74.  90. 126. 140. 142. 155. 163.]\n",
      "[  6.  29.  31. 133. 139. 178. 180. 184.]\n"
     ]
    }
   ],
   "source": [
    "# Test sorting\n",
    "import numpy as np\n",
    "\n",
    "from differentiable_sorting import bitonic_matrices, diff_bisort, diff_rank, softmax, softmin, softcswap, bisort\n",
    "matrices = bitonic_matrices(8)\n",
    "\n",
    "for i in range(10):\n",
    "    # these should all be in sorted order\n",
    "    test = np.random.randint(0, 200, 8)\n",
    "    print(bisort(matrices, test))    "
   ]
  },
  {
   "cell_type": "code",
   "execution_count": 25,
   "metadata": {},
   "outputs": [
    {
     "name": "stdout",
     "output_type": "stream",
     "text": [
      "Testing sorting for 2 elements\n",
      "Testing sorting for 4 elements\n",
      "Testing sorting for 8 elements\n",
      "Testing sorting for 16 elements\n",
      "Testing sorting for 32 elements\n",
      "Testing sorting for 64 elements\n",
      "Testing sorting for 128 elements\n",
      "Testing sorting for 256 elements\n",
      "Testing sorting for 512 elements\n",
      "Testing sorting for 1024 elements\n"
     ]
    }
   ],
   "source": [
    "for i in range(1, 11):\n",
    "    k = 2**i\n",
    "    matrices = bitonic_matrices(k)\n",
    "    print(f\"Testing sorting for {k} elements\")\n",
    "    for j in range(100):\n",
    "        test = np.random.randint(0, 200, k)\n",
    "        assert (np.allclose(bisort(matrices, test), np.sort(test)))"
   ]
  },
  {
   "cell_type": "markdown",
   "metadata": {},
   "source": [
    "## Differentiable sorting test"
   ]
  },
  {
   "cell_type": "code",
   "execution_count": 26,
   "metadata": {},
   "outputs": [
    {
     "name": "stdout",
     "output_type": "stream",
     "text": [
      "Differentiable -160.05\t-158.64\t-157.30\t-124.00\t-115.00\t-71.00\t-45.01\t-39.99\n",
      "Exact sorting  -159.00\t-159.00\t-158.00\t-124.00\t-115.00\t-71.00\t-45.00\t-40.00\n",
      "\n",
      "Differentiable -112.62\t-110.38\t-100.13\t-96.87\t-65.62\t-63.38\t36.00\t107.00\n",
      "Exact sorting  -112.00\t-111.00\t-100.00\t-97.00\t-65.00\t-64.00\t36.00\t107.00\n",
      "\n",
      "Differentiable -64.00\t-6.00\t18.00\t30.00\t74.00\t98.00\t108.00\t175.00\n",
      "Exact sorting  -64.00\t-6.00\t18.00\t30.00\t74.00\t98.00\t108.00\t175.00\n",
      "\n",
      "Differentiable -167.00\t-86.00\t-21.00\t-12.00\t21.00\t141.00\t152.00\t170.00\n",
      "Exact sorting  -167.00\t-86.00\t-21.00\t-12.00\t21.00\t141.00\t152.00\t170.00\n",
      "\n",
      "Differentiable -197.00\t-163.00\t-46.00\t74.00\t100.00\t107.00\t145.00\t197.00\n",
      "Exact sorting  -197.00\t-163.00\t-46.00\t74.00\t100.00\t107.00\t145.00\t197.00\n",
      "\n",
      "Differentiable -157.00\t-96.00\t-74.00\t-54.00\t65.00\t108.95\t112.05\t143.00\n",
      "Exact sorting  -157.00\t-96.00\t-74.00\t-54.00\t65.00\t109.00\t112.00\t143.00\n",
      "\n",
      "Differentiable -128.00\t-71.02\t-66.98\t-50.00\t-29.00\t98.00\t153.00\t172.00\n",
      "Exact sorting  -128.00\t-71.00\t-67.00\t-50.00\t-29.00\t98.00\t153.00\t172.00\n",
      "\n",
      "Differentiable -155.00\t-93.00\t-77.00\t-60.00\t-26.00\t18.31\t19.69\t38.00\n",
      "Exact sorting  -155.00\t-93.00\t-77.00\t-60.00\t-26.00\t19.00\t19.00\t38.00\n",
      "\n",
      "Differentiable -136.01\t-130.99\t-124.00\t-73.00\t-17.00\t25.00\t45.00\t196.00\n",
      "Exact sorting  -136.00\t-131.00\t-124.00\t-73.00\t-17.00\t25.00\t45.00\t196.00\n",
      "\n",
      "Differentiable -130.00\t-65.00\t-41.00\t23.00\t80.00\t155.00\t161.00\t176.00\n",
      "Exact sorting  -130.00\t-65.00\t-41.00\t23.00\t80.00\t155.00\t161.00\t176.00\n",
      "\n"
     ]
    }
   ],
   "source": [
    "# Differentiable sorting \n",
    "np.set_printoptions(precision=2)\n",
    "matrices = bitonic_matrices(8) \n",
    "def neat_vec(n):\n",
    "    return \"\\t\".join([f\"{x:.2f}\" for x in n])\n",
    "\n",
    "for i in range(10):\n",
    "    test = np.random.randint(-200,200,8)\n",
    "    print(\"Differentiable\", neat_vec(diff_bisort(matrices, test)))\n",
    "    print(\"Exact sorting \", neat_vec(bisort(matrices, test)))\n",
    "    print()"
   ]
  },
  {
   "cell_type": "markdown",
   "metadata": {},
   "source": [
    "# Relaxed sorting\n",
    "We can define a slighly modified function which interpolates between `softmax(a,b)` and `mean(a,b)`. The result is a sorting function that can be relaxed from sorting to averaging."
   ]
  },
  {
   "cell_type": "code",
   "execution_count": 27,
   "metadata": {},
   "outputs": [
    {
     "name": "stdout",
     "output_type": "stream",
     "text": [
      "Mean -105.62\n",
      "\n",
      "Exact sorting        -187.00\t-179.00\t-173.00\t-171.00\t-166.00\t-80.00\t-46.00\t157.00\n",
      "Diff. smooth[0.00]   -187.00\t-179.00\t-173.22\t-170.78\t-165.99\t-80.00\t-46.00\t157.00\n",
      "Diff. smooth[0.14]   -159.32\t-157.79\t-151.89\t-150.12\t-122.83\t-86.27\t-68.29\t51.51\n",
      "Diff. smooth[0.29]   -143.87\t-142.95\t-136.29\t-128.65\t-101.87\t-97.44\t-76.67\t-17.26\n",
      "Diff. smooth[0.43]   -131.19\t-130.47\t-125.18\t-118.16\t-100.76\t-95.40\t-84.55\t-59.29\n",
      "Diff. smooth[0.57]   -122.58\t-122.08\t-119.86\t-118.96\t-96.54\t-94.20\t-88.99\t-81.79\n",
      "Diff. smooth[0.71]   -115.94\t-115.62\t-115.48\t-115.16\t-97.40\t-96.84\t-94.73\t-93.84\n",
      "Diff. smooth[0.86]   -110.40\t-110.25\t-110.23\t-110.08\t-101.22\t-101.07\t-100.95\t-100.80\n",
      "Diff. smooth[1.00]   -105.62\t-105.62\t-105.62\t-105.62\t-105.62\t-105.62\t-105.62\t-105.62\n"
     ]
    }
   ],
   "source": [
    "from differentiable_sorting import diff_bisort_smooth\n",
    "# Differentiable smoothed sorting \n",
    "test = np.random.randint(-200,200,8)\n",
    "print(f\"Mean {np.mean(test):.2f}\")\n",
    "print()\n",
    "print(\"Exact sorting       \", neat_vec(bisort(matrices, test)))\n",
    "for smooth in np.linspace(0, 1, 8):    \n",
    "    print(f\"Diff. smooth[{smooth:.2f}]  \", neat_vec(diff_bisort_smooth(matrices, test, smooth)))\n",
    "        "
   ]
  },
  {
   "cell_type": "markdown",
   "metadata": {},
   "source": [
    "## Woven form\n",
    "We can \"weave\" the four matrices into two matrices for fewer multiplies at the cost of having to split and join the matrices at each layer."
   ]
  },
  {
   "cell_type": "code",
   "execution_count": 28,
   "metadata": {},
   "outputs": [
    {
     "name": "stdout",
     "output_type": "stream",
     "text": [
      "Exact sorting        -187.00\t-179.00\t-173.00\t-171.00\t-166.00\t-80.00\t-46.00\t157.00\n",
      "Diff. (std.)        -187.00\t-179.00\t-173.22\t-170.78\t-165.99\t-80.00\t-46.00\t157.00\n",
      "Diff. (woven)       -187.00\t-179.00\t-173.22\t-170.78\t-165.99\t-80.00\t-46.00\t157.00\n"
     ]
    }
   ],
   "source": [
    "from differentiable_sorting import diff_bisort_weave, bisort_woven_matrices\n",
    "\n",
    "woven_matrices = bisort_woven_matrices(8)\n",
    "\n",
    "print(\"Exact sorting       \", neat_vec(bisort(matrices, test)))\n",
    "print(f\"Diff. (std.)       \", neat_vec(diff_bisort(matrices, test)))\n",
    "print(f\"Diff. (woven)      \", neat_vec(diff_bisort_weave(woven_matrices, test)))\n",
    "        "
   ]
  },
  {
   "cell_type": "markdown",
   "metadata": {},
   "source": [
    "## Differentiable ranking\n",
    "We can use a differentiable similarity measure between the input and output of the vector, e.g. an RBF kernel. We can use this to generate a normalised similarity matrix and apply this to a vector `[1, 2, 3, ..., n]`. This gives a differentiable ranking function.\n",
    "\n",
    "As `sigma` gets larger, the result converges to giving all values the mean rank; as it goes to zero the result converges to the true rank."
   ]
  },
  {
   "cell_type": "code",
   "execution_count": 29,
   "metadata": {},
   "outputs": [],
   "source": [
    "from differentiable_sorting import order_matrix, diff_rank"
   ]
  },
  {
   "cell_type": "code",
   "execution_count": 30,
   "metadata": {},
   "outputs": [],
   "source": [
    "matrices = bitonic_matrices(8)\n",
    "test = np.random.randint(0, 200, 8)\n",
    "sortd = diff_bisort(matrices, test)"
   ]
  },
  {
   "cell_type": "code",
   "execution_count": 31,
   "metadata": {},
   "outputs": [
    {
     "name": "stdout",
     "output_type": "stream",
     "text": [
      "Smoothed ranks\n",
      "sigma=    0.1  | 6.00\t0.00\t3.00\t2.00\t7.00\t2.00\t4.00\t5.00\n",
      "sigma=    1.0  | 6.00\t0.00\t2.36\t1.76\t7.00\t1.76\t4.00\t5.00\n",
      "sigma=   10.0  | 6.02\t0.80\t2.25\t2.19\t6.97\t2.19\t2.72\t5.00\n",
      "sigma=  100.0  | 4.34\t2.69\t2.84\t2.83\t4.70\t2.83\t2.92\t3.86\n",
      "sigma= 1000.0  | 3.51\t3.49\t3.49\t3.49\t3.51\t3.49\t3.49\t3.50\n"
     ]
    }
   ],
   "source": [
    "print(\"Smoothed ranks\")\n",
    "for sigma in [0.1, 1, 10, 100, 1000]:\n",
    "    similarity = order_matrix(test, sortd, sigma=sigma)    \n",
    "    ranks = np.arange(len(test))    \n",
    "    print(f\"sigma={sigma:7.1f}  |\", neat_vec(similarity @ ranks))"
   ]
  },
  {
   "cell_type": "code",
   "execution_count": 32,
   "metadata": {},
   "outputs": [],
   "source": [
    "def diff_rank(matrices, x, sigma=0.1):\n",
    "    \"\"\"Return the smoothed, differentiable ranking of each element of x. Sigma\n",
    "    specifies the smoothing of the ranking. \"\"\"\n",
    "    sortd = diff_bisort(matrices, x)\n",
    "    return order_matrix(x, sortd, sigma=sigma) @ np.arange(len(x))"
   ]
  },
  {
   "cell_type": "code",
   "execution_count": 33,
   "metadata": {},
   "outputs": [
    {
     "name": "stdout",
     "output_type": "stream",
     "text": [
      "1.00\t0.00\t2.00\t3.00\t4.00\t6.00\t7.00\t5.00\n"
     ]
    }
   ],
   "source": [
    "x = [5.0, -1.0, 9.5, 13.2, 16.2, 20.5, 42.0, 18.0]\n",
    "np.set_printoptions(suppress=True)\n",
    "print(neat_vec((diff_rank(matrices, x, sigma=0.1))))"
   ]
  },
  {
   "cell_type": "markdown",
   "metadata": {},
   "source": [
    "# PyTorch example\n",
    "We can verify that this is both parallelisable on the GPU and fully differentiable."
   ]
  },
  {
   "cell_type": "code",
   "execution_count": 1,
   "metadata": {},
   "outputs": [
    {
     "name": "stdout",
     "output_type": "stream",
     "text": [
      "Device: cpu\n"
     ]
    }
   ],
   "source": [
    "import torch\n",
    "import numpy as np\n",
    "from torch.autograd import Variable\n",
    "import torch.nn.functional as F\n",
    "device = torch.device(\"cuda:0\" if torch.cuda.is_available() else \"cpu\")\n",
    "print('Device:', device)"
   ]
  },
  {
   "cell_type": "code",
   "execution_count": 5,
   "metadata": {},
   "outputs": [],
   "source": [
    "from differentiable_sorting_torch import diff_bisort, bitonic_matrices, diff_rank\n",
    "matrices = bitonic_matrices(16)\n",
    "torch_matrices = [[torch.from_numpy(matrix).float().to(device) for matrix in matrix_set] for matrix_set in matrices]\n"
   ]
  },
  {
   "cell_type": "code",
   "execution_count": 6,
   "metadata": {},
   "outputs": [
    {
     "name": "stdout",
     "output_type": "stream",
     "text": [
      "tensor([[2.5131e-03, 5.2202e-05, 6.7652e-05, 1.5480e-02, 1.4476e-04, 5.9317e-05,\n",
      "         5.3141e-03, 7.3452e-04, 5.8550e-04, 1.5430e-04, 9.6412e-06, 6.1721e-07,\n",
      "         9.7262e-01, 2.1492e-03, 5.2062e-06, 1.0513e-04],\n",
      "        [9.0604e-02, 1.8423e-03, 2.3955e-03, 6.6582e-01, 4.7377e-03, 1.9671e-03,\n",
      "         1.5011e-01, 2.2408e-02, 1.0846e-02, 2.4933e-03, 1.6341e-04, 1.0141e-05,\n",
      "         2.1643e-02, 2.3574e-02, 6.5396e-05, 1.3220e-03],\n",
      "        [1.7588e-01, 3.2152e-03, 4.0942e-03, 1.5777e-01, 1.0447e-02, 4.2611e-03,\n",
      "         4.0763e-01, 5.2987e-02, 5.9876e-02, 1.4155e-02, 8.1245e-04, 4.9536e-05,\n",
      "         2.8100e-03, 9.8990e-02, 3.7328e-04, 6.6456e-03],\n",
      "        [2.3339e-01, 4.8711e-03, 6.2478e-03, 1.0802e-01, 1.4679e-02, 5.5586e-03,\n",
      "         2.1918e-01, 6.2734e-02, 1.0191e-01, 2.0118e-02, 1.3029e-03, 7.9378e-05,\n",
      "         1.5999e-03, 2.1119e-01, 4.7283e-04, 8.6520e-03],\n",
      "        [1.6945e-01, 1.7494e-02, 2.2230e-02, 1.4854e-02, 4.5408e-02, 2.0010e-02,\n",
      "         6.0525e-02, 1.2786e-01, 1.8481e-01, 6.7653e-02, 4.7634e-03, 2.6554e-04,\n",
      "         4.6935e-04, 2.1804e-01, 2.4129e-03, 4.3756e-02],\n",
      "        [1.3992e-01, 1.6997e-02, 2.1944e-02, 1.4625e-02, 4.4449e-02, 1.8391e-02,\n",
      "         5.8995e-02, 1.4786e-01, 2.0457e-01, 7.5327e-02, 5.4382e-03, 3.1253e-04,\n",
      "         4.0482e-04, 2.0016e-01, 2.7494e-03, 4.7851e-02],\n",
      "        [7.2830e-02, 4.2455e-02, 5.2569e-02, 1.0570e-02, 1.0923e-01, 5.3440e-02,\n",
      "         4.3004e-02, 2.0525e-01, 1.2955e-01, 9.8505e-02, 7.8023e-03, 4.1752e-04,\n",
      "         1.7843e-04, 8.6468e-02, 4.4542e-03, 8.3270e-02],\n",
      "        [6.8911e-02, 4.9820e-02, 6.0888e-02, 9.3946e-03, 1.2498e-01, 6.4993e-02,\n",
      "         3.6221e-02, 1.6981e-01, 1.1750e-01, 1.0732e-01, 7.7791e-03, 3.7677e-04,\n",
      "         1.7295e-04, 8.3325e-02, 4.6774e-03, 9.3830e-02],\n",
      "        [9.5199e-03, 1.1129e-01, 1.2087e-01, 6.9349e-04, 1.2397e-01, 1.1202e-01,\n",
      "         3.7675e-03, 4.4763e-02, 5.4893e-02, 1.5361e-01, 4.4464e-02, 4.2033e-03,\n",
      "         2.9510e-05, 2.2178e-02, 2.2804e-02, 1.7092e-01],\n",
      "        [9.8624e-03, 1.1140e-01, 1.2333e-01, 7.3640e-04, 1.2174e-01, 1.1006e-01,\n",
      "         4.0616e-03, 4.6487e-02, 5.2085e-02, 1.5211e-01, 4.5407e-02, 4.3951e-03,\n",
      "         2.6569e-05, 2.0675e-02, 2.3913e-02, 1.7372e-01],\n",
      "        [9.1189e-03, 1.5818e-01, 1.5927e-01, 6.7955e-04, 1.2166e-01, 1.4689e-01,\n",
      "         3.8372e-03, 4.2662e-02, 3.1407e-02, 9.8072e-02, 6.3888e-02, 5.3611e-03,\n",
      "         1.6375e-05, 1.3022e-02, 2.9135e-02, 1.1680e-01],\n",
      "        [8.9143e-03, 1.6066e-01, 1.5963e-01, 6.6011e-04, 1.2158e-01, 1.4964e-01,\n",
      "         3.7087e-03, 4.1516e-02, 3.1226e-02, 9.6149e-02, 6.5286e-02, 5.3731e-03,\n",
      "         1.6812e-05, 1.3091e-02, 2.9161e-02, 1.1339e-01],\n",
      "        [4.0161e-03, 1.4624e-01, 1.2010e-01, 3.0517e-04, 7.0155e-02, 1.4257e-01,\n",
      "         1.6122e-03, 1.5371e-02, 7.8578e-03, 4.4216e-02, 2.2140e-01, 3.4134e-02,\n",
      "         2.9631e-06, 2.5513e-03, 1.3931e-01, 5.0167e-02],\n",
      "        [3.3864e-03, 1.1937e-01, 9.7896e-02, 2.5140e-04, 5.6866e-02, 1.1553e-01,\n",
      "         1.3125e-03, 1.2238e-02, 8.6327e-03, 4.9764e-02, 2.9470e-01, 3.9324e-02,\n",
      "         3.3441e-06, 2.9353e-03, 1.4496e-01, 5.2830e-02],\n",
      "        [1.4543e-03, 4.8886e-02, 4.2261e-02, 1.2054e-04, 2.6051e-02, 4.7604e-02,\n",
      "         6.3254e-04, 6.3888e-03, 2.9633e-03, 1.3881e-02, 1.4642e-01, 1.6593e-01,\n",
      "         1.4021e-06, 1.2210e-03, 4.6847e-01, 2.7719e-02],\n",
      "        [2.2972e-04, 7.2248e-03, 6.2038e-03, 1.8861e-05, 3.8977e-03, 7.0020e-03,\n",
      "         9.2715e-05, 9.2796e-04, 1.2863e-03, 6.4770e-03, 9.0371e-02, 7.3977e-01,\n",
      "         5.0029e-07, 4.3037e-04, 1.2704e-01, 9.0292e-03]])\n"
     ]
    }
   ],
   "source": [
    "test_input = np.random.normal(0, 5, 16)\n",
    "var_test_input = Variable(torch.from_numpy(test_input).float().to(device),\n",
    "                          requires_grad=True)\n",
    "\n",
    "result = diff_bisort(torch_matrices, var_test_input)\n",
    "\n",
    "# compute the Jacobian of the sorting function, to show we can differentiate through the\n",
    "# sorting function\n",
    "jac = []\n",
    "for i in range(len(result)):\n",
    "    jac.append(\n",
    "        torch.autograd.grad(result[i], var_test_input, retain_graph=True)[0])\n",
    "\n",
    "# 16 x 16 jacobian of the sorting matrix\n",
    "print(torch.stack(jac))"
   ]
  },
  {
   "cell_type": "code",
   "execution_count": 9,
   "metadata": {},
   "outputs": [
    {
     "name": "stdout",
     "output_type": "stream",
     "text": [
      "-1\n"
     ]
    },
    {
     "ename": "RuntimeError",
     "evalue": "Device index must not be negative",
     "output_type": "error",
     "traceback": [
      "\u001b[1;31m---------------------------------------------------------------------------\u001b[0m",
      "\u001b[1;31mRuntimeError\u001b[0m                              Traceback (most recent call last)",
      "\u001b[1;32m<ipython-input-9-4043b086d297>\u001b[0m in \u001b[0;36m<module>\u001b[1;34m\u001b[0m\n\u001b[0;32m      1\u001b[0m \u001b[0mprint\u001b[0m\u001b[1;33m(\u001b[0m\u001b[0mvar_test_input\u001b[0m\u001b[1;33m.\u001b[0m\u001b[0mget_device\u001b[0m\u001b[1;33m(\u001b[0m\u001b[1;33m)\u001b[0m\u001b[1;33m)\u001b[0m\u001b[1;33m\u001b[0m\u001b[1;33m\u001b[0m\u001b[0m\n\u001b[1;32m----> 2\u001b[1;33m \u001b[0mresult\u001b[0m \u001b[1;33m=\u001b[0m \u001b[0mdiff_rank\u001b[0m\u001b[1;33m(\u001b[0m\u001b[0mtorch_matrices\u001b[0m\u001b[1;33m,\u001b[0m \u001b[0mvar_test_input\u001b[0m\u001b[1;33m)\u001b[0m\u001b[1;33m\u001b[0m\u001b[1;33m\u001b[0m\u001b[0m\n\u001b[0m\u001b[0;32m      3\u001b[0m \u001b[1;33m\u001b[0m\u001b[0m\n\u001b[0;32m      4\u001b[0m \u001b[0mprint\u001b[0m\u001b[1;33m(\u001b[0m\u001b[0mresult\u001b[0m\u001b[1;33m)\u001b[0m\u001b[1;33m\u001b[0m\u001b[1;33m\u001b[0m\u001b[0m\n",
      "\u001b[1;32m~\\Dropbox\\devel\\differentiable_sorting\\differentiable_sorting_torch.py\u001b[0m in \u001b[0;36mdiff_rank\u001b[1;34m(matrices, x, sigma)\u001b[0m\n\u001b[0;32m     44\u001b[0m     specifies the smoothing of the ranking. \"\"\"\n\u001b[0;32m     45\u001b[0m     \u001b[0msortd\u001b[0m \u001b[1;33m=\u001b[0m \u001b[0mdiff_bisort\u001b[0m\u001b[1;33m(\u001b[0m\u001b[0mmatrices\u001b[0m\u001b[1;33m,\u001b[0m \u001b[0mx\u001b[0m\u001b[1;33m)\u001b[0m\u001b[1;33m\u001b[0m\u001b[1;33m\u001b[0m\u001b[0m\n\u001b[1;32m---> 46\u001b[1;33m     \u001b[1;32mreturn\u001b[0m \u001b[0morder_matrix\u001b[0m\u001b[1;33m(\u001b[0m\u001b[0mx\u001b[0m\u001b[1;33m,\u001b[0m \u001b[0msortd\u001b[0m\u001b[1;33m,\u001b[0m \u001b[0msigma\u001b[0m\u001b[1;33m=\u001b[0m\u001b[0msigma\u001b[0m\u001b[1;33m)\u001b[0m \u001b[1;33m@\u001b[0m \u001b[1;33m(\u001b[0m\u001b[0mtorch\u001b[0m\u001b[1;33m.\u001b[0m\u001b[0marange\u001b[0m\u001b[1;33m(\u001b[0m\u001b[0mlen\u001b[0m\u001b[1;33m(\u001b[0m\u001b[0mx\u001b[0m\u001b[1;33m)\u001b[0m\u001b[1;33m,\u001b[0m \u001b[0mdtype\u001b[0m\u001b[1;33m=\u001b[0m\u001b[0mtorch\u001b[0m\u001b[1;33m.\u001b[0m\u001b[0mfloat\u001b[0m\u001b[1;33m)\u001b[0m\u001b[1;33m.\u001b[0m\u001b[0mto\u001b[0m\u001b[1;33m(\u001b[0m\u001b[0mx\u001b[0m\u001b[1;33m.\u001b[0m\u001b[0mget_device\u001b[0m\u001b[1;33m(\u001b[0m\u001b[1;33m)\u001b[0m\u001b[1;33m)\u001b[0m\u001b[1;33m)\u001b[0m\u001b[1;33m\u001b[0m\u001b[1;33m\u001b[0m\u001b[0m\n\u001b[0m\u001b[0;32m     47\u001b[0m \u001b[1;33m\u001b[0m\u001b[0m\n",
      "\u001b[1;31mRuntimeError\u001b[0m: Device index must not be negative"
     ]
    }
   ],
   "source": [
    "result = diff_rank(torch_matrices, var_test_input)\n",
    "print(result)\n"
   ]
  },
  {
   "cell_type": "code",
   "execution_count": null,
   "metadata": {},
   "outputs": [],
   "source": []
  }
 ],
 "metadata": {
  "kernelspec": {
   "display_name": "Python [conda env:pytorch]",
   "language": "python",
   "name": "conda-env-pytorch-py"
  },
  "language_info": {
   "codemirror_mode": {
    "name": "ipython",
    "version": 3
   },
   "file_extension": ".py",
   "mimetype": "text/x-python",
   "name": "python",
   "nbconvert_exporter": "python",
   "pygments_lexer": "ipython3",
   "version": "3.7.3"
  },
  "toc": {
   "base_numbering": 1,
   "nav_menu": {},
   "number_sections": true,
   "sideBar": true,
   "skip_h1_title": false,
   "title_cell": "Table of Contents",
   "title_sidebar": "Contents",
   "toc_cell": false,
   "toc_position": {},
   "toc_section_display": true,
   "toc_window_display": false
  }
 },
 "nbformat": 4,
 "nbformat_minor": 2
}
