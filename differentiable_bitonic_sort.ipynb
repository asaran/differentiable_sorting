{
 "cells": [
  {
   "cell_type": "markdown",
   "metadata": {},
   "source": [
    "# Differentiable bitonic sort\n",
    "\n",
    "[Bitonic sorts](https://en.wikipedia.org/wiki/Bitonic_sorter) allow creation of sorting networks with a sequence of fixed conditional swapping operations executed in parallel. A sorting network implements  a map from $\\mathbb{R}^n \\rightarrow \\mathbb{R}^n$, where $n=2^k$ (sorting networks for non-power-of-2 sizes are possible but not trickier).\n",
    "\n",
    "<img src=\"BitonicSort1.svg.png\">\n",
    "\n",
    "*[Image: from Wikipedia, by user Bitonic, CC0](https://en.wikipedia.org/wiki/Bitonic_sorter#/media/File:BitonicSort1.svg)*\n",
    "\n",
    "The sorting network for $n=2^k$ elements has $\\frac{k(k-1)}{2}$ \"layers\" where parallel compare-and-swap operations are used to rearrange a $k$ element vector into sorted order.\n",
    "\n",
    "### Differentiable compare-and-swap\n",
    "\n",
    "If we define the `softmax(a,b)` function (not the traditional \"softmax\" used for classification!) as the continuous approximation to the `max(a,b)` function:\n",
    "\n",
    "$$\\text{softmax}(a,b) = \\log(e^a + e^b) \\approx \\max(a,b).$$\n",
    "\n",
    "We can then fairly obviously write `softmin(a,b)` as:\n",
    "\n",
    "$$\\text{softmin}(a,b) = -\\log(e^{-a} + e^{-b}) \\approx \\min(a,b).$$ More numerically stably we can write: \n",
    "\n",
    "$$\\text{softmin}(a,b) = a + b - \\text{softmax}(a,b).$$\n",
    "\n",
    "These functions obviously aren't equal to max and min, but are relatively close, and differentiable. Note that we now have a differentiable compare-and-swap operation:\n",
    "\n",
    "$$\\text{high} = \\text{softmax}(a,b), \\text{low} = \\text{softmin}(a,b), \\text{where } \\text{low}\\leq \\text{high}$$\n",
    "\n",
    "Alternatively, we can use: \n",
    "$$\\text{smoothmax}(a,b) = \\frac{a (e^{\\alpha a}) + b (e^{\\alpha b})}{e^{\\alpha a}+e^{\\alpha b}}  \\approx \\max(a,b).$$  This has an adjustable smoothness parameter $\\alpha$, with exact maximum as $\\alpha \\rightarrow \\infty$ and pure averaging as $\\alpha \\rightarrow 0$.\n",
    "\n",
    "## Differentiable sorting\n",
    "\n",
    "For each layer in the sorting network, we can split all of the pairwise comparison-and-swaps into left-hand and right-hand sides which can be done simultaneously. We can any write function that selects the relevant elements of the vector as a multiply with a binary matrix.\n",
    "\n",
    "For each layer, we can derive two binary matrices $L \\in \\mathbb{R}^{n \\times \\frac{n}{2}}$ and $R \\in \\mathbb{R}^{n \\times \\frac{n}{2}}$ which select the elements to be compared for the left and right hands respectively. This will result in the comparison between two $\\frac{k}{2}$ length vectors. We can also derive two matrices $L' \\in \\mathbb{R}^{\\frac{n}{2} \\times n}$ and $R' \\in \\mathbb{R}^{\\frac{n}{2} \\times n}$ which put the results of the compare-and-swap operation back into the right positions.\n",
    "\n",
    "Then, each layer $i$ of the sorting process is just:\n",
    "$${\\bf x}_{i+1} = L'_i[\\text{softmin}(L_i{\\bf x_i}, R_i{\\bf x_i})] + R'_i[\\text{softmax}(L_i{\\bf x_i}, R_i{\\bf x_i})]$$\n",
    "$$ = L'_i\\left(-\\log\\left(e^{-L_i{\\bf x}_i} + e^{-R_i{\\bf x}_i}\\right)\\right) +  R'_i\\left(\\log\\left(e^{L_i{\\bf x}_i} + e^{R_i{\\bf x}_i}\\right)\\right)$$\n",
    "which is clearly differentiable (though not very numerically stable -- the usable range of elements $x$ is quite limited in single float precision).\n",
    "\n",
    "All that remains is to compute the matrices $L_i, R_i, L'_i, R'_i$ for each of the layers of the network. \n",
    "\n",
    "This process is excessively computation heavy, but easy to compute. We could also simplify this into two matrix multiplies, at the cost of a vector split and join in the middle (see the `woven` form later in this text). \n",
    "\n",
    "## Example\n",
    "\n",
    "To sort four elements, we have a network like:\n",
    "\n",
    "    0  1  2  3  \n",
    "    ┕>>┙  │  │  \n",
    "    │  │  ┕<<┙  \n",
    "    ┕>>>>>┙  │  \n",
    "    │  │  │  │  \n",
    "    ┕>>┙  │  │  \n",
    "    │  │  ┕>>┙  \n",
    "    \n",
    "This is equivalent to: \n",
    "\n",
    "    x[0], x[1] = cswap(x[0], x[1])\n",
    "    x[3], x[2] = cswap(x[2], x[3])\n",
    "    x[0], x[2] = cswap(x[0], x[2])\n",
    "    x[0], x[1] = cswap(x[0], x[1])\n",
    "    x[2], x[3] = cswap(x[2], x[3])\n",
    "    \n",
    "where `cswap(a,b) = (min(a,b), max(a,b))`\n",
    "\n",
    "Replacing the indexing with matrix multiplies and `cswap` with a `softcswap = (softmin(a,b), softmax(a,b))` we then have the differentiable form.\n",
    "\n"
   ]
  },
  {
   "cell_type": "markdown",
   "metadata": {},
   "source": [
    "# Test functions"
   ]
  },
  {
   "cell_type": "code",
   "execution_count": 1,
   "metadata": {},
   "outputs": [
    {
     "name": "stdout",
     "output_type": "stream",
     "text": [
      " 0>1\t 2<3\t 4>5\t 6<7\t 8>9\t10<11\t12>13\t14<15\t\n",
      "----------------------------------------------------------------\n",
      " 0>2\t 1>3\t 4<6\t 5<7\t 8>10\t 9>11\t12<14\t13<15\t\n",
      " 0>1\t 2>3\t 4<5\t 6<7\t 8>9\t10>11\t12<13\t14<15\t\n",
      "----------------------------------------------------------------\n",
      " 0>4\t 1>5\t 2>6\t 3>7\t 8<12\t 9<13\t10<14\t11<15\t\n",
      " 0>2\t 1>3\t 4>6\t 5>7\t 8<10\t 9<11\t12<14\t13<15\t\n",
      " 0>1\t 2>3\t 4>5\t 6>7\t 8<9\t10<11\t12<13\t14<15\t\n",
      "----------------------------------------------------------------\n",
      " 0>8\t 1>9\t 2>10\t 3>11\t 4>12\t 5>13\t 6>14\t 7>15\t\n",
      " 0>4\t 1>5\t 2>6\t 3>7\t 8>12\t 9>13\t10>14\t11>15\t\n",
      " 0>2\t 1>3\t 4>6\t 5>7\t 8>10\t 9>11\t12>14\t13>15\t\n",
      " 0>1\t 2>3\t 4>5\t 6>7\t 8>9\t10>11\t12>13\t14>15\t\n",
      "----------------------------------------------------------------\n"
     ]
    }
   ],
   "source": [
    "from bitonic_tests import bitonic_network, pretty_bitonic_network\n",
    "\n",
    "def neat_vec(n):\n",
    "    # print a vector neatly    \n",
    "    return \"\\t\".join([f\"{x:.2f}\" for x in n])\n",
    "\n",
    "# this should match the diagram at the top of the notebook\n",
    "bitonic_network(16)"
   ]
  },
  {
   "cell_type": "code",
   "execution_count": 2,
   "metadata": {
    "scrolled": false
   },
   "outputs": [
    {
     "name": "stdout",
     "output_type": "stream",
     "text": [
      " 0  1  2  3  4  5  6  7  8  9  10 11 12 13 14 15\n",
      " ╭──╯  │  │  │  │  │  │  │  │  │  │  │  │  │  │ \n",
      " │  │  ╰──╮  │  │  │  │  │  │  │  │  │  │  │  │ \n",
      " │  │  │  │  ╭──╯  │  │  │  │  │  │  │  │  │  │ \n",
      " │  │  │  │  │  │  ╰──╮  │  │  │  │  │  │  │  │ \n",
      " │  │  │  │  │  │  │  │  ╭──╯  │  │  │  │  │  │ \n",
      " │  │  │  │  │  │  │  │  │  │  ╰──╮  │  │  │  │ \n",
      " │  │  │  │  │  │  │  │  │  │  │  │  ╭──╯  │  │ \n",
      " │  │  │  │  │  │  │  │  │  │  │  │  │  │  ╰──╮ \n",
      " ╭─────╯  │  │  │  │  │  │  │  │  │  │  │  │  │ \n",
      " │  ╭─────╯  │  │  │  │  │  │  │  │  │  │  │  │ \n",
      " │  │  │  │  ╰─────╮  │  │  │  │  │  │  │  │  │ \n",
      " │  │  │  │  │  ╰─────╮  │  │  │  │  │  │  │  │ \n",
      " │  │  │  │  │  │  │  │  ╭─────╯  │  │  │  │  │ \n",
      " │  │  │  │  │  │  │  │  │  ╭─────╯  │  │  │  │ \n",
      " │  │  │  │  │  │  │  │  │  │  │  │  ╰─────╮  │ \n",
      " │  │  │  │  │  │  │  │  │  │  │  │  │  ╰─────╮ \n",
      " ╭──╯  │  │  │  │  │  │  │  │  │  │  │  │  │  │ \n",
      " │  │  ╭──╯  │  │  │  │  │  │  │  │  │  │  │  │ \n",
      " │  │  │  │  ╰──╮  │  │  │  │  │  │  │  │  │  │ \n",
      " │  │  │  │  │  │  ╰──╮  │  │  │  │  │  │  │  │ \n",
      " │  │  │  │  │  │  │  │  ╭──╯  │  │  │  │  │  │ \n",
      " │  │  │  │  │  │  │  │  │  │  ╭──╯  │  │  │  │ \n",
      " │  │  │  │  │  │  │  │  │  │  │  │  ╰──╮  │  │ \n",
      " │  │  │  │  │  │  │  │  │  │  │  │  │  │  ╰──╮ \n",
      " ╭───────────╯  │  │  │  │  │  │  │  │  │  │  │ \n",
      " │  ╭───────────╯  │  │  │  │  │  │  │  │  │  │ \n",
      " │  │  ╭───────────╯  │  │  │  │  │  │  │  │  │ \n",
      " │  │  │  ╭───────────╯  │  │  │  │  │  │  │  │ \n",
      " │  │  │  │  │  │  │  │  ╰───────────╮  │  │  │ \n",
      " │  │  │  │  │  │  │  │  │  ╰───────────╮  │  │ \n",
      " │  │  │  │  │  │  │  │  │  │  ╰───────────╮  │ \n",
      " │  │  │  │  │  │  │  │  │  │  │  ╰───────────╮ \n",
      " ╭─────╯  │  │  │  │  │  │  │  │  │  │  │  │  │ \n",
      " │  ╭─────╯  │  │  │  │  │  │  │  │  │  │  │  │ \n",
      " │  │  │  │  ╭─────╯  │  │  │  │  │  │  │  │  │ \n",
      " │  │  │  │  │  ╭─────╯  │  │  │  │  │  │  │  │ \n",
      " │  │  │  │  │  │  │  │  ╰─────╮  │  │  │  │  │ \n",
      " │  │  │  │  │  │  │  │  │  ╰─────╮  │  │  │  │ \n",
      " │  │  │  │  │  │  │  │  │  │  │  │  ╰─────╮  │ \n",
      " │  │  │  │  │  │  │  │  │  │  │  │  │  ╰─────╮ \n",
      " ╭──╯  │  │  │  │  │  │  │  │  │  │  │  │  │  │ \n",
      " │  │  ╭──╯  │  │  │  │  │  │  │  │  │  │  │  │ \n",
      " │  │  │  │  ╭──╯  │  │  │  │  │  │  │  │  │  │ \n",
      " │  │  │  │  │  │  ╭──╯  │  │  │  │  │  │  │  │ \n",
      " │  │  │  │  │  │  │  │  ╰──╮  │  │  │  │  │  │ \n",
      " │  │  │  │  │  │  │  │  │  │  ╰──╮  │  │  │  │ \n",
      " │  │  │  │  │  │  │  │  │  │  │  │  ╰──╮  │  │ \n",
      " │  │  │  │  │  │  │  │  │  │  │  │  │  │  ╰──╮ \n",
      " ╭───────────────────────╯  │  │  │  │  │  │  │ \n",
      " │  ╭───────────────────────╯  │  │  │  │  │  │ \n",
      " │  │  ╭───────────────────────╯  │  │  │  │  │ \n",
      " │  │  │  ╭───────────────────────╯  │  │  │  │ \n",
      " │  │  │  │  ╭───────────────────────╯  │  │  │ \n",
      " │  │  │  │  │  ╭───────────────────────╯  │  │ \n",
      " │  │  │  │  │  │  ╭───────────────────────╯  │ \n",
      " │  │  │  │  │  │  │  ╭───────────────────────╯ \n",
      " ╭───────────╯  │  │  │  │  │  │  │  │  │  │  │ \n",
      " │  ╭───────────╯  │  │  │  │  │  │  │  │  │  │ \n",
      " │  │  ╭───────────╯  │  │  │  │  │  │  │  │  │ \n",
      " │  │  │  ╭───────────╯  │  │  │  │  │  │  │  │ \n",
      " │  │  │  │  │  │  │  │  ╭───────────╯  │  │  │ \n",
      " │  │  │  │  │  │  │  │  │  ╭───────────╯  │  │ \n",
      " │  │  │  │  │  │  │  │  │  │  ╭───────────╯  │ \n",
      " │  │  │  │  │  │  │  │  │  │  │  ╭───────────╯ \n",
      " ╭─────╯  │  │  │  │  │  │  │  │  │  │  │  │  │ \n",
      " │  ╭─────╯  │  │  │  │  │  │  │  │  │  │  │  │ \n",
      " │  │  │  │  ╭─────╯  │  │  │  │  │  │  │  │  │ \n",
      " │  │  │  │  │  ╭─────╯  │  │  │  │  │  │  │  │ \n",
      " │  │  │  │  │  │  │  │  ╭─────╯  │  │  │  │  │ \n",
      " │  │  │  │  │  │  │  │  │  ╭─────╯  │  │  │  │ \n",
      " │  │  │  │  │  │  │  │  │  │  │  │  ╭─────╯  │ \n",
      " │  │  │  │  │  │  │  │  │  │  │  │  │  ╭─────╯ \n",
      " ╭──╯  │  │  │  │  │  │  │  │  │  │  │  │  │  │ \n",
      " │  │  ╭──╯  │  │  │  │  │  │  │  │  │  │  │  │ \n",
      " │  │  │  │  ╭──╯  │  │  │  │  │  │  │  │  │  │ \n",
      " │  │  │  │  │  │  ╭──╯  │  │  │  │  │  │  │  │ \n",
      " │  │  │  │  │  │  │  │  ╭──╯  │  │  │  │  │  │ \n",
      " │  │  │  │  │  │  │  │  │  │  ╭──╯  │  │  │  │ \n",
      " │  │  │  │  │  │  │  │  │  │  │  │  ╭──╯  │  │ \n",
      " │  │  │  │  │  │  │  │  │  │  │  │  │  │  ╭──╯ \n"
     ]
    }
   ],
   "source": [
    "pretty_bitonic_network(16)"
   ]
  },
  {
   "cell_type": "markdown",
   "metadata": {},
   "source": [
    "# Vectorised functions"
   ]
  },
  {
   "cell_type": "markdown",
   "metadata": {},
   "source": [
    "## Testing sorting network"
   ]
  },
  {
   "cell_type": "code",
   "execution_count": 3,
   "metadata": {},
   "outputs": [
    {
     "name": "stdout",
     "output_type": "stream",
     "text": [
      "[ 21.  48.  55.  80. 133. 153. 187. 196.]\n",
      "[ 22. 108. 135. 145. 149. 160. 164. 191.]\n",
      "[ 11.  56.  63.  76.  88. 104. 114. 137.]\n",
      "[ 24.  66. 109. 114. 125. 148. 150. 154.]\n",
      "[ 25.  39.  54.  60.  68.  72. 123. 141.]\n",
      "[  7.   7.  31.  51.  97. 116. 161. 162.]\n",
      "[ 28.  29.  30.  40.  40.  60. 130. 171.]\n",
      "[ 12.  34.  57.  73. 120. 148. 162. 166.]\n",
      "[ 41.  52.  55.  61.  86.  91. 174. 177.]\n",
      "[ 15.  81. 140. 140. 142. 166. 181. 186.]\n"
     ]
    }
   ],
   "source": [
    "# Test sorting\n",
    "import autograd.numpy as np # we can use plain numpy as well (but can't take grad!)\n",
    "\n",
    "\n",
    "from differentiable_sorting import bitonic_matrices, diff_sort, diff_argsort\n",
    "from differentiable_sorting import softmax, smoothmax, softmax_smooth\n",
    "matrices = bitonic_matrices(8)\n",
    "\n",
    "# test bitonic sorting with exact maximum\n",
    "for i in range(10):\n",
    "    # these should all be in sorted order\n",
    "    test = np.random.randint(0, 200, 8)\n",
    "    print(diff_sort(matrices, test, softmax=np.maximum))    "
   ]
  },
  {
   "cell_type": "code",
   "execution_count": 4,
   "metadata": {},
   "outputs": [
    {
     "name": "stdout",
     "output_type": "stream",
     "text": [
      "Testing sorting for 2 elements\n",
      "Testing sorting for 4 elements\n",
      "Testing sorting for 8 elements\n",
      "Testing sorting for 16 elements\n",
      "Testing sorting for 32 elements\n",
      "Testing sorting for 64 elements\n",
      "Testing sorting for 128 elements\n",
      "Testing sorting for 256 elements\n",
      "Testing sorting for 512 elements\n",
      "Testing sorting for 1024 elements\n"
     ]
    }
   ],
   "source": [
    "for i in range(1, 11):\n",
    "    k = 2**i\n",
    "    matrices = bitonic_matrices(k)\n",
    "    print(f\"Testing sorting for {k} elements\")\n",
    "    for j in range(100):\n",
    "        test = np.random.randint(0, 200, k)\n",
    "\n",
    "        assert (np.allclose(diff_sort(matrices, test, softmax=np.maximum), np.sort(test)))"
   ]
  },
  {
   "cell_type": "markdown",
   "metadata": {},
   "source": [
    "## Differentiable sorting test"
   ]
  },
  {
   "cell_type": "code",
   "execution_count": 5,
   "metadata": {},
   "outputs": [
    {
     "name": "stdout",
     "output_type": "stream",
     "text": [
      "Softmax sorting    -160.00\t-110.00\t-48.00\t-19.00\t55.00\t87.98\t92.02\t188.00\n",
      "Smoothmax sorting  -160.00\t-110.00\t-48.00\t-19.00\t55.00\t88.07\t91.93\t188.00\n",
      "Exact sorting      -160.00\t-110.00\t-48.00\t-19.00\t55.00\t88.00\t92.00\t188.00\n",
      "\n",
      "Softmax sorting    -153.13\t-150.87\t-142.00\t-72.00\t-62.00\t19.00\t151.00\t182.00\n",
      "Smoothmax sorting  -152.76\t-151.24\t-142.00\t-72.00\t-62.00\t19.00\t151.00\t182.00\n",
      "Exact sorting      -153.00\t-151.00\t-142.00\t-72.00\t-62.00\t19.00\t151.00\t182.00\n",
      "\n",
      "Softmax sorting    -198.02\t-193.98\t-52.00\t-45.00\t-21.00\t8.00\t68.00\t98.00\n",
      "Smoothmax sorting  -197.93\t-194.07\t-51.99\t-45.01\t-21.00\t8.00\t68.00\t98.00\n",
      "Exact sorting      -198.00\t-194.00\t-52.00\t-45.00\t-21.00\t8.00\t68.00\t98.00\n",
      "\n",
      "Softmax sorting    -195.00\t-100.00\t-57.00\t-40.00\t77.00\t86.00\t168.00\t183.00\n",
      "Smoothmax sorting  -195.00\t-100.00\t-57.00\t-40.00\t77.00\t86.00\t168.00\t183.00\n",
      "Exact sorting      -195.00\t-100.00\t-57.00\t-40.00\t77.00\t86.00\t168.00\t183.00\n",
      "\n",
      "Softmax sorting    -141.00\t-113.00\t-106.00\t-71.00\t-59.00\t18.00\t31.00\t176.00\n",
      "Smoothmax sorting  -141.00\t-112.99\t-106.01\t-71.00\t-59.00\t18.00\t31.00\t176.00\n",
      "Exact sorting      -141.00\t-113.00\t-106.00\t-71.00\t-59.00\t18.00\t31.00\t176.00\n",
      "\n",
      "Softmax sorting    -148.00\t-135.00\t-116.00\t-75.00\t15.00\t22.00\t68.00\t196.00\n",
      "Smoothmax sorting  -148.00\t-135.00\t-116.00\t-75.00\t15.01\t21.99\t68.00\t196.00\n",
      "Exact sorting      -148.00\t-135.00\t-116.00\t-75.00\t15.00\t22.00\t68.00\t196.00\n",
      "\n",
      "Softmax sorting    -167.00\t-155.00\t-71.00\t9.00\t43.00\t121.00\t149.00\t159.00\n",
      "Smoothmax sorting  -167.00\t-155.00\t-71.00\t9.00\t43.00\t121.00\t149.00\t159.00\n",
      "Exact sorting      -167.00\t-155.00\t-71.00\t9.00\t43.00\t121.00\t149.00\t159.00\n",
      "\n",
      "Softmax sorting    -189.00\t-155.00\t-133.00\t-108.00\t-90.00\t38.00\t167.00\t175.00\n",
      "Smoothmax sorting  -189.00\t-155.00\t-133.00\t-108.00\t-90.00\t38.00\t167.01\t174.99\n",
      "Exact sorting      -189.00\t-155.00\t-133.00\t-108.00\t-90.00\t38.00\t167.00\t175.00\n",
      "\n",
      "Softmax sorting    -91.00\t-56.00\t-45.00\t-30.69\t-29.31\t103.00\t117.00\t162.00\n",
      "Smoothmax sorting  -91.00\t-56.00\t-45.00\t-30.00\t-30.00\t103.00\t117.00\t162.00\n",
      "Exact sorting      -91.00\t-56.00\t-45.00\t-30.00\t-30.00\t103.00\t117.00\t162.00\n",
      "\n",
      "Softmax sorting    -166.00\t-150.05\t-146.95\t-137.00\t-113.00\t-58.00\t-27.00\t18.00\n",
      "Smoothmax sorting  -166.00\t-149.86\t-147.14\t-137.00\t-113.00\t-58.00\t-27.00\t18.00\n",
      "Exact sorting      -166.00\t-150.00\t-147.00\t-137.00\t-113.00\t-58.00\t-27.00\t18.00\n",
      "\n"
     ]
    }
   ],
   "source": [
    "# Differentiable sorting \n",
    "np.set_printoptions(precision=2)\n",
    "matrices = bitonic_matrices(8) \n",
    "\n",
    "\n",
    "for i in range(10):\n",
    "    test = np.random.randint(-200,200,8)\n",
    "    print(\"Softmax sorting   \", neat_vec(diff_sort(matrices, test, softmax=softmax)))\n",
    "    print(\"Smoothmax sorting \", neat_vec(diff_sort(matrices, test, softmax=smoothmax)))\n",
    "    print(\"Exact sorting     \", neat_vec(diff_sort(matrices, test, softmax=np.maximum)))\n",
    "    \n",
    "    print()"
   ]
  },
  {
   "cell_type": "markdown",
   "metadata": {},
   "source": [
    "# Relaxed sorting\n",
    "We can define a slighly modified function which interpolates between `softmax(a,b)` and `mean(a,b)`. The result is a sorting function that can be relaxed from sorting to averaging."
   ]
  },
  {
   "cell_type": "code",
   "execution_count": 26,
   "metadata": {},
   "outputs": [
    {
     "name": "stdout",
     "output_type": "stream",
     "text": [
      "Mean 25.88\n",
      "\n",
      "Exact sorting             -198.00\t-103.00\t-94.00\t5.00\t77.00\t122.00\t199.00\t199.00\n",
      "\n",
      "Softmax.   smooth[0.00]   -198.00\t-103.00\t-94.00\t5.00\t77.00\t122.00\t198.31\t199.69\n",
      "Smoothmax. alpha=[1.00]   -198.00\t-103.00\t-94.00\t5.00\t77.00\t122.00\t199.00\t199.00\n",
      "\n",
      "Softmax.   smooth[0.14]   -114.33\t-64.29\t-40.38\t-8.86\t77.52\t96.37\t124.71\t136.26\n",
      "Smoothmax. alpha=[0.86]   -198.00\t-103.00\t-94.00\t5.00\t77.00\t122.00\t199.00\t199.00\n",
      "\n",
      "Softmax.   smooth[0.29]   -58.80\t-35.31\t-7.76\t-6.37\t68.24\t73.85\t80.37\t92.77\n",
      "Smoothmax. alpha=[0.71]   -198.00\t-102.99\t-94.01\t5.00\t77.00\t122.00\t199.00\t199.00\n",
      "\n",
      "Softmax.   smooth[0.43]   -22.37\t-10.52\t-1.25\t9.08\t48.99\t50.76\t65.21\t67.10\n",
      "Smoothmax. alpha=[0.57]   -198.00\t-102.95\t-94.05\t5.00\t77.00\t122.00\t199.00\t199.00\n",
      "\n",
      "Softmax.   smooth[0.57]   0.27\t5.34\t5.70\t11.94\t40.34\t41.29\t50.82\t51.32\n",
      "Smoothmax. alpha=[0.43]   -198.00\t-102.81\t-94.19\t5.00\t77.00\t122.00\t199.00\t199.00\n",
      "\n",
      "Softmax.   smooth[0.71]   12.10\t13.03\t12.44\t13.37\t37.06\t37.41\t40.61\t40.98\n",
      "Smoothmax. alpha=[0.29]   -198.00\t-102.36\t-94.64\t5.00\t77.00\t122.00\t199.00\t199.00\n",
      "\n",
      "Softmax.   smooth[0.86]   19.46\t19.61\t19.70\t19.85\t31.81\t31.96\t32.23\t32.38\n",
      "Smoothmax. alpha=[0.14]   -198.00\t-101.05\t-95.95\t5.00\t77.14\t121.86\t199.00\t199.00\n",
      "\n",
      "Softmax.   smooth[1.00]   25.88\t25.88\t25.88\t25.88\t25.88\t25.88\t25.88\t25.88\n",
      "Smoothmax. alpha=[0.00]   25.88\t25.88\t25.88\t25.88\t25.88\t25.88\t25.88\t25.88\n",
      "\n"
     ]
    }
   ],
   "source": [
    "\n",
    "# Differentiable smoothed sorting \n",
    "test = np.random.randint(-200,200,8)\n",
    "print(f\"Mean {np.mean(test):.2f}\")\n",
    "print()\n",
    "print(\"Exact sorting            \", neat_vec(diff_sort(matrices, test, np.maximum)))\n",
    "print()\n",
    "for smooth in np.linspace(0, 1, 8):    \n",
    "    print(f\"Softmax.   smooth[{smooth:.2f}]  \", neat_vec(diff_sort(matrices, test, lambda a,b:softmax_smooth(a,b,smooth=smooth))))\n",
    "    # smoothmax's alpha is the inverse of diff_bisort_smooth\n",
    "    print(f\"Smoothmax. alpha=[{1-smooth:.2f}]  \", neat_vec(diff_sort(matrices, test, lambda a,b:smoothmax(a,b, alpha=1-smooth))))\n",
    "    print()"
   ]
  },
  {
   "cell_type": "code",
   "execution_count": 27,
   "metadata": {},
   "outputs": [
    {
     "data": {
      "text/plain": [
       "array([[0.001, 0.022, 0.001, 0.003, 0.045, 0.044, 0.86 , 0.024],\n",
       "       [0.003, 0.003, 0.023, 0.078, 0.022, 0.804, 0.043, 0.024],\n",
       "       [0.022, 0.021, 0.023, 0.803, 0.025, 0.079, 0.004, 0.023],\n",
       "       [0.023, 0.002, 0.001, 0.021, 0.86 , 0.025, 0.045, 0.024],\n",
       "       [0.86 , 0.045, 0.045, 0.024, 0.022, 0.001, 0.001, 0.001],\n",
       "       [0.045, 0.024, 0.86 , 0.024, 0.002, 0.023, 0.001, 0.023],\n",
       "       [0.003, 0.027, 0.023, 0.023, 0.023, 0.023, 0.023, 0.855],\n",
       "       [0.044, 0.856, 0.024, 0.024, 0.002, 0.001, 0.023, 0.027]])"
      ]
     },
     "execution_count": 27,
     "metadata": {},
     "output_type": "execute_result"
    }
   ],
   "source": [
    "from autograd import jacobian\n",
    "# show that we can take the derivative\n",
    "jac_sort = jacobian(diff_sort, argnum=1)\n",
    "jac_sort(matrices, test, softmax=lambda a,b:softmax_smooth(a,b,0.05)) # slight relaxation"
   ]
  },
  {
   "cell_type": "code",
   "execution_count": 28,
   "metadata": {},
   "outputs": [
    {
     "name": "stdout",
     "output_type": "stream",
     "text": [
      "[-198.    -102.999  -94.001    5.      77.     122.     199.     199.   ]\n"
     ]
    },
    {
     "data": {
      "text/plain": [
       "array([[ 0.   , -0.   ,  0.   ,  0.   , -0.   ,  0.   ,  1.   ,  0.   ],\n",
       "       [ 0.   ,  0.   ,  0.   ,  1.001, -0.   , -0.001, -0.   ,  0.   ],\n",
       "       [ 0.   , -0.   ,  0.   , -0.001,  0.   ,  1.001, -0.   ,  0.   ],\n",
       "       [ 0.   , -0.   ,  0.   ,  0.   ,  1.   , -0.   ,  0.   , -0.   ],\n",
       "       [ 1.   ,  0.   ,  0.   , -0.   , -0.   ,  0.   ,  0.   ,  0.   ],\n",
       "       [-0.   ,  0.   ,  1.   ,  0.   ,  0.   , -0.   , -0.   ,  0.   ],\n",
       "       [ 0.   ,  0.5  , -0.   ,  0.   ,  0.   , -0.   , -0.   ,  0.5  ],\n",
       "       [ 0.   ,  0.5  , -0.   ,  0.   ,  0.   , -0.   , -0.   ,  0.5  ]])"
      ]
     },
     "execution_count": 28,
     "metadata": {},
     "output_type": "execute_result"
    }
   ],
   "source": [
    "# show that we can take the derivative, applying some smoothing to get reasonable values\n",
    "print(diff_sort(matrices, test, smoothmax))\n",
    "jac_sort(matrices, test,  smoothmax) "
   ]
  },
  {
   "cell_type": "markdown",
   "metadata": {},
   "source": [
    "## Woven form\n",
    "We can \"weave\" the four matrices into two matrices for fewer multiplies at the cost of having to split and join the matrices at each layer."
   ]
  },
  {
   "cell_type": "code",
   "execution_count": 29,
   "metadata": {},
   "outputs": [
    {
     "name": "stdout",
     "output_type": "stream",
     "text": [
      "Exact sorting        -198.00\t-103.00\t-94.00\t5.00\t77.00\t122.00\t199.00\t199.00\n",
      "Diff. (std.)        -198.00\t-103.00\t-94.00\t5.00\t77.00\t122.00\t199.00\t199.00\n",
      "Diff. (woven)       -198.00\t-103.00\t-94.00\t5.00\t77.00\t122.00\t199.00\t199.00\n"
     ]
    }
   ],
   "source": [
    "from differentiable_sorting import bitonic_woven_matrices, diff_sort_weave\n",
    "\n",
    "woven_matrices = bitonic_woven_matrices(8)\n",
    "\n",
    "print(\"Exact sorting       \", neat_vec(diff_sort(matrices, test, np.maximum)))\n",
    "print(f\"Diff. (std.)       \", neat_vec(diff_sort(matrices, test, smoothmax)))\n",
    "print(f\"Diff. (woven)      \", neat_vec(diff_sort_weave(woven_matrices, test, smoothmax)))\n",
    "        "
   ]
  },
  {
   "cell_type": "markdown",
   "metadata": {},
   "source": [
    "## Differentiable ranking / argsort\n",
    "We can use a differentiable similarity measure between the input and output of the vector, e.g. an RBF kernel. We can use this to generate a normalised similarity matrix and apply this to a vector `[1, 2, 3, ..., n]`. This gives a differentiable ranking function.\n",
    "\n",
    "As `sigma` gets larger, the result converges to giving all values the mean rank; as it goes to zero the result converges to the true rank."
   ]
  },
  {
   "cell_type": "code",
   "execution_count": 30,
   "metadata": {},
   "outputs": [],
   "source": [
    "from differentiable_sorting import order_matrix, diff_argsort"
   ]
  },
  {
   "cell_type": "code",
   "execution_count": 31,
   "metadata": {},
   "outputs": [],
   "source": [
    "matrices = bitonic_matrices(8)"
   ]
  },
  {
   "cell_type": "code",
   "execution_count": 32,
   "metadata": {},
   "outputs": [
    {
     "name": "stdout",
     "output_type": "stream",
     "text": [
      "[5.0, -1.0, 9.5, 13.2, 16.2, 10.5, 42.0, 18.0]\n",
      "1.00\t0.00\t2.05\t4.00\t5.00\t2.97\t7.00\t6.00\n",
      "[1 0 2 5 3 4 7 6]\n"
     ]
    }
   ],
   "source": [
    "x = [5.0, -1.0, 9.5, 13.2, 16.2, 10.5, 42.0, 18.0]\n",
    "np.set_printoptions(suppress=True)\n",
    "print(x)\n",
    "# show argsort\n",
    "ranks = diff_argsort(matrices, x, sigma=0.5)\n",
    "print(neat_vec(ranks))\n",
    "print(np.argsort(ranks))"
   ]
  },
  {
   "cell_type": "code",
   "execution_count": 33,
   "metadata": {},
   "outputs": [
    {
     "name": "stdout",
     "output_type": "stream",
     "text": [
      "1 1\n",
      "6 6\n"
     ]
    }
   ],
   "source": [
    "# we now have differentiable argmax and argmin by indexing the rank vector\n",
    "print(np.argmin(x), int(ranks[0]+0.5))\n",
    "print(np.argmax(x), int(ranks[-1]+0.5))"
   ]
  },
  {
   "cell_type": "code",
   "execution_count": 34,
   "metadata": {},
   "outputs": [
    {
     "name": "stdout",
     "output_type": "stream",
     "text": [
      "Smoothed ranks\n",
      "sigma=    0.1  | 1.00\t0.00\t2.00\t4.00\t5.00\t3.00\t7.00\t6.00\n",
      "sigma=    1.0  | 1.00\t0.00\t2.33\t3.97\t5.12\t2.73\t7.00\t5.85\n",
      "sigma=   10.0  | 2.55\t1.92\t3.01\t3.38\t3.65\t3.11\t6.79\t3.82\n",
      "sigma=  100.0  | 3.47\t3.45\t3.48\t3.49\t3.49\t3.48\t3.56\t3.50\n",
      "sigma= 1000.0  | 3.50\t3.50\t3.50\t3.50\t3.50\t3.50\t3.50\t3.50\n"
     ]
    }
   ],
   "source": [
    "print(\"Smoothed ranks\")\n",
    "test = x\n",
    "for sigma in [0.1, 1, 10, 100, 1000]:     \n",
    "    ranks = diff_argsort(matrices, test, sigma=sigma) \n",
    "    print(f\"sigma={sigma:7.1f}  |\", neat_vec(ranks))"
   ]
  },
  {
   "cell_type": "code",
   "execution_count": 35,
   "metadata": {},
   "outputs": [
    {
     "name": "stdout",
     "output_type": "stream",
     "text": [
      "[[ 0.001 -0.    -0.001 -0.    -0.    -0.    -0.    -0.   ]\n",
      " [-0.     0.    -0.    -0.    -0.    -0.    -0.    -0.   ]\n",
      " [-0.003 -0.     0.233 -0.022 -0.002 -0.206 -0.    -0.   ]\n",
      " [-0.001 -0.    -0.031  0.146 -0.033 -0.076 -0.    -0.005]\n",
      " [-0.    -0.    -0.002 -0.032  0.224 -0.002 -0.    -0.188]\n",
      " [-0.003 -0.    -0.209 -0.066 -0.004  0.283 -0.    -0.001]\n",
      " [-0.    -0.    -0.    -0.    -0.    -0.     0.    -0.   ]\n",
      " [-0.    -0.    -0.001 -0.013 -0.191 -0.002 -0.     0.207]]\n"
     ]
    }
   ],
   "source": [
    "np.set_printoptions(precision=3)\n",
    "jac_rank = jacobian(diff_argsort, argnum=1)\n",
    "print(jac_rank(matrices, np.array(test), 1.0) )"
   ]
  },
  {
   "cell_type": "code",
   "execution_count": 36,
   "metadata": {},
   "outputs": [
    {
     "name": "stdout",
     "output_type": "stream",
     "text": [
      "0.13\t1.09\t2.00\t3.11\t6.99\t6.00\t5.00\t3.11\n",
      "[0 1 2 3 7 6 5 4]\n",
      "[[ 2.162 -1.059 -0.523 -0.287 -0.01  -0.018 -0.056 -0.21 ]\n",
      " [-0.066  0.562 -0.186 -0.155 -0.005 -0.011 -0.035 -0.105]\n",
      " [-0.012 -0.013  0.041 -0.005 -0.    -0.001 -0.002 -0.008]\n",
      " [-0.012 -0.025 -0.108  0.564 -0.05  -0.086 -0.141 -0.14 ]\n",
      " [-0.001 -0.001 -0.003 -0.005  0.104 -0.058 -0.028 -0.008]\n",
      " [-0.    -0.001 -0.002 -0.004 -0.001  0.028 -0.012 -0.007]\n",
      " [-0.    -0.    -0.001 -0.002 -0.016 -0.018  0.038 -0.001]\n",
      " [-0.012 -0.025 -0.108 -0.209 -0.05  -0.086 -0.141  0.633]]\n"
     ]
    }
   ],
   "source": [
    "matrices = bitonic_matrices(8)\n",
    "\n",
    "x = [1, 2, 3, 4, 8, 7, 6, 4]\n",
    "ranks = diff_argsort(matrices, x, sigma=0.25)\n",
    "print(neat_vec(ranks))\n",
    "print(np.argsort(ranks))\n",
    "\n",
    "print(jac_rank(matrices, np.array(x), 0.25))"
   ]
  },
  {
   "cell_type": "markdown",
   "metadata": {},
   "source": [
    "# PyTorch example\n",
    "We can verify that this is both parallelisable on the GPU and fully differentiable."
   ]
  },
  {
   "cell_type": "code",
   "execution_count": 81,
   "metadata": {},
   "outputs": [
    {
     "name": "stdout",
     "output_type": "stream",
     "text": [
      "Device: cuda:0\n"
     ]
    }
   ],
   "source": [
    "import torch\n",
    "import numpy as np\n",
    "from torch.autograd import Variable\n",
    "import torch.nn.functional as F\n",
    "device = torch.device(\"cuda:0\" if torch.cuda.is_available() else \"cpu\")\n",
    "print('Device:', device)"
   ]
  },
  {
   "cell_type": "code",
   "execution_count": 82,
   "metadata": {},
   "outputs": [],
   "source": [
    "from differentiable_sorting_torch import softmax, diff_argsort\n",
    "from differentiable_sorting import diff_sort\n",
    "matrices = bitonic_matrices(16)\n",
    "torch_matrices = [[torch.from_numpy(matrix).float().to(device) for matrix in matrix_set] for matrix_set in matrices]\n"
   ]
  },
  {
   "cell_type": "code",
   "execution_count": 83,
   "metadata": {},
   "outputs": [
    {
     "name": "stdout",
     "output_type": "stream",
     "text": [
      "tensor([[4.5973e-04, 3.3933e-02, 7.3613e-01, 5.7220e-06, 7.3584e-03, 1.8311e-02,\n",
      "         1.3363e-02, 2.3068e-03, 1.7365e-01, 5.7429e-03, 7.0045e-06, 2.8817e-05,\n",
      "         4.1973e-03, 3.6804e-03, 3.1447e-04, 5.0413e-04],\n",
      "        [4.8785e-04, 4.3964e-02, 1.9875e-01, 7.2420e-06, 1.1447e-02, 3.0540e-02,\n",
      "         2.0577e-02, 3.3834e-03, 6.5341e-01, 1.7145e-02, 2.0131e-05, 8.2905e-05,\n",
      "         9.5225e-03, 8.5303e-03, 8.1938e-04, 1.3184e-03],\n",
      "        [4.2167e-03, 2.7968e-01, 2.7102e-02, 5.4494e-05, 7.8724e-02, 2.0756e-01,\n",
      "         1.4958e-01, 2.2536e-02, 7.6766e-02, 4.5877e-02, 7.1609e-05, 3.0935e-04,\n",
      "         5.2884e-02, 4.5629e-02, 3.4320e-03, 5.5709e-03],\n",
      "        [5.1660e-03, 2.5247e-01, 2.4786e-02, 6.6891e-05, 7.6780e-02, 1.9704e-01,\n",
      "         1.5687e-01, 2.1487e-02, 5.0643e-02, 5.9974e-02, 7.6715e-05, 3.4016e-04,\n",
      "         7.7280e-02, 6.5229e-02, 4.5771e-03, 7.2146e-03],\n",
      "        [1.4384e-02, 9.4579e-02, 3.0093e-03, 1.8639e-04, 1.0764e-01, 1.2278e-01,\n",
      "         1.3674e-01, 5.6585e-02, 1.1777e-02, 1.3785e-01, 3.1020e-04, 1.3189e-03,\n",
      "         1.4208e-01, 1.3014e-01, 1.5501e-02, 2.5118e-02],\n",
      "        [1.4207e-02, 9.5981e-02, 3.1642e-03, 1.7407e-04, 1.0307e-01, 1.3132e-01,\n",
      "         1.4680e-01, 5.3570e-02, 1.1398e-02, 1.3862e-01, 3.4133e-04, 1.4380e-03,\n",
      "         1.3319e-01, 1.2384e-01, 1.6431e-02, 2.6465e-02],\n",
      "        [1.9670e-02, 7.5964e-02, 2.9877e-03, 2.6209e-04, 1.5066e-01, 9.9316e-02,\n",
      "         1.1669e-01, 9.0818e-02, 7.8987e-03, 1.4319e-01, 3.4490e-04, 1.5380e-03,\n",
      "         1.2555e-01, 1.2368e-01, 1.5249e-02, 2.6168e-02],\n",
      "        [1.9271e-02, 7.6437e-02, 3.0317e-03, 2.5127e-04, 1.4403e-01, 1.0184e-01,\n",
      "         1.1907e-01, 8.7000e-02, 7.9454e-03, 1.4730e-01, 3.5789e-04, 1.5925e-03,\n",
      "         1.2525e-01, 1.2390e-01, 1.5763e-02, 2.6961e-02],\n",
      "        [9.3685e-02, 1.3821e-02, 2.7234e-04, 2.0684e-03, 9.4396e-02, 2.3153e-02,\n",
      "         3.5742e-02, 1.5187e-01, 2.2822e-03, 1.0362e-01, 4.3838e-03, 1.4145e-02,\n",
      "         1.2054e-01, 1.3479e-01, 8.8949e-02, 1.1628e-01],\n",
      "        [9.3294e-02, 1.3716e-02, 2.8053e-04, 2.0780e-03, 9.5408e-02, 2.4164e-02,\n",
      "         3.7319e-02, 1.6534e-01, 2.0748e-03, 9.6028e-02, 4.6292e-03, 1.4848e-02,\n",
      "         1.0779e-01, 1.2088e-01, 9.6224e-02, 1.2592e-01],\n",
      "        [2.0925e-01, 9.2633e-03, 2.3339e-04, 5.0884e-03, 6.0492e-02, 2.0387e-02,\n",
      "         3.0750e-02, 1.4821e-01, 8.9527e-04, 4.6573e-02, 7.0969e-03, 2.6051e-02,\n",
      "         3.9016e-02, 4.5977e-02, 1.6370e-01, 1.8701e-01],\n",
      "        [2.7445e-01, 7.9823e-03, 1.9360e-04, 6.2927e-03, 5.3573e-02, 1.7542e-02,\n",
      "         2.6823e-02, 1.3388e-01, 9.1309e-04, 4.3353e-02, 7.3285e-03, 2.8382e-02,\n",
      "         4.1861e-02, 4.8357e-02, 1.5125e-01, 1.5782e-01],\n",
      "        [1.7331e-01, 1.2653e-03, 3.3603e-05, 2.6744e-02, 9.5518e-03, 3.7706e-03,\n",
      "         6.0474e-03, 4.0170e-02, 2.1345e-04, 8.5532e-03, 7.3450e-02, 1.9766e-01,\n",
      "         1.1754e-02, 1.4452e-02, 2.5436e-01, 1.7867e-01],\n",
      "        [5.8270e-02, 6.7665e-04, 1.9530e-05, 7.3802e-02, 5.5178e-03, 1.8113e-03,\n",
      "         2.9148e-03, 1.8950e-02, 9.8627e-05, 4.5468e-03, 1.4987e-01, 4.3007e-01,\n",
      "         7.1183e-03, 8.5647e-03, 1.4334e-01, 9.4420e-02],\n",
      "        [1.0241e-02, 1.3782e-04, 3.3124e-06, 4.7362e-01, 6.9566e-04, 2.3866e-04,\n",
      "         3.6516e-04, 1.9891e-03, 1.5358e-05, 7.9039e-04, 3.4993e-01, 1.3507e-01,\n",
      "         9.5657e-04, 1.1424e-03, 1.4739e-02, 1.0064e-02],\n",
      "        [9.6351e-03, 1.2702e-04, 3.0925e-06, 4.0930e-01, 6.5626e-04, 2.2528e-04,\n",
      "         3.4585e-04, 1.9014e-03, 1.6262e-05, 8.3955e-04, 4.0178e-01, 1.4713e-01,\n",
      "         1.0046e-03, 1.1988e-03, 1.5341e-02, 1.0504e-02]], device='cuda:0')\n"
     ]
    }
   ],
   "source": [
    "test_input = np.random.normal(0, 5, 16)\n",
    "var_test_input = Variable(torch.from_numpy(test_input).float().to(device),\n",
    "                          requires_grad=True)\n",
    "\n",
    "result = diff_sort(torch_matrices, var_test_input, softmax=softmax)\n",
    "\n",
    "# compute the Jacobian of the sorting function, to show we can differentiate through the\n",
    "# sorting function\n",
    "jac = []\n",
    "for i in range(len(result)):\n",
    "    jac.append(\n",
    "        torch.autograd.grad(result[i], var_test_input, retain_graph=True)[0])\n",
    "\n",
    "# 16 x 16 jacobian of the sorting matrix\n",
    "print(torch.stack(jac))"
   ]
  },
  {
   "cell_type": "code",
   "execution_count": 84,
   "metadata": {},
   "outputs": [
    {
     "name": "stdout",
     "output_type": "stream",
     "text": [
      "tensor([11.0000,  3.4317,  0.0000, 14.0000,  6.0228,  3.5761,  4.7984,  9.0000,\n",
      "         1.0000,  5.9649, 14.0000, 13.0000,  5.9053,  7.6375, 11.0000, 10.0000],\n",
      "       device='cuda:0', grad_fn=<MvBackward>)\n"
     ]
    }
   ],
   "source": [
    "result = diff_argsort(torch_matrices, var_test_input)\n",
    "print(result)\n"
   ]
  },
  {
   "cell_type": "code",
   "execution_count": null,
   "metadata": {},
   "outputs": [],
   "source": []
  }
 ],
 "metadata": {
  "kernelspec": {
   "display_name": "Python 3",
   "language": "python",
   "name": "python3"
  },
  "language_info": {
   "codemirror_mode": {
    "name": "ipython",
    "version": 3
   },
   "file_extension": ".py",
   "mimetype": "text/x-python",
   "name": "python",
   "nbconvert_exporter": "python",
   "pygments_lexer": "ipython3",
   "version": "3.7.1"
  },
  "toc": {
   "base_numbering": 1,
   "nav_menu": {},
   "number_sections": true,
   "sideBar": true,
   "skip_h1_title": false,
   "title_cell": "Table of Contents",
   "title_sidebar": "Contents",
   "toc_cell": false,
   "toc_position": {},
   "toc_section_display": true,
   "toc_window_display": false
  }
 },
 "nbformat": 4,
 "nbformat_minor": 2
}
