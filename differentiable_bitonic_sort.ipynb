{
 "cells": [
  {
   "cell_type": "markdown",
   "metadata": {},
   "source": [
    "# Differentiable bitonic sort\n",
    "\n",
    "[Bitonic sorts](https://en.wikipedia.org/wiki/Bitonic_sorter) allow creation of sorting networks with a sequence of fixed conditional swapping operations executed in parallel. A sorting network implements  a map from $\\mathbb{R}^n \\rightarrow \\mathbb{R}^n$, where $n=2^k$ (sorting networks for non-power-of-2 sizes are possible but not trickier).\n",
    "\n",
    "<img src=\"BitonicSort1.svg.png\">\n",
    "\n",
    "*[Image: from Wikipedia, by user Bitonic, CC0](https://en.wikipedia.org/wiki/Bitonic_sorter#/media/File:BitonicSort1.svg)*\n",
    "\n",
    "The sorting network for $n=2^k$ elements has $\\frac{k(k-1)}{2}$ \"layers\" where parallel compare-and-swap operations are used to rearrange a $k$ element vector into sorted order.\n",
    "\n",
    "### Differentiable compare-and-swap\n",
    "\n",
    "If we define the `softmax(a,b)` function (not the traditional \"softmax\" used for classification!) as the continuous approximation to the `max(a,b)` function:\n",
    "\n",
    "$$\\text{softmax}(a,b) = \\log(e^a + e^b) \\approx \\max(a,b).$$\n",
    "\n",
    "We can then fairly obviously write `softmin(a,b)` as:\n",
    "\n",
    "$$\\text{softmin}(a,b) = -\\log(e^{-a} + e^{-b}) \\approx \\min(a,b).$$\n",
    "\n",
    "These functions obviously aren't equal to max and min, but are relatively close, and differentiable. Note that we now have a differentiable compare-and-swap operation:\n",
    "\n",
    "$$\\text{high} = \\text{softmax}(a,b), \\text{low} = \\text{softmin}(a,b), \\text{where } \\text{low}\\leq \\text{high}$$\n",
    "\n",
    "## Differentiable sorting\n",
    "\n",
    "For each layer in the sorting network, we can split all of the pairwise comparison-and-swaps into left-hand and right-hand sides which can be done simultaneously. We can any write function that selects the relevant elements of the vector as a multiply with a binary matrix.\n",
    "\n",
    "For each layer, we can derive two binary matrices $L \\in \\mathbb{R}^{n \\times \\frac{n}{2}}$ and $R \\in \\mathbb{R}^{n \\times \\frac{n}{2}}$ which select the elements to be compared for the left and right hands respectively. This will result in the comparison between two $\\frac{k}{2}$ length vectors. We can also derive two matrices $L' \\in \\mathbb{R}^{\\frac{n}{2} \\times n}$ and $R' \\in \\mathbb{R}^{\\frac{n}{2} \\times n}$ which put the results of the compare-and-swap operation back into the right positions.\n",
    "\n",
    "Then, each layer $i$ of the sorting process is just:\n",
    "$${\\bf x}_{i+1} = L'_i[\\text{softmin}(L_i{\\bf x_i}, R_i{\\bf x_i})] + R'_i[\\text{softmax}(L_i{\\bf x_i}, R_i{\\bf x_i})]$$\n",
    "$$ = L'_i\\left(-\\log\\left(e^{-L_i{\\bf x}_i} + e^{-R_i{\\bf x}_i}\\right)\\right) +  R'_i\\left(\\log\\left(e^{L_i{\\bf x}_i} + e^{R_i{\\bf x}_i}\\right)\\right)$$\n",
    "which is clearly differentiable (though not very numerically stable -- the usable range of elements $x$ is quite limited in single float precision).\n",
    "\n",
    "All that remains is to compute the matrices $L_i, R_i, L'_i, R'_i$ for each of the layers of the network. \n",
    "\n",
    "This process is excessively computation heavy, but easy to compute. We could also simplify this into two matrix multiplies, at the cost of a vector split and join in the middle (see the `woven` form later in this text). \n",
    "\n",
    "## Example\n",
    "\n",
    "To sort four elements, we have a network like:\n",
    "\n",
    "    0  1  2  3  \n",
    "    ┕>>┙  │  │  \n",
    "    │  │  ┕<<┙  \n",
    "    ┕>>>>>┙  │  \n",
    "    │  │  │  │  \n",
    "    ┕>>┙  │  │  \n",
    "    │  │  ┕>>┙  \n",
    "    \n",
    "This is equivalent to: \n",
    "\n",
    "    x[0], x[1] = cswap(x[0], x[1])\n",
    "    x[3], x[2] = cswap(x[2], x[3])\n",
    "    x[0], x[2] = cswap(x[0], x[2])\n",
    "    x[0], x[1] = cswap(x[0], x[1])\n",
    "    x[2], x[3] = cswap(x[2], x[3])\n",
    "    \n",
    "where `cswap(a,b) = (min(a,b), max(a,b))`\n",
    "\n",
    "Replacing the indexing with matrix multiplies and `cswap` with a `softcswap = (softmin(a,b), softmax(a,b))` we then have the differentiable form.\n",
    "\n"
   ]
  },
  {
   "cell_type": "markdown",
   "metadata": {},
   "source": [
    "# Test functions"
   ]
  },
  {
   "cell_type": "code",
   "execution_count": 1,
   "metadata": {},
   "outputs": [
    {
     "name": "stdout",
     "output_type": "stream",
     "text": [
      " 0>1\t 2<3\t 4>5\t 6<7\t 8>9\t10<11\t12>13\t14<15\t\n",
      "----------------------------------------------------------------\n",
      " 0>2\t 1>3\t 4<6\t 5<7\t 8>10\t 9>11\t12<14\t13<15\t\n",
      " 0>1\t 2>3\t 4<5\t 6<7\t 8>9\t10>11\t12<13\t14<15\t\n",
      "----------------------------------------------------------------\n",
      " 0>4\t 1>5\t 2>6\t 3>7\t 8<12\t 9<13\t10<14\t11<15\t\n",
      " 0>2\t 1>3\t 4>6\t 5>7\t 8<10\t 9<11\t12<14\t13<15\t\n",
      " 0>1\t 2>3\t 4>5\t 6>7\t 8<9\t10<11\t12<13\t14<15\t\n",
      "----------------------------------------------------------------\n",
      " 0>8\t 1>9\t 2>10\t 3>11\t 4>12\t 5>13\t 6>14\t 7>15\t\n",
      " 0>4\t 1>5\t 2>6\t 3>7\t 8>12\t 9>13\t10>14\t11>15\t\n",
      " 0>2\t 1>3\t 4>6\t 5>7\t 8>10\t 9>11\t12>14\t13>15\t\n",
      " 0>1\t 2>3\t 4>5\t 6>7\t 8>9\t10>11\t12>13\t14>15\t\n",
      "----------------------------------------------------------------\n"
     ]
    }
   ],
   "source": [
    "from bitonic_tests import bitonic_network, pretty_bitonic_network\n",
    "\n",
    "def neat_vec(n):\n",
    "    # print a vector neatly    \n",
    "    return \"\\t\".join([f\"{x:.2f}\" for x in n])\n",
    "\n",
    "# this should match the diagram at the top of the notebook\n",
    "bitonic_network(16)"
   ]
  },
  {
   "cell_type": "code",
   "execution_count": 2,
   "metadata": {},
   "outputs": [
    {
     "name": "stdout",
     "output_type": "stream",
     "text": [
      "0  1  2  3  4  5  6  7  8  9  10 11 12 13 14 15 \n",
      "+>>+  │  │  │  │  │  │  │  │  │  │  │  │  │  │  \n",
      "│  │  +<<+  │  │  │  │  │  │  │  │  │  │  │  │  \n",
      "│  │  │  │  +>>+  │  │  │  │  │  │  │  │  │  │  \n",
      "│  │  │  │  │  │  +<<+  │  │  │  │  │  │  │  │  \n",
      "│  │  │  │  │  │  │  │  +>>+  │  │  │  │  │  │  \n",
      "│  │  │  │  │  │  │  │  │  │  +<<+  │  │  │  │  \n",
      "│  │  │  │  │  │  │  │  │  │  │  │  +>>+  │  │  \n",
      "│  │  │  │  │  │  │  │  │  │  │  │  │  │  +<<+  \n",
      "+>>>>>+  │  │  │  │  │  │  │  │  │  │  │  │  │  \n",
      "│  │  │  │  │  │  │  │  │  │  │  │  │  │  │  │  \n",
      "│  │  │  │  +<<<<<+  │  │  │  │  │  │  │  │  │  \n",
      "│  │  │  │  │  │  │  │  │  │  │  │  │  │  │  │  \n",
      "│  │  │  │  │  │  │  │  +>>>>>+  │  │  │  │  │  \n",
      "│  │  │  │  │  │  │  │  │  │  │  │  │  │  │  │  \n",
      "│  │  │  │  │  │  │  │  │  │  │  │  +<<<<<+  │  \n",
      "│  │  │  │  │  │  │  │  │  │  │  │  │  │  │  │  \n",
      "+>>+  │  │  │  │  │  │  │  │  │  │  │  │  │  │  \n",
      "│  │  +>>+  │  │  │  │  │  │  │  │  │  │  │  │  \n",
      "│  │  │  │  +<<+  │  │  │  │  │  │  │  │  │  │  \n",
      "│  │  │  │  │  │  +<<+  │  │  │  │  │  │  │  │  \n",
      "│  │  │  │  │  │  │  │  +>>+  │  │  │  │  │  │  \n",
      "│  │  │  │  │  │  │  │  │  │  +>>+  │  │  │  │  \n",
      "│  │  │  │  │  │  │  │  │  │  │  │  +<<+  │  │  \n",
      "│  │  │  │  │  │  │  │  │  │  │  │  │  │  +<<+  \n",
      "+>>>>>>>>>>>+  │  │  │  │  │  │  │  │  │  │  │  \n",
      "│  │  │  │  │  │  │  │  │  │  │  │  │  │  │  │  \n",
      "│  │  │  │  │  │  │  │  │  │  │  │  │  │  │  │  \n",
      "│  │  │  │  │  │  │  │  │  │  │  │  │  │  │  │  \n",
      "│  │  │  │  │  │  │  │  +<<<<<<<<<<<+  │  │  │  \n",
      "│  │  │  │  │  │  │  │  │  │  │  │  │  │  │  │  \n",
      "│  │  │  │  │  │  │  │  │  │  │  │  │  │  │  │  \n",
      "│  │  │  │  │  │  │  │  │  │  │  │  │  │  │  │  \n",
      "+>>>>>+  │  │  │  │  │  │  │  │  │  │  │  │  │  \n",
      "│  │  │  │  │  │  │  │  │  │  │  │  │  │  │  │  \n",
      "│  │  │  │  +>>>>>+  │  │  │  │  │  │  │  │  │  \n",
      "│  │  │  │  │  │  │  │  │  │  │  │  │  │  │  │  \n",
      "│  │  │  │  │  │  │  │  +<<<<<+  │  │  │  │  │  \n",
      "│  │  │  │  │  │  │  │  │  │  │  │  │  │  │  │  \n",
      "│  │  │  │  │  │  │  │  │  │  │  │  +<<<<<+  │  \n",
      "│  │  │  │  │  │  │  │  │  │  │  │  │  │  │  │  \n",
      "+>>+  │  │  │  │  │  │  │  │  │  │  │  │  │  │  \n",
      "│  │  +>>+  │  │  │  │  │  │  │  │  │  │  │  │  \n",
      "│  │  │  │  +>>+  │  │  │  │  │  │  │  │  │  │  \n",
      "│  │  │  │  │  │  +>>+  │  │  │  │  │  │  │  │  \n",
      "│  │  │  │  │  │  │  │  +<<+  │  │  │  │  │  │  \n",
      "│  │  │  │  │  │  │  │  │  │  +<<+  │  │  │  │  \n",
      "│  │  │  │  │  │  │  │  │  │  │  │  +<<+  │  │  \n",
      "│  │  │  │  │  │  │  │  │  │  │  │  │  │  +<<+  \n",
      "+>>>>>>>>>>>>>>>>>>>>>>>+  │  │  │  │  │  │  │  \n",
      "│  │  │  │  │  │  │  │  │  │  │  │  │  │  │  │  \n",
      "│  │  │  │  │  │  │  │  │  │  │  │  │  │  │  │  \n",
      "│  │  │  │  │  │  │  │  │  │  │  │  │  │  │  │  \n",
      "│  │  │  │  │  │  │  │  │  │  │  │  │  │  │  │  \n",
      "│  │  │  │  │  │  │  │  │  │  │  │  │  │  │  │  \n",
      "│  │  │  │  │  │  │  │  │  │  │  │  │  │  │  │  \n",
      "│  │  │  │  │  │  │  │  │  │  │  │  │  │  │  │  \n",
      "+>>>>>>>>>>>+  │  │  │  │  │  │  │  │  │  │  │  \n",
      "│  │  │  │  │  │  │  │  │  │  │  │  │  │  │  │  \n",
      "│  │  │  │  │  │  │  │  │  │  │  │  │  │  │  │  \n",
      "│  │  │  │  │  │  │  │  │  │  │  │  │  │  │  │  \n",
      "│  │  │  │  │  │  │  │  +>>>>>>>>>>>+  │  │  │  \n",
      "│  │  │  │  │  │  │  │  │  │  │  │  │  │  │  │  \n",
      "│  │  │  │  │  │  │  │  │  │  │  │  │  │  │  │  \n",
      "│  │  │  │  │  │  │  │  │  │  │  │  │  │  │  │  \n",
      "+>>>>>+  │  │  │  │  │  │  │  │  │  │  │  │  │  \n",
      "│  │  │  │  │  │  │  │  │  │  │  │  │  │  │  │  \n",
      "│  │  │  │  +>>>>>+  │  │  │  │  │  │  │  │  │  \n",
      "│  │  │  │  │  │  │  │  │  │  │  │  │  │  │  │  \n",
      "│  │  │  │  │  │  │  │  +>>>>>+  │  │  │  │  │  \n",
      "│  │  │  │  │  │  │  │  │  │  │  │  │  │  │  │  \n",
      "│  │  │  │  │  │  │  │  │  │  │  │  +>>>>>+  │  \n",
      "│  │  │  │  │  │  │  │  │  │  │  │  │  │  │  │  \n",
      "+>>+  │  │  │  │  │  │  │  │  │  │  │  │  │  │  \n",
      "│  │  +>>+  │  │  │  │  │  │  │  │  │  │  │  │  \n",
      "│  │  │  │  +>>+  │  │  │  │  │  │  │  │  │  │  \n",
      "│  │  │  │  │  │  +>>+  │  │  │  │  │  │  │  │  \n",
      "│  │  │  │  │  │  │  │  +>>+  │  │  │  │  │  │  \n",
      "│  │  │  │  │  │  │  │  │  │  +>>+  │  │  │  │  \n",
      "│  │  │  │  │  │  │  │  │  │  │  │  +>>+  │  │  \n",
      "│  │  │  │  │  │  │  │  │  │  │  │  │  │  +>>+  \n"
     ]
    }
   ],
   "source": [
    "pretty_bitonic_network(16)"
   ]
  },
  {
   "cell_type": "markdown",
   "metadata": {},
   "source": [
    "# Vectorised functions"
   ]
  },
  {
   "cell_type": "markdown",
   "metadata": {},
   "source": [
    "## Testing"
   ]
  },
  {
   "cell_type": "code",
   "execution_count": 3,
   "metadata": {},
   "outputs": [
    {
     "name": "stdout",
     "output_type": "stream",
     "text": [
      "[  2.  10.  11. 101. 108. 123. 133. 187.]\n",
      "[ 53.  67.  94. 106. 131. 154. 187. 196.]\n",
      "[  3.  24.  36. 142. 148. 155. 168. 194.]\n",
      "[  5.  15.  30.  30.  30.  79. 111. 176.]\n",
      "[ 17.  36.  42.  83. 101. 142. 160. 165.]\n",
      "[ 84.  91.  94. 112. 116. 136. 179. 194.]\n",
      "[ 15.  42.  57.  65.  87. 109. 168. 184.]\n",
      "[ 19.  25.  52.  60.  65.  71. 132. 188.]\n",
      "[  3.  14.  32.  44.  73.  88. 141. 193.]\n",
      "[ 42.  86.  94.  95. 103. 107. 116. 137.]\n"
     ]
    }
   ],
   "source": [
    "# Test sorting\n",
    "import autograd.numpy as np # we can use plain numpy as well (but can't take grad!)\n",
    "\n",
    "\n",
    "from differentiable_sorting import bitonic_matrices, diff_bisort, diff_argsort, softmax, softmin, softcswap, bisort\n",
    "matrices = bitonic_matrices(8)\n",
    "\n",
    "for i in range(10):\n",
    "    # these should all be in sorted order\n",
    "    test = np.random.randint(0, 200, 8)\n",
    "    print(bisort(matrices, test))    "
   ]
  },
  {
   "cell_type": "code",
   "execution_count": 4,
   "metadata": {},
   "outputs": [
    {
     "name": "stdout",
     "output_type": "stream",
     "text": [
      "Testing sorting for 2 elements\n",
      "Testing sorting for 4 elements\n",
      "Testing sorting for 8 elements\n",
      "Testing sorting for 16 elements\n",
      "Testing sorting for 32 elements\n",
      "Testing sorting for 64 elements\n",
      "Testing sorting for 128 elements\n",
      "Testing sorting for 256 elements\n",
      "Testing sorting for 512 elements\n",
      "Testing sorting for 1024 elements\n"
     ]
    }
   ],
   "source": [
    "for i in range(1, 11):\n",
    "    k = 2**i\n",
    "    matrices = bitonic_matrices(k)\n",
    "    print(f\"Testing sorting for {k} elements\")\n",
    "    for j in range(100):\n",
    "        test = np.random.randint(0, 200, k)\n",
    "        assert (np.allclose(bisort(matrices, test), np.sort(test)))"
   ]
  },
  {
   "cell_type": "markdown",
   "metadata": {},
   "source": [
    "## Differentiable sorting test"
   ]
  },
  {
   "cell_type": "code",
   "execution_count": 5,
   "metadata": {},
   "outputs": [
    {
     "name": "stdout",
     "output_type": "stream",
     "text": [
      "Differentiable -195.00\t-183.00\t-112.00\t-105.00\t-75.00\t-61.00\t-44.00\t81.00\n",
      "Exact sorting  -195.00\t-183.00\t-112.00\t-105.00\t-75.00\t-61.00\t-44.00\t81.00\n",
      "\n",
      "Differentiable -134.00\t-20.00\t14.87\t17.13\t140.00\t159.00\t193.99\t199.01\n",
      "Exact sorting  -134.00\t-20.00\t15.00\t17.00\t140.00\t159.00\t194.00\t199.00\n",
      "\n",
      "Differentiable -184.00\t-60.00\t-34.00\t-3.00\t63.00\t93.00\t131.00\t172.00\n",
      "Exact sorting  -184.00\t-60.00\t-34.00\t-3.00\t63.00\t93.00\t131.00\t172.00\n",
      "\n",
      "Differentiable -182.31\t-180.69\t-114.00\t-55.00\t144.00\t156.00\t170.87\t173.13\n",
      "Exact sorting  -182.00\t-181.00\t-114.00\t-55.00\t144.00\t156.00\t171.00\t173.00\n",
      "\n",
      "Differentiable -199.00\t-174.00\t-136.00\t-81.00\t120.00\t138.00\t146.00\t193.00\n",
      "Exact sorting  -199.00\t-174.00\t-136.00\t-81.00\t120.00\t138.00\t146.00\t193.00\n",
      "\n",
      "Differentiable -194.00\t-166.00\t-156.00\t-58.00\t-46.00\t75.00\t111.00\t165.00\n",
      "Exact sorting  -194.00\t-166.00\t-156.00\t-58.00\t-46.00\t75.00\t111.00\t165.00\n",
      "\n",
      "Differentiable -162.00\t-105.00\t-61.00\t-33.00\t-3.01\t2.01\t31.00\t85.00\n",
      "Exact sorting  -162.00\t-105.00\t-61.00\t-33.00\t-3.00\t2.00\t31.00\t85.00\n",
      "\n",
      "Differentiable -188.00\t-182.00\t-174.00\t-129.00\t-85.00\t92.00\t116.00\t158.00\n",
      "Exact sorting  -188.00\t-182.00\t-174.00\t-129.00\t-85.00\t92.00\t116.00\t158.00\n",
      "\n",
      "Differentiable -158.00\t-27.00\t19.99\t25.01\t68.00\t105.00\t123.00\t166.00\n",
      "Exact sorting  -158.00\t-27.00\t20.00\t25.00\t68.00\t105.00\t123.00\t166.00\n",
      "\n",
      "Differentiable -196.00\t-75.00\t-45.00\t-31.00\t17.00\t49.00\t135.00\t158.00\n",
      "Exact sorting  -196.00\t-75.00\t-45.00\t-31.00\t17.00\t49.00\t135.00\t158.00\n",
      "\n"
     ]
    }
   ],
   "source": [
    "# Differentiable sorting \n",
    "np.set_printoptions(precision=2)\n",
    "matrices = bitonic_matrices(8) \n",
    "\n",
    "\n",
    "for i in range(10):\n",
    "    test = np.random.randint(-200,200,8)\n",
    "    print(\"Differentiable\", neat_vec(diff_bisort(matrices, test)))\n",
    "    print(\"Exact sorting \", neat_vec(bisort(matrices, test)))\n",
    "    print()"
   ]
  },
  {
   "cell_type": "markdown",
   "metadata": {},
   "source": [
    "# Relaxed sorting\n",
    "We can define a slighly modified function which interpolates between `softmax(a,b)` and `mean(a,b)`. The result is a sorting function that can be relaxed from sorting to averaging."
   ]
  },
  {
   "cell_type": "code",
   "execution_count": 6,
   "metadata": {},
   "outputs": [
    {
     "name": "stdout",
     "output_type": "stream",
     "text": [
      "Mean 53.75\n",
      "\n",
      "Exact sorting        -87.00\t-46.00\t43.00\t50.00\t91.00\t103.00\t127.00\t149.00\n",
      "Diff. smooth[0.00]   -87.00\t-46.00\t43.00\t50.00\t91.00\t103.00\t127.00\t149.00\n",
      "Diff. smooth[0.14]   -29.52\t-7.43\t43.43\t49.32\t79.58\t80.70\t103.09\t110.82\n",
      "Diff. smooth[0.29]   9.03\t19.46\t45.85\t49.95\t66.85\t69.81\t83.56\t85.48\n",
      "Diff. smooth[0.43]   33.12\t36.99\t48.84\t51.09\t59.50\t61.89\t68.93\t69.64\n",
      "Diff. smooth[0.57]   45.69\t46.65\t50.22\t50.95\t56.65\t57.61\t60.86\t61.36\n",
      "Diff. smooth[0.71]   51.22\t51.55\t51.76\t52.08\t55.05\t55.38\t56.33\t56.64\n",
      "Diff. smooth[0.86]   53.11\t53.25\t53.26\t53.41\t54.07\t54.22\t54.26\t54.41\n",
      "Diff. smooth[1.00]   53.75\t53.75\t53.75\t53.75\t53.75\t53.75\t53.75\t53.75\n"
     ]
    }
   ],
   "source": [
    "from differentiable_sorting import diff_bisort_smooth\n",
    "# Differentiable smoothed sorting \n",
    "test = np.random.randint(-200,200,8)\n",
    "print(f\"Mean {np.mean(test):.2f}\")\n",
    "print()\n",
    "print(\"Exact sorting       \", neat_vec(bisort(matrices, test)))\n",
    "for smooth in np.linspace(0, 1, 8):    \n",
    "    print(f\"Diff. smooth[{smooth:.2f}]  \", neat_vec(diff_bisort_smooth(matrices, test, smooth)))\n",
    "        "
   ]
  },
  {
   "cell_type": "code",
   "execution_count": 7,
   "metadata": {},
   "outputs": [
    {
     "data": {
      "text/plain": [
       "array([[0.02, 0.  , 0.02, 0.02, 0.02, 0.02, 0.02, 0.86],\n",
       "       [0.86, 0.02, 0.02, 0.02, 0.02, 0.02, 0.  , 0.02],\n",
       "       [0.02, 0.02, 0.86, 0.02, 0.  , 0.02, 0.02, 0.02],\n",
       "       [0.02, 0.02, 0.02, 0.  , 0.02, 0.86, 0.02, 0.02],\n",
       "       [0.02, 0.86, 0.02, 0.05, 0.02, 0.02, 0.  , 0.  ],\n",
       "       [0.02, 0.05, 0.02, 0.86, 0.  , 0.  , 0.02, 0.02],\n",
       "       [0.  , 0.  , 0.02, 0.02, 0.04, 0.02, 0.86, 0.02],\n",
       "       [0.02, 0.02, 0.  , 0.  , 0.86, 0.02, 0.04, 0.02]])"
      ]
     },
     "execution_count": 7,
     "metadata": {},
     "output_type": "execute_result"
    }
   ],
   "source": [
    "from autograd import jacobian\n",
    "# show that we can take the derivative\n",
    "jac_sort = jacobian(diff_bisort_smooth, argnum=1)\n",
    "jac_sort(matrices, test, 0.05) # slight relaxation"
   ]
  },
  {
   "cell_type": "markdown",
   "metadata": {},
   "source": [
    "## Woven form\n",
    "We can \"weave\" the four matrices into two matrices for fewer multiplies at the cost of having to split and join the matrices at each layer."
   ]
  },
  {
   "cell_type": "code",
   "execution_count": 8,
   "metadata": {},
   "outputs": [
    {
     "name": "stdout",
     "output_type": "stream",
     "text": [
      "Exact sorting        -87.00\t-46.00\t43.00\t50.00\t91.00\t103.00\t127.00\t149.00\n",
      "Diff. (std.)        -87.00\t-46.00\t43.00\t50.00\t91.00\t103.00\t127.00\t149.00\n",
      "Diff. (woven)       -87.00\t-46.00\t43.00\t50.00\t91.00\t103.00\t127.00\t149.00\n"
     ]
    }
   ],
   "source": [
    "from differentiable_sorting import bisort_woven_matrices\n",
    "\n",
    "def diff_bisort_weave(matrices, x):\n",
    "    \"\"\"\n",
    "    Given a set of bitonic sort matrices generated by bitonic_woven_matrices(n), sort \n",
    "    a sequence x of length n.\n",
    "    \"\"\"\n",
    "    split = len(x) // 2\n",
    "    for weave, unweave in matrices:\n",
    "        woven = weave @ x\n",
    "        x = unweave @ np.concatenate(softcswap(woven[:split], woven[split:]))\n",
    "    return x\n",
    "\n",
    "\n",
    "woven_matrices = bisort_woven_matrices(8)\n",
    "\n",
    "print(\"Exact sorting       \", neat_vec(bisort(matrices, test)))\n",
    "print(f\"Diff. (std.)       \", neat_vec(diff_bisort(matrices, test)))\n",
    "print(f\"Diff. (woven)      \", neat_vec(diff_bisort_weave(woven_matrices, test)))\n",
    "        "
   ]
  },
  {
   "cell_type": "markdown",
   "metadata": {},
   "source": [
    "## Differentiable ranking / argsort\n",
    "We can use a differentiable similarity measure between the input and output of the vector, e.g. an RBF kernel. We can use this to generate a normalised similarity matrix and apply this to a vector `[1, 2, 3, ..., n]`. This gives a differentiable ranking function.\n",
    "\n",
    "As `sigma` gets larger, the result converges to giving all values the mean rank; as it goes to zero the result converges to the true rank."
   ]
  },
  {
   "cell_type": "code",
   "execution_count": 9,
   "metadata": {},
   "outputs": [],
   "source": [
    "from differentiable_sorting import order_matrix, diff_argsort"
   ]
  },
  {
   "cell_type": "code",
   "execution_count": 10,
   "metadata": {},
   "outputs": [],
   "source": [
    "matrices = bitonic_matrices(8)"
   ]
  },
  {
   "cell_type": "code",
   "execution_count": 11,
   "metadata": {},
   "outputs": [
    {
     "name": "stdout",
     "output_type": "stream",
     "text": [
      "[5.0, -1.0, 9.5, 13.2, 16.2, 10.5, 42.0, 18.0]\n",
      "1.00\t0.00\t2.00\t5.00\t3.00\t4.00\t7.00\t6.00\n"
     ]
    }
   ],
   "source": [
    "x = [5.0, -1.0, 9.5, 13.2, 16.2, 10.5, 42.0, 18.0]\n",
    "np.set_printoptions(suppress=True)\n",
    "print(x)\n",
    "# show argsort\n",
    "ranks = diff_argsort(matrices, x, sigma=0.1)\n",
    "print(neat_vec(ranks))"
   ]
  },
  {
   "cell_type": "code",
   "execution_count": 12,
   "metadata": {},
   "outputs": [
    {
     "name": "stdout",
     "output_type": "stream",
     "text": [
      "1 1\n",
      "6 6\n"
     ]
    }
   ],
   "source": [
    "# we now have differentiable argmax and argmin by indexing the rank vector\n",
    "print(np.argmin(x), int(ranks[0]))\n",
    "print(np.argmax(x), int(ranks[-1]))"
   ]
  },
  {
   "cell_type": "code",
   "execution_count": 13,
   "metadata": {},
   "outputs": [
    {
     "name": "stdout",
     "output_type": "stream",
     "text": [
      "Smoothed ranks\n",
      "sigma=    0.1  | 1.00\t0.00\t2.00\t5.00\t3.00\t4.00\t7.00\t6.00\n",
      "sigma=    1.0  | 1.00\t0.00\t2.89\t4.01\t3.06\t4.42\t6.61\t6.00\n",
      "sigma=   10.0  | 2.14\t2.70\t3.09\t3.24\t3.46\t3.71\t3.89\t5.91\n",
      "sigma=  100.0  | 3.46\t3.48\t3.48\t3.49\t3.49\t3.50\t3.50\t3.55\n",
      "sigma= 1000.0  | 3.50\t3.50\t3.50\t3.50\t3.50\t3.50\t3.50\t3.50\n"
     ]
    }
   ],
   "source": [
    "print(\"Smoothed ranks\")\n",
    "test = x\n",
    "for sigma in [0.1, 1, 10, 100, 1000]:     \n",
    "    ranks = diff_argsort(matrices, test, sigma=sigma) \n",
    "    print(f\"sigma={sigma:7.1f}  |\", neat_vec(ranks))"
   ]
  },
  {
   "cell_type": "code",
   "execution_count": 21,
   "metadata": {},
   "outputs": [
    {
     "name": "stdout",
     "output_type": "stream",
     "text": [
      "[[ 0.    -0.    -0.    -0.    -0.    -0.    -0.    -0.   ]\n",
      " [ 0.     0.    -0.     0.     0.    -0.     0.     0.   ]\n",
      " [ 0.004  0.     0.655  0.031  0.002 -0.692  0.     0.   ]\n",
      " [ 0.003  0.    -0.64   0.113  0.003  0.522  0.     0.   ]\n",
      " [-0.    -0.    -0.007 -0.07  -0.038  0.116 -0.    -0.001]\n",
      " [ 0.     0.     0.003 -0.011  0.605  0.007  0.    -0.603]\n",
      " [ 0.     0.     0.     0.004 -0.576  0.001  0.     0.571]\n",
      " [-0.    -0.    -0.    -0.    -0.    -0.    -0.     0.   ]]\n"
     ]
    }
   ],
   "source": [
    "np.set_printoptions(precision=3)\n",
    "jac_rank = jacobian(diff_argsort, argnum=1)\n",
    "print(jac_rank(matrices, np.array(test), 1.0) )"
   ]
  },
  {
   "cell_type": "markdown",
   "metadata": {},
   "source": [
    "# PyTorch example\n",
    "We can verify that this is both parallelisable on the GPU and fully differentiable."
   ]
  },
  {
   "cell_type": "code",
   "execution_count": null,
   "metadata": {},
   "outputs": [],
   "source": [
    "import torch\n",
    "import numpy as np\n",
    "from torch.autograd import Variable\n",
    "import torch.nn.functional as F\n",
    "device = torch.device(\"cuda:0\" if torch.cuda.is_available() else \"cpu\")\n",
    "print('Device:', device)"
   ]
  },
  {
   "cell_type": "code",
   "execution_count": null,
   "metadata": {},
   "outputs": [],
   "source": [
    "from differentiable_sorting_torch import diff_bisort, bitonic_matrices, diff_argsort\n",
    "matrices = bitonic_matrices(16)\n",
    "torch_matrices = [[torch.from_numpy(matrix).float().to(device) for matrix in matrix_set] for matrix_set in matrices]\n"
   ]
  },
  {
   "cell_type": "code",
   "execution_count": null,
   "metadata": {},
   "outputs": [],
   "source": [
    "test_input = np.random.normal(0, 5, 16)\n",
    "var_test_input = Variable(torch.from_numpy(test_input).float().to(device),\n",
    "                          requires_grad=True)\n",
    "\n",
    "result = diff_bisort(torch_matrices, var_test_input)\n",
    "\n",
    "# compute the Jacobian of the sorting function, to show we can differentiate through the\n",
    "# sorting function\n",
    "jac = []\n",
    "for i in range(len(result)):\n",
    "    jac.append(\n",
    "        torch.autograd.grad(result[i], var_test_input, retain_graph=True)[0])\n",
    "\n",
    "# 16 x 16 jacobian of the sorting matrix\n",
    "print(torch.stack(jac))"
   ]
  },
  {
   "cell_type": "code",
   "execution_count": null,
   "metadata": {},
   "outputs": [],
   "source": [
    "result = diff_argsort(torch_matrices, var_test_input)\n",
    "print(result)\n"
   ]
  },
  {
   "cell_type": "code",
   "execution_count": null,
   "metadata": {},
   "outputs": [],
   "source": []
  }
 ],
 "metadata": {
  "kernelspec": {
   "display_name": "Python 3",
   "language": "python",
   "name": "python3"
  },
  "language_info": {
   "codemirror_mode": {
    "name": "ipython",
    "version": 3
   },
   "file_extension": ".py",
   "mimetype": "text/x-python",
   "name": "python",
   "nbconvert_exporter": "python",
   "pygments_lexer": "ipython3",
   "version": "3.7.1"
  },
  "toc": {
   "base_numbering": 1,
   "nav_menu": {},
   "number_sections": true,
   "sideBar": true,
   "skip_h1_title": false,
   "title_cell": "Table of Contents",
   "title_sidebar": "Contents",
   "toc_cell": false,
   "toc_position": {},
   "toc_section_display": true,
   "toc_window_display": false
  }
 },
 "nbformat": 4,
 "nbformat_minor": 2
}
