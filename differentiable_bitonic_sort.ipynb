{
 "cells": [
  {
   "cell_type": "markdown",
   "metadata": {},
   "source": [
    "# Differentiable bitonic sort\n",
    "\n",
    "[Bitonic sorts](https://en.wikipedia.org/wiki/Bitonic_sorter) allow creation of sorting networks with a sequence of fixed conditional swapping operations executed in parallel. A sorting network implements  a map from $\\mathbb{R}^n \\rightarrow \\mathbb{R}^n$, where $n=2^k$ (sorting networks for non-power-of-2 sizes are possible but not trickier).\n",
    "\n",
    "<img src=\"BitonicSort1.svg.png\">\n",
    "\n",
    "*[Image: from Wikipedia, by user Bitonic, CC0](https://en.wikipedia.org/wiki/Bitonic_sorter#/media/File:BitonicSort1.svg)*\n",
    "\n",
    "The sorting network for $n=2^k$ elements has $\\frac{k(k-1)}{2}$ \"layers\" where parallel compare-and-swap operations are used to rearrange a $k$ element vector into sorted order.\n",
    "\n",
    "### Differentiable compare-and-swap\n",
    "\n",
    "If we define the `softmax(a,b)` function (not the traditional \"softmax\" used for classification!) as the continuous approximation to the `max(a,b)` function:\n",
    "\n",
    "$$\\text{softmax}(a,b) = \\log(e^a + e^b) \\approx \\max(a,b).$$\n",
    "\n",
    "We can then fairly obviously write `softmin(a,b)` as:\n",
    "\n",
    "$$\\text{softmin}(a,b) = -\\log(e^{-a} + e^{-b}) \\approx \\min(a,b).$$ More numerically stably we can write: \n",
    "\n",
    "$$\\text{softmin}(a,b) = a + b - \\text{softmax}(a,b).$$\n",
    "\n",
    "These functions obviously aren't equal to max and min, but are relatively close, and differentiable. Note that we now have a differentiable compare-and-swap operation:\n",
    "\n",
    "$$\\text{high} = \\text{softmax}(a,b), \\text{low} = \\text{softmin}(a,b), \\text{where } \\text{low}\\leq \\text{high}$$\n",
    "\n",
    "Alternatively, we can use: \n",
    "$$\\text{smoothmax}(a,b) = \\frac{a (e^{\\alpha a}) + b (e^{\\alpha b})}{e^{\\alpha a}+e^{\\alpha b}}  \\approx \\max(a,b).$$  This has an adjustable smoothness parameter $\\alpha$, with exact maximum as $\\alpha \\rightarrow \\infty$ and pure averaging as $\\alpha \\rightarrow 0$.\n",
    "\n",
    "## Differentiable sorting\n",
    "\n",
    "For each layer in the sorting network, we can split all of the pairwise comparison-and-swaps into left-hand and right-hand sides which can be done simultaneously. We can any write function that selects the relevant elements of the vector as a multiply with a binary matrix.\n",
    "\n",
    "For each layer, we can derive two binary matrices $L \\in \\mathbb{R}^{n \\times \\frac{n}{2}}$ and $R \\in \\mathbb{R}^{n \\times \\frac{n}{2}}$ which select the elements to be compared for the left and right hands respectively. This will result in the comparison between two $\\frac{k}{2}$ length vectors. We can also derive two matrices $L' \\in \\mathbb{R}^{\\frac{n}{2} \\times n}$ and $R' \\in \\mathbb{R}^{\\frac{n}{2} \\times n}$ which put the results of the compare-and-swap operation back into the right positions.\n",
    "\n",
    "Then, each layer $i$ of the sorting process is just:\n",
    "$${\\bf x}_{i+1} = L'_i[\\text{softmin}(L_i{\\bf x_i}, R_i{\\bf x_i})] + R'_i[\\text{softmax}(L_i{\\bf x_i}, R_i{\\bf x_i})]$$\n",
    "$$ = L'_i\\left(-\\log\\left(e^{-L_i{\\bf x}_i} + e^{-R_i{\\bf x}_i}\\right)\\right) +  R'_i\\left(\\log\\left(e^{L_i{\\bf x}_i} + e^{R_i{\\bf x}_i}\\right)\\right)$$\n",
    "which is clearly differentiable (though not very numerically stable -- the usable range of elements $x$ is quite limited in single float precision).\n",
    "\n",
    "All that remains is to compute the matrices $L_i, R_i, L'_i, R'_i$ for each of the layers of the network. \n",
    "\n",
    "This process is excessively computation heavy, but easy to compute. We could also simplify this into two matrix multiplies, at the cost of a vector split and join in the middle (see the `woven` form later in this text). \n",
    "\n",
    "## Example\n",
    "\n",
    "To sort four elements, we have a network like:\n",
    "\n",
    "    0  1  2  3  \n",
    "    ┕>>┙  │  │  \n",
    "    │  │  ┕<<┙  \n",
    "    ┕>>>>>┙  │  \n",
    "    │  │  │  │  \n",
    "    ┕>>┙  │  │  \n",
    "    │  │  ┕>>┙  \n",
    "    \n",
    "This is equivalent to: \n",
    "\n",
    "    x[0], x[1] = cswap(x[0], x[1])\n",
    "    x[3], x[2] = cswap(x[2], x[3])\n",
    "    x[0], x[2] = cswap(x[0], x[2])\n",
    "    x[0], x[1] = cswap(x[0], x[1])\n",
    "    x[2], x[3] = cswap(x[2], x[3])\n",
    "    \n",
    "where `cswap(a,b) = (min(a,b), max(a,b))`\n",
    "\n",
    "Replacing the indexing with matrix multiplies and `cswap` with a `softcswap = (softmin(a,b), softmax(a,b))` we then have the differentiable form.\n",
    "\n"
   ]
  },
  {
   "cell_type": "markdown",
   "metadata": {},
   "source": [
    "# Test functions"
   ]
  },
  {
   "cell_type": "code",
   "execution_count": 46,
   "metadata": {},
   "outputs": [
    {
     "name": "stdout",
     "output_type": "stream",
     "text": [
      " 0>1\t 2<3\t 4>5\t 6<7\t 8>9\t10<11\t12>13\t14<15\t\n",
      "----------------------------------------------------------------\n",
      " 0>2\t 1>3\t 4<6\t 5<7\t 8>10\t 9>11\t12<14\t13<15\t\n",
      " 0>1\t 2>3\t 4<5\t 6<7\t 8>9\t10>11\t12<13\t14<15\t\n",
      "----------------------------------------------------------------\n",
      " 0>4\t 1>5\t 2>6\t 3>7\t 8<12\t 9<13\t10<14\t11<15\t\n",
      " 0>2\t 1>3\t 4>6\t 5>7\t 8<10\t 9<11\t12<14\t13<15\t\n",
      " 0>1\t 2>3\t 4>5\t 6>7\t 8<9\t10<11\t12<13\t14<15\t\n",
      "----------------------------------------------------------------\n",
      " 0>8\t 1>9\t 2>10\t 3>11\t 4>12\t 5>13\t 6>14\t 7>15\t\n",
      " 0>4\t 1>5\t 2>6\t 3>7\t 8>12\t 9>13\t10>14\t11>15\t\n",
      " 0>2\t 1>3\t 4>6\t 5>7\t 8>10\t 9>11\t12>14\t13>15\t\n",
      " 0>1\t 2>3\t 4>5\t 6>7\t 8>9\t10>11\t12>13\t14>15\t\n",
      "----------------------------------------------------------------\n"
     ]
    }
   ],
   "source": [
    "from bitonic_tests import bitonic_network, pretty_bitonic_network\n",
    "\n",
    "def neat_vec(n):\n",
    "    # print a vector neatly    \n",
    "    return \"\\t\".join([f\"{x:.2f}\" for x in n])\n",
    "\n",
    "# this should match the diagram at the top of the notebook\n",
    "bitonic_network(16)"
   ]
  },
  {
   "cell_type": "code",
   "execution_count": 47,
   "metadata": {
    "scrolled": false
   },
   "outputs": [
    {
     "name": "stdout",
     "output_type": "stream",
     "text": [
      " 0  1  2  3  4  5  6  7  8  9  10 11 12 13 14 15\n",
      " ╭──╯  │  │  │  │  │  │  │  │  │  │  │  │  │  │ \n",
      " │  │  ╰──╮  │  │  │  │  │  │  │  │  │  │  │  │ \n",
      " │  │  │  │  ╭──╯  │  │  │  │  │  │  │  │  │  │ \n",
      " │  │  │  │  │  │  ╰──╮  │  │  │  │  │  │  │  │ \n",
      " │  │  │  │  │  │  │  │  ╭──╯  │  │  │  │  │  │ \n",
      " │  │  │  │  │  │  │  │  │  │  ╰──╮  │  │  │  │ \n",
      " │  │  │  │  │  │  │  │  │  │  │  │  ╭──╯  │  │ \n",
      " │  │  │  │  │  │  │  │  │  │  │  │  │  │  ╰──╮ \n",
      " ╭─────╯  │  │  │  │  │  │  │  │  │  │  │  │  │ \n",
      " │  ╭─────╯  │  │  │  │  │  │  │  │  │  │  │  │ \n",
      " │  │  │  │  ╰─────╮  │  │  │  │  │  │  │  │  │ \n",
      " │  │  │  │  │  ╰─────╮  │  │  │  │  │  │  │  │ \n",
      " │  │  │  │  │  │  │  │  ╭─────╯  │  │  │  │  │ \n",
      " │  │  │  │  │  │  │  │  │  ╭─────╯  │  │  │  │ \n",
      " │  │  │  │  │  │  │  │  │  │  │  │  ╰─────╮  │ \n",
      " │  │  │  │  │  │  │  │  │  │  │  │  │  ╰─────╮ \n",
      " ╭──╯  │  │  │  │  │  │  │  │  │  │  │  │  │  │ \n",
      " │  │  ╭──╯  │  │  │  │  │  │  │  │  │  │  │  │ \n",
      " │  │  │  │  ╰──╮  │  │  │  │  │  │  │  │  │  │ \n",
      " │  │  │  │  │  │  ╰──╮  │  │  │  │  │  │  │  │ \n",
      " │  │  │  │  │  │  │  │  ╭──╯  │  │  │  │  │  │ \n",
      " │  │  │  │  │  │  │  │  │  │  ╭──╯  │  │  │  │ \n",
      " │  │  │  │  │  │  │  │  │  │  │  │  ╰──╮  │  │ \n",
      " │  │  │  │  │  │  │  │  │  │  │  │  │  │  ╰──╮ \n",
      " ╭───────────╯  │  │  │  │  │  │  │  │  │  │  │ \n",
      " │  ╭───────────╯  │  │  │  │  │  │  │  │  │  │ \n",
      " │  │  ╭───────────╯  │  │  │  │  │  │  │  │  │ \n",
      " │  │  │  ╭───────────╯  │  │  │  │  │  │  │  │ \n",
      " │  │  │  │  │  │  │  │  ╰───────────╮  │  │  │ \n",
      " │  │  │  │  │  │  │  │  │  ╰───────────╮  │  │ \n",
      " │  │  │  │  │  │  │  │  │  │  ╰───────────╮  │ \n",
      " │  │  │  │  │  │  │  │  │  │  │  ╰───────────╮ \n",
      " ╭─────╯  │  │  │  │  │  │  │  │  │  │  │  │  │ \n",
      " │  ╭─────╯  │  │  │  │  │  │  │  │  │  │  │  │ \n",
      " │  │  │  │  ╭─────╯  │  │  │  │  │  │  │  │  │ \n",
      " │  │  │  │  │  ╭─────╯  │  │  │  │  │  │  │  │ \n",
      " │  │  │  │  │  │  │  │  ╰─────╮  │  │  │  │  │ \n",
      " │  │  │  │  │  │  │  │  │  ╰─────╮  │  │  │  │ \n",
      " │  │  │  │  │  │  │  │  │  │  │  │  ╰─────╮  │ \n",
      " │  │  │  │  │  │  │  │  │  │  │  │  │  ╰─────╮ \n",
      " ╭──╯  │  │  │  │  │  │  │  │  │  │  │  │  │  │ \n",
      " │  │  ╭──╯  │  │  │  │  │  │  │  │  │  │  │  │ \n",
      " │  │  │  │  ╭──╯  │  │  │  │  │  │  │  │  │  │ \n",
      " │  │  │  │  │  │  ╭──╯  │  │  │  │  │  │  │  │ \n",
      " │  │  │  │  │  │  │  │  ╰──╮  │  │  │  │  │  │ \n",
      " │  │  │  │  │  │  │  │  │  │  ╰──╮  │  │  │  │ \n",
      " │  │  │  │  │  │  │  │  │  │  │  │  ╰──╮  │  │ \n",
      " │  │  │  │  │  │  │  │  │  │  │  │  │  │  ╰──╮ \n",
      " ╭───────────────────────╯  │  │  │  │  │  │  │ \n",
      " │  ╭───────────────────────╯  │  │  │  │  │  │ \n",
      " │  │  ╭───────────────────────╯  │  │  │  │  │ \n",
      " │  │  │  ╭───────────────────────╯  │  │  │  │ \n",
      " │  │  │  │  ╭───────────────────────╯  │  │  │ \n",
      " │  │  │  │  │  ╭───────────────────────╯  │  │ \n",
      " │  │  │  │  │  │  ╭───────────────────────╯  │ \n",
      " │  │  │  │  │  │  │  ╭───────────────────────╯ \n",
      " ╭───────────╯  │  │  │  │  │  │  │  │  │  │  │ \n",
      " │  ╭───────────╯  │  │  │  │  │  │  │  │  │  │ \n",
      " │  │  ╭───────────╯  │  │  │  │  │  │  │  │  │ \n",
      " │  │  │  ╭───────────╯  │  │  │  │  │  │  │  │ \n",
      " │  │  │  │  │  │  │  │  ╭───────────╯  │  │  │ \n",
      " │  │  │  │  │  │  │  │  │  ╭───────────╯  │  │ \n",
      " │  │  │  │  │  │  │  │  │  │  ╭───────────╯  │ \n",
      " │  │  │  │  │  │  │  │  │  │  │  ╭───────────╯ \n",
      " ╭─────╯  │  │  │  │  │  │  │  │  │  │  │  │  │ \n",
      " │  ╭─────╯  │  │  │  │  │  │  │  │  │  │  │  │ \n",
      " │  │  │  │  ╭─────╯  │  │  │  │  │  │  │  │  │ \n",
      " │  │  │  │  │  ╭─────╯  │  │  │  │  │  │  │  │ \n",
      " │  │  │  │  │  │  │  │  ╭─────╯  │  │  │  │  │ \n",
      " │  │  │  │  │  │  │  │  │  ╭─────╯  │  │  │  │ \n",
      " │  │  │  │  │  │  │  │  │  │  │  │  ╭─────╯  │ \n",
      " │  │  │  │  │  │  │  │  │  │  │  │  │  ╭─────╯ \n",
      " ╭──╯  │  │  │  │  │  │  │  │  │  │  │  │  │  │ \n",
      " │  │  ╭──╯  │  │  │  │  │  │  │  │  │  │  │  │ \n",
      " │  │  │  │  ╭──╯  │  │  │  │  │  │  │  │  │  │ \n",
      " │  │  │  │  │  │  ╭──╯  │  │  │  │  │  │  │  │ \n",
      " │  │  │  │  │  │  │  │  ╭──╯  │  │  │  │  │  │ \n",
      " │  │  │  │  │  │  │  │  │  │  ╭──╯  │  │  │  │ \n",
      " │  │  │  │  │  │  │  │  │  │  │  │  ╭──╯  │  │ \n",
      " │  │  │  │  │  │  │  │  │  │  │  │  │  │  ╭──╯ \n"
     ]
    }
   ],
   "source": [
    "pretty_bitonic_network(16)"
   ]
  },
  {
   "cell_type": "markdown",
   "metadata": {},
   "source": [
    "# Vectorised functions"
   ]
  },
  {
   "cell_type": "markdown",
   "metadata": {},
   "source": [
    "## Testing sorting network"
   ]
  },
  {
   "cell_type": "code",
   "execution_count": 60,
   "metadata": {},
   "outputs": [
    {
     "name": "stdout",
     "output_type": "stream",
     "text": [
      "[  5.  23.  35.  39.  42.  51.  82. 104.]\n",
      "[  0.  59. 108. 147. 155. 172. 175. 183.]\n",
      "[ 20.  22.  46. 109. 110. 132. 158. 183.]\n",
      "[ 17.  19.  46.  67.  72. 125. 130. 169.]\n",
      "[  5.  20. 154. 168. 173. 174. 187. 198.]\n",
      "[  5.  13.  16.  26.  79.  82. 115. 196.]\n",
      "[ 28.  60.  64. 108. 116. 161. 176. 191.]\n",
      "[ 58.  61.  72.  72.  83. 100. 103. 192.]\n",
      "[ 10.  13.  63.  75. 120. 121. 174. 175.]\n",
      "[ 21.  26.  28.  63.  65. 118. 134. 163.]\n"
     ]
    }
   ],
   "source": [
    "# Test sorting\n",
    "import autograd.numpy as np # we can use plain numpy as well (but can't take grad!)\n",
    "\n",
    "\n",
    "from differentiable_sorting import bitonic_matrices, diff_sort, diff_argsort\n",
    "from differentiable_sorting import softmax, smoothmax, softmax_smooth\n",
    "matrices = bitonic_matrices(8)\n",
    "\n",
    "# test bitonic sorting with exact maximum\n",
    "for i in range(10):\n",
    "    # these should all be in sorted order\n",
    "    test = np.random.randint(0, 200, 8)\n",
    "    print(diff_sort(matrices, test, softmax=np.maximum))    "
   ]
  },
  {
   "cell_type": "code",
   "execution_count": 56,
   "metadata": {},
   "outputs": [
    {
     "name": "stdout",
     "output_type": "stream",
     "text": [
      "Testing sorting for 2 elements\n",
      "Testing sorting for 4 elements\n",
      "Testing sorting for 8 elements\n",
      "Testing sorting for 16 elements\n",
      "Testing sorting for 32 elements\n",
      "Testing sorting for 64 elements\n",
      "Testing sorting for 128 elements\n",
      "Testing sorting for 256 elements\n",
      "Testing sorting for 512 elements\n",
      "Testing sorting for 1024 elements\n"
     ]
    }
   ],
   "source": [
    "for i in range(1, 11):\n",
    "    k = 2**i\n",
    "    matrices = bitonic_matrices(k)\n",
    "    print(f\"Testing sorting for {k} elements\")\n",
    "    for j in range(100):\n",
    "        test = np.random.randint(0, 200, k)\n",
    "\n",
    "        assert (np.allclose(diff_sort(matrices, test, softmax=np.maximum), np.sort(test)))"
   ]
  },
  {
   "cell_type": "markdown",
   "metadata": {},
   "source": [
    "## Differentiable sorting test"
   ]
  },
  {
   "cell_type": "code",
   "execution_count": 57,
   "metadata": {},
   "outputs": [
    {
     "name": "stdout",
     "output_type": "stream",
     "text": [
      "Softmax sorting    -181.00\t-113.00\t-80.00\t-56.00\t3.00\t83.00\t163.00\t182.00\n",
      "Smoothmax sorting  -181.00\t-113.00\t-80.00\t-56.00\t3.00\t83.00\t163.00\t182.00\n",
      "Exact sorting      -181.00\t-113.00\t-80.00\t-56.00\t3.00\t83.00\t163.00\t182.00\n",
      "\n",
      "Softmax sorting    -158.00\t-135.00\t-36.00\t-16.02\t-11.98\t67.00\t143.00\t168.00\n",
      "Smoothmax sorting  -158.00\t-135.00\t-36.00\t-15.93\t-12.07\t67.00\t143.00\t168.00\n",
      "Exact sorting      -158.00\t-135.00\t-36.00\t-16.00\t-12.00\t67.00\t143.00\t168.00\n",
      "\n",
      "Softmax sorting    -152.00\t-10.00\t47.00\t66.00\t84.95\t89.05\t161.51\t163.49\n",
      "Smoothmax sorting  -152.00\t-10.00\t47.00\t66.00\t85.24\t88.76\t162.45\t162.55\n",
      "Exact sorting      -152.00\t-10.00\t47.00\t66.00\t85.00\t89.00\t162.00\t163.00\n",
      "\n",
      "Softmax sorting    -140.00\t-71.00\t-24.00\t1.00\t7.00\t68.00\t111.00\t126.00\n",
      "Smoothmax sorting  -140.00\t-71.00\t-24.00\t1.03\t6.97\t68.00\t111.00\t126.00\n",
      "Exact sorting      -140.00\t-71.00\t-24.00\t1.00\t7.00\t68.00\t111.00\t126.00\n",
      "\n",
      "Softmax sorting    -66.00\t-27.00\t-10.00\t50.00\t86.00\t106.00\t126.00\t155.00\n",
      "Smoothmax sorting  -66.00\t-27.00\t-10.00\t50.00\t86.00\t106.00\t126.00\t155.00\n",
      "Exact sorting      -66.00\t-27.00\t-10.00\t50.00\t86.00\t106.00\t126.00\t155.00\n",
      "\n",
      "Softmax sorting    -188.00\t-134.00\t31.00\t41.00\t53.00\t64.00\t77.00\t130.00\n",
      "Smoothmax sorting  -188.00\t-134.00\t31.00\t41.00\t53.00\t64.00\t77.00\t130.00\n",
      "Exact sorting      -188.00\t-134.00\t31.00\t41.00\t53.00\t64.00\t77.00\t130.00\n",
      "\n",
      "Softmax sorting    -116.00\t-68.00\t-8.00\t65.00\t89.00\t152.00\t177.00\t198.00\n",
      "Smoothmax sorting  -116.00\t-68.00\t-8.00\t65.00\t89.00\t152.00\t177.00\t198.00\n",
      "Exact sorting      -116.00\t-68.00\t-8.00\t65.00\t89.00\t152.00\t177.00\t198.00\n",
      "\n",
      "Softmax sorting    -117.00\t-102.00\t-13.00\t0.00\t49.00\t65.00\t108.00\t145.00\n",
      "Smoothmax sorting  -117.00\t-102.00\t-13.00\t-0.00\t49.00\t65.00\t108.00\t145.00\n",
      "Exact sorting      -117.00\t-102.00\t-13.00\t0.00\t49.00\t65.00\t108.00\t145.00\n",
      "\n",
      "Softmax sorting    -142.00\t-113.00\t46.00\t77.00\t94.00\t112.00\t118.00\t193.00\n",
      "Smoothmax sorting  -142.00\t-113.00\t46.00\t77.00\t94.00\t112.01\t117.99\t193.00\n",
      "Exact sorting      -142.00\t-113.00\t46.00\t77.00\t94.00\t112.00\t118.00\t193.00\n",
      "\n",
      "Softmax sorting    -160.00\t-134.01\t-129.01\t-123.99\t-104.00\t-78.00\t18.00\t90.00\n",
      "Smoothmax sorting  -160.00\t-133.97\t-128.96\t-124.07\t-104.00\t-78.00\t18.00\t90.00\n",
      "Exact sorting      -160.00\t-134.00\t-129.00\t-124.00\t-104.00\t-78.00\t18.00\t90.00\n",
      "\n"
     ]
    }
   ],
   "source": [
    "# Differentiable sorting \n",
    "np.set_printoptions(precision=2)\n",
    "matrices = bitonic_matrices(8) \n",
    "\n",
    "\n",
    "for i in range(10):\n",
    "    test = np.random.randint(-200,200,8)\n",
    "    print(\"Softmax sorting   \", neat_vec(diff_sort(matrices, test, softmax=softmax)))\n",
    "    print(\"Smoothmax sorting \", neat_vec(diff_sort(matrices, test, softmax=smoothmax)))\n",
    "    print(\"Exact sorting     \", neat_vec(diff_sort(matrices, test, softmax=np.maximum)))\n",
    "    \n",
    "    print()"
   ]
  },
  {
   "cell_type": "markdown",
   "metadata": {},
   "source": [
    "# Relaxed sorting\n",
    "We can define a slighly modified function which interpolates between `softmax(a,b)` and `mean(a,b)`. The result is a sorting function that can be relaxed from sorting to averaging."
   ]
  },
  {
   "cell_type": "code",
   "execution_count": 63,
   "metadata": {},
   "outputs": [
    {
     "name": "stdout",
     "output_type": "stream",
     "text": [
      "Mean -52.38\n",
      "\n",
      "Exact sorting             -194.00\t-192.00\t-105.00\t-101.00\t-25.00\t25.00\t53.00\t120.00\n",
      "\n",
      "Softmax.   smooth[0.00]   -194.13\t-191.87\t-105.04\t-100.96\t-25.00\t25.00\t53.00\t120.00\n",
      "Smoothmax. alpha=[1.00]   -193.76\t-192.24\t-104.85\t-101.15\t-25.00\t25.00\t53.00\t120.00\n",
      "\n",
      "Softmax.   smooth[0.14]   -141.68\t-131.68\t-92.57\t-91.28\t-26.16\t2.71\t14.89\t46.77\n",
      "Smoothmax. alpha=[0.86]   -193.69\t-192.31\t-104.73\t-101.27\t-25.00\t25.00\t53.00\t120.00\n",
      "\n",
      "Softmax.   smooth[0.29]   -104.38\t-93.60\t-81.99\t-79.28\t-30.62\t-16.33\t-12.47\t-0.32\n",
      "Smoothmax. alpha=[0.71]   -193.61\t-192.39\t-104.52\t-101.48\t-25.00\t25.00\t53.00\t120.00\n",
      "\n",
      "Softmax.   smooth[0.43]   -79.50\t-71.65\t-71.90\t-68.90\t-36.51\t-31.29\t-30.92\t-28.32\n",
      "Smoothmax. alpha=[0.57]   -193.52\t-192.48\t-104.19\t-101.81\t-25.00\t25.00\t53.00\t120.00\n",
      "\n",
      "Softmax.   smooth[0.57]   -64.88\t-61.82\t-62.90\t-60.03\t-43.71\t-43.05\t-41.57\t-41.03\n",
      "Smoothmax. alpha=[0.43]   -193.40\t-192.60\t-103.74\t-102.26\t-25.00\t25.00\t53.00\t120.00\n",
      "\n",
      "Softmax.   smooth[0.71]   -57.66\t-56.94\t-56.96\t-56.19\t-48.42\t-48.11\t-47.52\t-47.21\n",
      "Smoothmax. alpha=[0.29]   -193.28\t-192.72\t-103.30\t-102.70\t-25.00\t25.01\t52.99\t120.00\n",
      "\n",
      "Softmax.   smooth[0.86]   -54.44\t-54.29\t-54.28\t-54.13\t-50.62\t-50.47\t-50.46\t-50.31\n",
      "Smoothmax. alpha=[0.14]   -193.14\t-192.86\t-103.04\t-102.96\t-24.92\t25.42\t52.50\t120.00\n",
      "\n",
      "Softmax.   smooth[1.00]   -52.38\t-52.38\t-52.38\t-52.38\t-52.38\t-52.38\t-52.38\t-52.38\n",
      "Smoothmax. alpha=[0.00]   -52.38\t-52.38\t-52.38\t-52.38\t-52.38\t-52.38\t-52.38\t-52.38\n",
      "\n"
     ]
    }
   ],
   "source": [
    "from differentiable_sorting import diff_bisort_smooth\n",
    "# Differentiable smoothed sorting \n",
    "test = np.random.randint(-200,200,8)\n",
    "print(f\"Mean {np.mean(test):.2f}\")\n",
    "print()\n",
    "print(\"Exact sorting            \", neat_vec(diff_sort(matrices, test, np.maximum)))\n",
    "print()\n",
    "for smooth in np.linspace(0, 1, 8):    \n",
    "    print(f\"Softmax.   smooth[{smooth:.2f}]  \", neat_vec(diff_sort(matrices, test, lambda a,b:softmax_smooth(a,b,smooth=smooth))))\n",
    "    # smoothmax's alpha is the inverse of diff_bisort_smooth\n",
    "    print(f\"Smoothmax. alpha=[{1-smooth:.2f}]  \", neat_vec(diff_sort(matrices, test, lambda a,b:smoothmax(a,b, alpha=1-smooth))))\n",
    "    print()"
   ]
  },
  {
   "cell_type": "code",
   "execution_count": 69,
   "metadata": {},
   "outputs": [
    {
     "data": {
      "text/plain": [
       "array([[0.02, 0.04, 0.02, 0.86, 0.  , 0.  , 0.02, 0.02],\n",
       "       [0.02, 0.  , 0.02, 0.03, 0.02, 0.02, 0.86, 0.02],\n",
       "       [0.75, 0.15, 0.02, 0.03, 0.02, 0.  , 0.02, 0.  ],\n",
       "       [0.15, 0.75, 0.02, 0.04, 0.  , 0.02, 0.  , 0.  ],\n",
       "       [0.  , 0.02, 0.  , 0.  , 0.05, 0.86, 0.02, 0.05],\n",
       "       [0.02, 0.  , 0.02, 0.  , 0.86, 0.04, 0.02, 0.02],\n",
       "       [0.  , 0.  , 0.02, 0.02, 0.02, 0.04, 0.02, 0.86],\n",
       "       [0.02, 0.02, 0.86, 0.02, 0.02, 0.  , 0.02, 0.02]])"
      ]
     },
     "execution_count": 69,
     "metadata": {},
     "output_type": "execute_result"
    }
   ],
   "source": [
    "from autograd import jacobian\n",
    "# show that we can take the derivative\n",
    "jac_sort = jacobian(diff_sort, argnum=1)\n",
    "jac_sort(matrices, test, softmax=lambda a,b:softmax_smooth(a,b,0.05)) # slight relaxation"
   ]
  },
  {
   "cell_type": "code",
   "execution_count": 73,
   "metadata": {},
   "outputs": [
    {
     "name": "stdout",
     "output_type": "stream",
     "text": [
      "[-193.76 -192.24 -104.85 -101.15  -25.     25.     53.    120.  ]\n"
     ]
    },
    {
     "data": {
      "text/plain": [
       "array([[-0.  , -0.  , -0.  ,  1.09, -0.  ,  0.  , -0.09, -0.  ],\n",
       "       [-0.  ,  0.  ,  0.  , -0.09,  0.  ,  0.  ,  1.09,  0.  ],\n",
       "       [ 1.12, -0.12, -0.  , -0.  ,  0.  ,  0.  , -0.  , -0.  ],\n",
       "       [-0.12,  1.12, -0.  ,  0.  ,  0.  , -0.  ,  0.  , -0.  ],\n",
       "       [ 0.  , -0.  ,  0.  ,  0.  ,  0.  ,  1.  , -0.  , -0.  ],\n",
       "       [-0.  ,  0.  , -0.  , -0.  ,  1.  , -0.  ,  0.  , -0.  ],\n",
       "       [-0.  ,  0.  , -0.  , -0.  , -0.  ,  0.  ,  0.  ,  1.  ],\n",
       "       [ 0.  , -0.  ,  1.  ,  0.  ,  0.  , -0.  , -0.  , -0.  ]])"
      ]
     },
     "execution_count": 73,
     "metadata": {},
     "output_type": "execute_result"
    }
   ],
   "source": [
    "# show that we can take the derivative, applying some smoothing to get reasonable values\n",
    "print(diff_sort(matrices, test, smoothmax))\n",
    "jac_sort(matrices, test,  smoothmax) "
   ]
  },
  {
   "cell_type": "markdown",
   "metadata": {},
   "source": [
    "## Woven form\n",
    "We can \"weave\" the four matrices into two matrices for fewer multiplies at the cost of having to split and join the matrices at each layer."
   ]
  },
  {
   "cell_type": "code",
   "execution_count": 74,
   "metadata": {},
   "outputs": [
    {
     "name": "stdout",
     "output_type": "stream",
     "text": [
      "Exact sorting        -194.00\t-192.00\t-105.00\t-101.00\t-25.00\t25.00\t53.00\t120.00\n",
      "Diff. (std.)        -193.76\t-192.24\t-104.85\t-101.15\t-25.00\t25.00\t53.00\t120.00\n",
      "Diff. (woven)       -193.76\t-192.24\t-104.85\t-101.15\t-25.00\t25.00\t53.00\t120.00\n"
     ]
    }
   ],
   "source": [
    "from differentiable_sorting import bitonic_woven_matrices, diff_sort_weave\n",
    "\n",
    "woven_matrices = bitonic_woven_matrices(8)\n",
    "\n",
    "print(\"Exact sorting       \", neat_vec(diff_sort(matrices, test, np.maximum)))\n",
    "print(f\"Diff. (std.)       \", neat_vec(diff_sort(matrices, test, smoothmax)))\n",
    "print(f\"Diff. (woven)      \", neat_vec(diff_sort_weave(woven_matrices, test, smoothmax)))\n",
    "        "
   ]
  },
  {
   "cell_type": "markdown",
   "metadata": {},
   "source": [
    "## Differentiable ranking / argsort\n",
    "We can use a differentiable similarity measure between the input and output of the vector, e.g. an RBF kernel. We can use this to generate a normalised similarity matrix and apply this to a vector `[1, 2, 3, ..., n]`. This gives a differentiable ranking function.\n",
    "\n",
    "As `sigma` gets larger, the result converges to giving all values the mean rank; as it goes to zero the result converges to the true rank."
   ]
  },
  {
   "cell_type": "code",
   "execution_count": 75,
   "metadata": {},
   "outputs": [],
   "source": [
    "from differentiable_sorting import order_matrix, diff_argsort"
   ]
  },
  {
   "cell_type": "code",
   "execution_count": 76,
   "metadata": {},
   "outputs": [],
   "source": [
    "matrices = bitonic_matrices(8)"
   ]
  },
  {
   "cell_type": "code",
   "execution_count": 77,
   "metadata": {},
   "outputs": [
    {
     "name": "stdout",
     "output_type": "stream",
     "text": [
      "[5.0, -1.0, 9.5, 13.2, 16.2, 10.5, 42.0, 18.0]\n",
      "1.00\t0.00\t2.05\t4.00\t5.00\t2.97\t7.00\t6.00\n",
      "[1 0 2 5 3 4 7 6]\n"
     ]
    }
   ],
   "source": [
    "x = [5.0, -1.0, 9.5, 13.2, 16.2, 10.5, 42.0, 18.0]\n",
    "np.set_printoptions(suppress=True)\n",
    "print(x)\n",
    "# show argsort\n",
    "ranks = diff_argsort(matrices, x, sigma=0.5)\n",
    "print(neat_vec(ranks))\n",
    "print(np.argsort(ranks))"
   ]
  },
  {
   "cell_type": "code",
   "execution_count": 78,
   "metadata": {},
   "outputs": [
    {
     "name": "stdout",
     "output_type": "stream",
     "text": [
      "1 1\n",
      "6 6\n"
     ]
    }
   ],
   "source": [
    "# we now have differentiable argmax and argmin by indexing the rank vector\n",
    "print(np.argmin(x), int(ranks[0]+0.5))\n",
    "print(np.argmax(x), int(ranks[-1]+0.5))"
   ]
  },
  {
   "cell_type": "code",
   "execution_count": 79,
   "metadata": {},
   "outputs": [
    {
     "name": "stdout",
     "output_type": "stream",
     "text": [
      "Smoothed ranks\n",
      "sigma=    0.1  | 1.00\t0.00\t2.00\t4.00\t5.00\t3.00\t7.00\t6.00\n",
      "sigma=    1.0  | 1.00\t0.00\t2.33\t3.97\t5.12\t2.73\t7.00\t5.85\n",
      "sigma=   10.0  | 2.55\t1.92\t3.01\t3.38\t3.65\t3.11\t6.79\t3.82\n",
      "sigma=  100.0  | 3.47\t3.45\t3.48\t3.49\t3.49\t3.48\t3.56\t3.50\n",
      "sigma= 1000.0  | 3.50\t3.50\t3.50\t3.50\t3.50\t3.50\t3.50\t3.50\n"
     ]
    }
   ],
   "source": [
    "print(\"Smoothed ranks\")\n",
    "test = x\n",
    "for sigma in [0.1, 1, 10, 100, 1000]:     \n",
    "    ranks = diff_argsort(matrices, test, sigma=sigma) \n",
    "    print(f\"sigma={sigma:7.1f}  |\", neat_vec(ranks))"
   ]
  },
  {
   "cell_type": "code",
   "execution_count": 80,
   "metadata": {},
   "outputs": [
    {
     "name": "stdout",
     "output_type": "stream",
     "text": [
      "[[ 0.001 -0.    -0.001 -0.    -0.    -0.    -0.    -0.   ]\n",
      " [-0.     0.    -0.    -0.    -0.    -0.    -0.    -0.   ]\n",
      " [-0.003 -0.     0.233 -0.022 -0.002 -0.206 -0.    -0.   ]\n",
      " [-0.001 -0.    -0.031  0.146 -0.033 -0.076 -0.    -0.005]\n",
      " [-0.    -0.    -0.002 -0.032  0.224 -0.002 -0.    -0.188]\n",
      " [-0.003 -0.    -0.209 -0.066 -0.004  0.283 -0.    -0.001]\n",
      " [-0.    -0.    -0.    -0.    -0.    -0.     0.    -0.   ]\n",
      " [-0.    -0.    -0.001 -0.013 -0.191 -0.002 -0.     0.207]]\n"
     ]
    }
   ],
   "source": [
    "np.set_printoptions(precision=3)\n",
    "jac_rank = jacobian(diff_argsort, argnum=1)\n",
    "print(jac_rank(matrices, np.array(test), 1.0) )"
   ]
  },
  {
   "cell_type": "markdown",
   "metadata": {},
   "source": [
    "# PyTorch example\n",
    "We can verify that this is both parallelisable on the GPU and fully differentiable."
   ]
  },
  {
   "cell_type": "code",
   "execution_count": 81,
   "metadata": {},
   "outputs": [
    {
     "name": "stdout",
     "output_type": "stream",
     "text": [
      "Device: cuda:0\n"
     ]
    }
   ],
   "source": [
    "import torch\n",
    "import numpy as np\n",
    "from torch.autograd import Variable\n",
    "import torch.nn.functional as F\n",
    "device = torch.device(\"cuda:0\" if torch.cuda.is_available() else \"cpu\")\n",
    "print('Device:', device)"
   ]
  },
  {
   "cell_type": "code",
   "execution_count": 82,
   "metadata": {},
   "outputs": [],
   "source": [
    "from differentiable_sorting_torch import softmax, diff_argsort\n",
    "from differentiable_sorting import diff_sort\n",
    "matrices = bitonic_matrices(16)\n",
    "torch_matrices = [[torch.from_numpy(matrix).float().to(device) for matrix in matrix_set] for matrix_set in matrices]\n"
   ]
  },
  {
   "cell_type": "code",
   "execution_count": 83,
   "metadata": {},
   "outputs": [
    {
     "name": "stdout",
     "output_type": "stream",
     "text": [
      "tensor([[4.5973e-04, 3.3933e-02, 7.3613e-01, 5.7220e-06, 7.3584e-03, 1.8311e-02,\n",
      "         1.3363e-02, 2.3068e-03, 1.7365e-01, 5.7429e-03, 7.0045e-06, 2.8817e-05,\n",
      "         4.1973e-03, 3.6804e-03, 3.1447e-04, 5.0413e-04],\n",
      "        [4.8785e-04, 4.3964e-02, 1.9875e-01, 7.2420e-06, 1.1447e-02, 3.0540e-02,\n",
      "         2.0577e-02, 3.3834e-03, 6.5341e-01, 1.7145e-02, 2.0131e-05, 8.2905e-05,\n",
      "         9.5225e-03, 8.5303e-03, 8.1938e-04, 1.3184e-03],\n",
      "        [4.2167e-03, 2.7968e-01, 2.7102e-02, 5.4494e-05, 7.8724e-02, 2.0756e-01,\n",
      "         1.4958e-01, 2.2536e-02, 7.6766e-02, 4.5877e-02, 7.1609e-05, 3.0935e-04,\n",
      "         5.2884e-02, 4.5629e-02, 3.4320e-03, 5.5709e-03],\n",
      "        [5.1660e-03, 2.5247e-01, 2.4786e-02, 6.6891e-05, 7.6780e-02, 1.9704e-01,\n",
      "         1.5687e-01, 2.1487e-02, 5.0643e-02, 5.9974e-02, 7.6715e-05, 3.4016e-04,\n",
      "         7.7280e-02, 6.5229e-02, 4.5771e-03, 7.2146e-03],\n",
      "        [1.4384e-02, 9.4579e-02, 3.0093e-03, 1.8639e-04, 1.0764e-01, 1.2278e-01,\n",
      "         1.3674e-01, 5.6585e-02, 1.1777e-02, 1.3785e-01, 3.1020e-04, 1.3189e-03,\n",
      "         1.4208e-01, 1.3014e-01, 1.5501e-02, 2.5118e-02],\n",
      "        [1.4207e-02, 9.5981e-02, 3.1642e-03, 1.7407e-04, 1.0307e-01, 1.3132e-01,\n",
      "         1.4680e-01, 5.3570e-02, 1.1398e-02, 1.3862e-01, 3.4133e-04, 1.4380e-03,\n",
      "         1.3319e-01, 1.2384e-01, 1.6431e-02, 2.6465e-02],\n",
      "        [1.9670e-02, 7.5964e-02, 2.9877e-03, 2.6209e-04, 1.5066e-01, 9.9316e-02,\n",
      "         1.1669e-01, 9.0818e-02, 7.8987e-03, 1.4319e-01, 3.4490e-04, 1.5380e-03,\n",
      "         1.2555e-01, 1.2368e-01, 1.5249e-02, 2.6168e-02],\n",
      "        [1.9271e-02, 7.6437e-02, 3.0317e-03, 2.5127e-04, 1.4403e-01, 1.0184e-01,\n",
      "         1.1907e-01, 8.7000e-02, 7.9454e-03, 1.4730e-01, 3.5789e-04, 1.5925e-03,\n",
      "         1.2525e-01, 1.2390e-01, 1.5763e-02, 2.6961e-02],\n",
      "        [9.3685e-02, 1.3821e-02, 2.7234e-04, 2.0684e-03, 9.4396e-02, 2.3153e-02,\n",
      "         3.5742e-02, 1.5187e-01, 2.2822e-03, 1.0362e-01, 4.3838e-03, 1.4145e-02,\n",
      "         1.2054e-01, 1.3479e-01, 8.8949e-02, 1.1628e-01],\n",
      "        [9.3294e-02, 1.3716e-02, 2.8053e-04, 2.0780e-03, 9.5408e-02, 2.4164e-02,\n",
      "         3.7319e-02, 1.6534e-01, 2.0748e-03, 9.6028e-02, 4.6292e-03, 1.4848e-02,\n",
      "         1.0779e-01, 1.2088e-01, 9.6224e-02, 1.2592e-01],\n",
      "        [2.0925e-01, 9.2633e-03, 2.3339e-04, 5.0884e-03, 6.0492e-02, 2.0387e-02,\n",
      "         3.0750e-02, 1.4821e-01, 8.9527e-04, 4.6573e-02, 7.0969e-03, 2.6051e-02,\n",
      "         3.9016e-02, 4.5977e-02, 1.6370e-01, 1.8701e-01],\n",
      "        [2.7445e-01, 7.9823e-03, 1.9360e-04, 6.2927e-03, 5.3573e-02, 1.7542e-02,\n",
      "         2.6823e-02, 1.3388e-01, 9.1309e-04, 4.3353e-02, 7.3285e-03, 2.8382e-02,\n",
      "         4.1861e-02, 4.8357e-02, 1.5125e-01, 1.5782e-01],\n",
      "        [1.7331e-01, 1.2653e-03, 3.3603e-05, 2.6744e-02, 9.5518e-03, 3.7706e-03,\n",
      "         6.0474e-03, 4.0170e-02, 2.1345e-04, 8.5532e-03, 7.3450e-02, 1.9766e-01,\n",
      "         1.1754e-02, 1.4452e-02, 2.5436e-01, 1.7867e-01],\n",
      "        [5.8270e-02, 6.7665e-04, 1.9530e-05, 7.3802e-02, 5.5178e-03, 1.8113e-03,\n",
      "         2.9148e-03, 1.8950e-02, 9.8627e-05, 4.5468e-03, 1.4987e-01, 4.3007e-01,\n",
      "         7.1183e-03, 8.5647e-03, 1.4334e-01, 9.4420e-02],\n",
      "        [1.0241e-02, 1.3782e-04, 3.3124e-06, 4.7362e-01, 6.9566e-04, 2.3866e-04,\n",
      "         3.6516e-04, 1.9891e-03, 1.5358e-05, 7.9039e-04, 3.4993e-01, 1.3507e-01,\n",
      "         9.5657e-04, 1.1424e-03, 1.4739e-02, 1.0064e-02],\n",
      "        [9.6351e-03, 1.2702e-04, 3.0925e-06, 4.0930e-01, 6.5626e-04, 2.2528e-04,\n",
      "         3.4585e-04, 1.9014e-03, 1.6262e-05, 8.3955e-04, 4.0178e-01, 1.4713e-01,\n",
      "         1.0046e-03, 1.1988e-03, 1.5341e-02, 1.0504e-02]], device='cuda:0')\n"
     ]
    }
   ],
   "source": [
    "test_input = np.random.normal(0, 5, 16)\n",
    "var_test_input = Variable(torch.from_numpy(test_input).float().to(device),\n",
    "                          requires_grad=True)\n",
    "\n",
    "result = diff_sort(torch_matrices, var_test_input, softmax=softmax)\n",
    "\n",
    "# compute the Jacobian of the sorting function, to show we can differentiate through the\n",
    "# sorting function\n",
    "jac = []\n",
    "for i in range(len(result)):\n",
    "    jac.append(\n",
    "        torch.autograd.grad(result[i], var_test_input, retain_graph=True)[0])\n",
    "\n",
    "# 16 x 16 jacobian of the sorting matrix\n",
    "print(torch.stack(jac))"
   ]
  },
  {
   "cell_type": "code",
   "execution_count": 84,
   "metadata": {},
   "outputs": [
    {
     "name": "stdout",
     "output_type": "stream",
     "text": [
      "tensor([11.0000,  3.4317,  0.0000, 14.0000,  6.0228,  3.5761,  4.7984,  9.0000,\n",
      "         1.0000,  5.9649, 14.0000, 13.0000,  5.9053,  7.6375, 11.0000, 10.0000],\n",
      "       device='cuda:0', grad_fn=<MvBackward>)\n"
     ]
    }
   ],
   "source": [
    "result = diff_argsort(torch_matrices, var_test_input)\n",
    "print(result)\n"
   ]
  },
  {
   "cell_type": "code",
   "execution_count": null,
   "metadata": {},
   "outputs": [],
   "source": []
  }
 ],
 "metadata": {
  "kernelspec": {
   "display_name": "Python 3",
   "language": "python",
   "name": "python3"
  },
  "language_info": {
   "codemirror_mode": {
    "name": "ipython",
    "version": 3
   },
   "file_extension": ".py",
   "mimetype": "text/x-python",
   "name": "python",
   "nbconvert_exporter": "python",
   "pygments_lexer": "ipython3",
   "version": "3.7.1"
  },
  "toc": {
   "base_numbering": 1,
   "nav_menu": {},
   "number_sections": true,
   "sideBar": true,
   "skip_h1_title": false,
   "title_cell": "Table of Contents",
   "title_sidebar": "Contents",
   "toc_cell": false,
   "toc_position": {},
   "toc_section_display": true,
   "toc_window_display": false
  }
 },
 "nbformat": 4,
 "nbformat_minor": 2
}
