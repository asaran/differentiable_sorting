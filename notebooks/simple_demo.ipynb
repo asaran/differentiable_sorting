{
 "cells": [
  {
   "cell_type": "code",
   "execution_count": 7,
   "metadata": {},
   "outputs": [],
   "source": [
    "# use autograd [https://github.com/HIPS/autograd] to find derivatives\n",
    "import autograd.numpy as np\n",
    "from autograd import grad, jacobian\n",
    "np.set_printoptions(precision=3, suppress=True)\n",
    "\n",
    "from differentiable_sorting import bitonic_matrices, diff_sort, diff_argsort, softmax, smoothmax\n",
    "sort_matrices = bitonic_matrices(8)\n",
    "\n",
    "# test data, length 8\n",
    "x = [5.0, -1.0, 9.5, 13.2, 16.2, 20.5, 42.0, 18.0]"
   ]
  },
  {
   "cell_type": "code",
   "execution_count": 12,
   "metadata": {},
   "outputs": [
    {
     "name": "stdout",
     "output_type": "stream",
     "text": [
      "[-1.007  4.996  9.439 13.212 15.948 18.21  20.602 42.   ]\n"
     ]
    }
   ],
   "source": [
    "# uses logsumexp by default\n",
    "print(diff_sort(sort_matrices, x)) "
   ]
  },
  {
   "cell_type": "code",
   "execution_count": 13,
   "metadata": {},
   "outputs": [
    {
     "name": "stdout",
     "output_type": "stream",
     "text": [
      "[-0.955  5.004  9.748 13.009 16.753 17.675 20.167 42.   ]\n"
     ]
    }
   ],
   "source": [
    "# use smoothmax\n",
    "print(diff_sort(sort_matrices, x, softmax=smoothmax)) "
   ]
  },
  {
   "cell_type": "code",
   "execution_count": 14,
   "metadata": {},
   "outputs": [
    {
     "name": "stdout",
     "output_type": "stream",
     "text": [
      "Smoothing: 1.0\n",
      "[-0.955  5.004  9.748 13.009 16.753 17.675 20.167 42.   ]\n",
      "Smoothing: 0.75\n",
      "[-0.794  4.947 10.13  12.625 17.126 17.617 19.749 42.   ]\n",
      "Smoothing: 0.5\n",
      "[ 0.009  4.576 10.843 11.81  17.578 17.64  18.945 41.999]\n",
      "Smoothing: 0.0\n",
      "[15.425 15.425 15.425 15.425 15.425 15.425 15.425 15.425]\n",
      "Smoothing: -0.5\n",
      "[41.999 18.945 17.64  17.578 11.81  10.843  4.576  0.009]\n",
      "Smoothing: -1\n",
      "[42.    20.167 17.675 16.753 13.009  9.748  5.004 -0.955]\n"
     ]
    }
   ],
   "source": [
    "# we can relax towards averaging, and reverse the ordering by negating alpha \n",
    "for alpha in [1.0, 0.75, 0.5, 0.0, -0.5, -1]:\n",
    "    print(f\"Smoothing: {alpha}\")    \n",
    "    print(diff_sort(sort_matrices, x, lambda a,b: smoothmax(a,b, alpha=alpha))) "
   ]
  },
  {
   "cell_type": "code",
   "execution_count": 19,
   "metadata": {},
   "outputs": [
    {
     "name": "stdout",
     "output_type": "stream",
     "text": [
      "15.425\n"
     ]
    }
   ],
   "source": [
    "print(np.mean(x))"
   ]
  },
  {
   "cell_type": "code",
   "execution_count": 25,
   "metadata": {},
   "outputs": [
    {
     "name": "stdout",
     "output_type": "stream",
     "text": [
      "[0. 1. 2. 3. 7. 6. 5. 3.]\n"
     ]
    }
   ],
   "source": [
    "###### Ranking\n",
    "# We can rank as well\n",
    "x = np.array([1, 2, 3, 4, 8, 7, 6, 4])\n",
    "\n",
    "print(diff_argsort(sort_matrices, x))\n"
   ]
  },
  {
   "cell_type": "code",
   "execution_count": 26,
   "metadata": {},
   "outputs": [
    {
     "name": "stdout",
     "output_type": "stream",
     "text": [
      "[0.131 1.091 1.999 3.114 6.995 5.997 5.004 3.114]\n"
     ]
    }
   ],
   "source": [
    "# smoothed ranking function\n",
    "print(diff_argsort(sort_matrices, x, sigma=0.25))"
   ]
  },
  {
   "cell_type": "code",
   "execution_count": 27,
   "metadata": {},
   "outputs": [
    {
     "name": "stdout",
     "output_type": "stream",
     "text": [
      "[[ 2.162 -1.059 -0.523 -0.287 -0.01  -0.018 -0.056 -0.21 ]\n",
      " [-0.066  0.562 -0.186 -0.155 -0.005 -0.011 -0.035 -0.105]\n",
      " [-0.012 -0.013  0.041 -0.005 -0.    -0.001 -0.002 -0.008]\n",
      " [-0.012 -0.025 -0.108  0.564 -0.05  -0.086 -0.141 -0.14 ]\n",
      " [-0.001 -0.001 -0.003 -0.005  0.104 -0.058 -0.028 -0.008]\n",
      " [-0.    -0.001 -0.002 -0.004 -0.001  0.028 -0.012 -0.007]\n",
      " [-0.    -0.    -0.001 -0.002 -0.016 -0.018  0.038 -0.001]\n",
      " [-0.012 -0.025 -0.108 -0.209 -0.05  -0.086 -0.141  0.633]]\n"
     ]
    }
   ],
   "source": [
    "jac_rank = jacobian(diff_argsort, argnum=1)\n",
    "print(jac_rank(sort_matrices, np.array(x), 0.25))"
   ]
  },
  {
   "cell_type": "code",
   "execution_count": 28,
   "metadata": {},
   "outputs": [
    {
     "name": "stdout",
     "output_type": "stream",
     "text": [
      "x [ 41   2  30  40  50  60  70 190]\n",
      "d_rank/dx [-0.679 -0.    -0.     0.679 -0.    -0.    -0.     0.   ]\n"
     ]
    }
   ],
   "source": [
    "# which elements cause the biggest change in ranking if adjusted?\n",
    "# we can compute this directly:\n",
    "\n",
    "# 41 and 40 are close to being tied:\n",
    "x = [41, 2, 30, 40, 50, 60, 70, 190]\n",
    "\n",
    "# approximate change in rank as first moment of ranks\n",
    "rank_change = lambda x: np.sum((diff_argsort(sort_matrices, x, sigma=1) * np.arange(1,9)))\n",
    "grad_rank_change = grad(rank_change)\n",
    "print(\"x\", np.array(x))\n",
    "print(\"d_rank/dx\", grad_rank_change(np.array(x)))\n"
   ]
  },
  {
   "cell_type": "code",
   "execution_count": null,
   "metadata": {},
   "outputs": [],
   "source": []
  }
 ],
 "metadata": {
  "kernelspec": {
   "display_name": "Python 3",
   "language": "python",
   "name": "python3"
  },
  "language_info": {
   "codemirror_mode": {
    "name": "ipython",
    "version": 3
   },
   "file_extension": ".py",
   "mimetype": "text/x-python",
   "name": "python",
   "nbconvert_exporter": "python",
   "pygments_lexer": "ipython3",
   "version": "3.7.3"
  }
 },
 "nbformat": 4,
 "nbformat_minor": 2
}
